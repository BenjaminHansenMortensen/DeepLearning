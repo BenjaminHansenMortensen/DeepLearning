{
 "cells": [
  {
   "cell_type": "markdown",
   "source": [
    "Project 3: Natural Language Processing"
   ],
   "metadata": {
    "collapsed": false
   }
  },
  {
   "cell_type": "markdown",
   "source": [
    "--- Word Embeddings ---"
   ],
   "metadata": {
    "collapsed": false
   }
  },
  {
   "cell_type": "code",
   "execution_count": 5,
   "outputs": [
    {
     "data": {
      "text/plain": "<torch._C.Generator at 0x7f26e39ae170>"
     },
     "execution_count": 5,
     "metadata": {},
     "output_type": "execute_result"
    }
   ],
   "source": [
    "import torch\n",
    "import torch.nn as nn\n",
    "import torch.nn.functional as F\n",
    "import torch.optim as optim\n",
    "from os import listdir\n",
    "from torchtext.vocab import build_vocab_from_iterator\n",
    "from torchtext.data import get_tokenizer\n",
    "from torch.utils.data import DataLoader, TensorDataset\n",
    "import matplotlib.pyplot as plt\n",
    "import time\n",
    "from datetime import datetime\n",
    "import re\n",
    "\n",
    "torch.manual_seed(1)"
   ],
   "metadata": {
    "collapsed": false
   }
  },
  {
   "cell_type": "markdown",
   "source": [
    "Dataset Familiarization:"
   ],
   "metadata": {
    "collapsed": false
   }
  },
  {
   "cell_type": "code",
   "execution_count": 6,
   "outputs": [
    {
     "name": "stdout",
     "output_type": "stream",
     "text": [
      "Total number of words in the training dataset: 1368807\n",
      "Number of distinct words in the training dataset: 30374\n",
      "Number of distinct words kept in the training dataset: 1050\n"
     ]
    }
   ],
   "source": [
    "# tokenizer will split a long text into a list of english words\n",
    "tokenizer = get_tokenizer('basic_english')\n",
    "\n",
    "def read_files(datapath='../dataset/data_train'):\n",
    "    # Find all txt files in directory\n",
    "    files = listdir(datapath)\n",
    "    files = [datapath + \"/\" + f for f in files if f.endswith(\".txt\")]\n",
    "\n",
    "    # Stores each line of each book in a list\n",
    "    lines = []\n",
    "    for f_name in files:\n",
    "        with open(f_name) as f:\n",
    "            lines += f.readlines()\n",
    "    return lines\n",
    "\n",
    "books_train = read_files()\n",
    "books_val = read_files('../dataset/data_val')\n",
    "books_test = read_files('../dataset/data_test')\n",
    "\n",
    "# Match any word containing digit\n",
    "no_digits = '\\w*[0-9]+\\w*'\n",
    "# Match word containing a uppercase\n",
    "no_names = '\\w*[A-Z]+\\w*'\n",
    "# Match any sequence containing more than one space\n",
    "no_spaces = '\\s+'\n",
    "\n",
    "def tokenize(lines):\n",
    "    list_text = []\n",
    "    for line in lines:\n",
    "        list_text += tokenizer(line)\n",
    "    return list_text\n",
    "\n",
    "def yield_tokens(lines):\n",
    "    for line in lines:\n",
    "        line = re.sub(no_digits + \"|\" + no_names, ' ', line)\n",
    "        line = re.sub(no_spaces, ' ', line)\n",
    "        yield tokenizer(line)\n",
    "\n",
    "def count_freqs(data, vocab):\n",
    "    freqs = torch.zeros(len(vocab), dtype=torch.int)\n",
    "    for w in data:\n",
    "        freqs[vocab[w]] += 1\n",
    "    return freqs\n",
    "\n",
    "# List of words contained in the dataset\n",
    "list_words_train = tokenize(books_train)\n",
    "list_words_val = tokenize(books_val)\n",
    "list_words_test = tokenize(books_test)\n",
    "\n",
    "# vocab contains the vocabulary found in the data, associating an index to each word\n",
    "vocab = build_vocab_from_iterator(yield_tokens(books_train), min_freq=100, specials=[\"<unk>\"])\n",
    "\n",
    "# Since we removed all words with an uppercase when building the vocabulary, we skipped the word \"I\"\n",
    "vocab.append_token(\"i\")\n",
    "\n",
    "# Value of default index. This index will be returned when OOV (Out Of Vocabulary) token is queried.\n",
    "vocab.set_default_index(vocab[\"<unk>\"])\n",
    "vocab_size = len(vocab)\n",
    "\n",
    "\n",
    "print(\"Total number of words in the training dataset:\", len(list_words_train))\n",
    "print(\"Number of distinct words in the training dataset:\", len(set(list_words_train)))\n",
    "print(\"Number of distinct words kept in the training dataset:\", vocab_size)"
   ],
   "metadata": {
    "collapsed": false
   }
  },
  {
   "cell_type": "markdown",
   "source": [
    "Create Datasets With Before Word Context:"
   ],
   "metadata": {
    "collapsed": false
   }
  },
  {
   "cell_type": "code",
   "execution_count": 7,
   "outputs": [],
   "source": [
    "index2word = {}\n",
    "\n",
    "for i in range(len(vocab)):\n",
    "    index2word[i] = vocab.lookup_token(i)"
   ],
   "metadata": {
    "collapsed": false
   }
  },
  {
   "cell_type": "code",
   "execution_count": 8,
   "outputs": [],
   "source": [
    "CONTEXT_SIZE = 4\n",
    "EMBEDDING_DIM = 16\n",
    "\n",
    "def create_dataset(\n",
    "    text, vocab, context_size=CONTEXT_SIZE,\n",
    "):\n",
    "    contexts = []\n",
    "    targets = []\n",
    "    n_text = len(text)\n",
    "\n",
    "    # Transform the text as a list of integers.\n",
    "    txt = [vocab[w] for w in text]\n",
    "\n",
    "    for i in range(n_text - context_size):\n",
    "\n",
    "        # true label = 'is the next word a known word (i.e. not '<unk>' token)?'\n",
    "        if txt[i + context_size] == 0:\n",
    "            continue\n",
    "\n",
    "        t = txt[i+context_size]\n",
    "\n",
    "        # Context before\n",
    "        c = txt[i:i + context_size]\n",
    "\n",
    "        targets.append(t)\n",
    "        # Normally we should use word embedding, and not hot encoding, but we\n",
    "        # skip that part for this exercise\n",
    "        contexts.append(torch.tensor(c))\n",
    "\n",
    "    contexts = torch.stack(contexts)\n",
    "    targets = torch.tensor(targets)\n",
    "    return TensorDataset(contexts, targets)"
   ],
   "metadata": {
    "collapsed": false
   }
  },
  {
   "cell_type": "code",
   "execution_count": 9,
   "outputs": [],
   "source": [
    "data_train = create_dataset(list_words_train, vocab)\n",
    "data_val = create_dataset(list_words_val, vocab)\n",
    "data_test = create_dataset(list_words_test, vocab)\n",
    "\n",
    "train_loader = DataLoader(data_train, batch_size=64, shuffle=False)\n",
    "val_loader = DataLoader(data_val, batch_size=64, shuffle=False)\n",
    "test_loader = DataLoader(data_test, batch_size=64, shuffle=False)\n",
    "\n",
    "torch.save(train_loader, '../saved_sets/train.pkl')\n",
    "torch.save(val_loader, '../saved_sets/val.pkl')\n",
    "torch.save(test_loader, '../saved_sets/test.pkl')"
   ],
   "metadata": {
    "collapsed": false
   }
  },
  {
   "cell_type": "code",
   "execution_count": 10,
   "outputs": [],
   "source": [
    "# train_loader = torch.load('../saved_sets/train.pkl')\n",
    "# val_loader = torch.load('../saved_sets/val.pkl')\n",
    "# test_loader = torch.load('../saved_sets/test.pkl')"
   ],
   "metadata": {
    "collapsed": false
   }
  },
  {
   "cell_type": "code",
   "execution_count": 11,
   "outputs": [],
   "source": [
    "device = torch.device('cpu')\n",
    "\n",
    "def train(n_epochs, optimizer, model, loss_fn, train_loader):\n",
    "    n_batch = len(train_loader)\n",
    "    model.train()\n",
    "    losses_train = []\n",
    "    optimizer.zero_grad(set_to_none=True)\n",
    "\n",
    "    for epoch in range(1, n_epochs + 1):\n",
    "\n",
    "        loss_train = 0.0\n",
    "        for contexts, labels in train_loader:\n",
    "\n",
    "            contexts = contexts.to(device=device, dtype=torch.long)\n",
    "            labels = labels.to(device=device, dtype=torch.long)\n",
    "\n",
    "            outputs = model(contexts).squeeze()\n",
    "\n",
    "            loss = loss_fn(outputs, labels)\n",
    "            loss.backward()\n",
    "            optimizer.step()\n",
    "            optimizer.zero_grad()\n",
    "\n",
    "            loss_train += loss.item()\n",
    "\n",
    "        losses_train.append(loss_train / n_batch)\n",
    "\n",
    "        print('{}  |  Epoch {}  |  Training loss {:.5f}'.format(\n",
    "            datetime.now().time(), epoch, loss_train / n_batch))\n",
    "    return losses_train"
   ],
   "metadata": {
    "collapsed": false
   }
  },
  {
   "cell_type": "markdown",
   "source": [
    "Define Three MLP Architectures:"
   ],
   "metadata": {
    "collapsed": false
   }
  },
  {
   "cell_type": "code",
   "execution_count": 12,
   "outputs": [],
   "source": [
    "class NGramModel1(nn.Module):\n",
    "    def __init__(self, vocab_size, embedding_dim, context_size, hidden_size):\n",
    "        super(NGramModel1, self).__init__()\n",
    "        self.embeddings = nn.Embedding(vocab_size, embedding_dim)\n",
    "        self.linear1 = nn.Linear(context_size * embedding_dim, 64)\n",
    "        self.linear2 = nn.Linear(64, 96)\n",
    "        self.linear3 = nn.Linear(96, 128)\n",
    "        self.linear4 = nn.Linear(128, vocab_size)\n",
    "\n",
    "    def forward(self, inputs):\n",
    "        embeds = self.embeddings(inputs)\n",
    "        embeds = torch.flatten(embeds, 1)\n",
    "        out = F.relu(self.linear1(embeds))\n",
    "        out = F.relu(self.linear2(out))\n",
    "        out = F.relu(self.linear3(out))\n",
    "        out = self.linear4(out)\n",
    "        return out"
   ],
   "metadata": {
    "collapsed": false
   }
  },
  {
   "cell_type": "code",
   "execution_count": 21,
   "outputs": [],
   "source": [
    "class NGramModel2(nn.Module):\n",
    "    def __init__(self, vocab_size, embedding_dim, context_size, hidden_size):\n",
    "        super(NGramModel2, self).__init__()\n",
    "        self.embeddings = nn.Embedding(vocab_size, embedding_dim)\n",
    "        self.linear1 = nn.Linear(context_size * embedding_dim, 64)\n",
    "        self.linear2 = nn.Linear(64, 48)\n",
    "        self.linear3 = nn.Linear(48, vocab_size)\n",
    "\n",
    "    def forward(self, inputs):\n",
    "        embeds = self.embeddings(inputs)\n",
    "        embeds = torch.flatten(embeds, 1)\n",
    "        out = F.relu(self.linear1(embeds))\n",
    "        out = F.relu(self.linear2(out))\n",
    "        out = self.linear3(out)\n",
    "        return out"
   ],
   "metadata": {
    "collapsed": false
   }
  },
  {
   "cell_type": "code",
   "execution_count": 22,
   "outputs": [],
   "source": [
    "class NGramModel3(nn.Module):\n",
    "    def __init__(self, vocab_size, embedding_dim, context_size, hidden_size):\n",
    "        super(NGramModel3, self).__init__()\n",
    "        self.embeddings = nn.Embedding(vocab_size, embedding_dim)\n",
    "        self.linear1 = nn.Linear(context_size * embedding_dim, 32)\n",
    "        self.linear2 = nn.Linear(32, vocab_size)\n",
    "\n",
    "    def forward(self, inputs):\n",
    "        embeds = self.embeddings(inputs)\n",
    "        embeds = torch.flatten(embeds, 1)\n",
    "        out = F.relu(self.linear1(embeds))\n",
    "        out = self.linear2(out)\n",
    "        return out"
   ],
   "metadata": {
    "collapsed": false
   }
  },
  {
   "cell_type": "code",
   "execution_count": 15,
   "outputs": [],
   "source": [
    "# Model parameters\n",
    "EPOCHS = 5  # Epochs\n",
    "BATCH_SIZE = 64  # Batch size  // Not used yet\n",
    "\n",
    "#Optimizer parameters\n",
    "LR = 1e-3  # Learning Rate\n",
    "BETAS = (0.9, 0.999)  # ADAM Momentum and RSMProp Betas\n",
    "EPSILON = 1e-8  # ADAM Vanishing and Exploding Gradients\n",
    "LAMBDA = 1e-8  # L2 Regularization\n",
    "\n",
    "# Not used in the model\n",
    "SHALLOW_HIDDEN_SIZE = 32\n",
    "MIDDLE_HIDDEN_SIZE = 48\n",
    "DEEP_HIDDEN_SIZE = 64"
   ],
   "metadata": {
    "collapsed": false
   }
  },
  {
   "cell_type": "markdown",
   "source": [
    "Train Word Embeddings Selecting The Best Model:"
   ],
   "metadata": {
    "collapsed": false
   }
  },
  {
   "cell_type": "code",
   "execution_count": 16,
   "outputs": [],
   "source": [
    "models, model_names, losses = [], [], []"
   ],
   "metadata": {
    "collapsed": false
   }
  },
  {
   "cell_type": "code",
   "execution_count": 17,
   "outputs": [
    {
     "name": "stdout",
     "output_type": "stream",
     "text": [
      "12:14:21.858582  |  Epoch 1  |  Training loss 4.28950\n",
      "12:15:35.515551  |  Epoch 2  |  Training loss 4.01019\n",
      "12:16:56.233934  |  Epoch 3  |  Training loss 3.95965\n",
      "12:18:44.210070  |  Epoch 4  |  Training loss 3.93537\n",
      "12:20:43.574178  |  Epoch 5  |  Training loss 3.92089\n"
     ]
    }
   ],
   "source": [
    "loss_function = nn.CrossEntropyLoss()\n",
    "model1 = NGramModel1(vocab_size, EMBEDDING_DIM, CONTEXT_SIZE, DEEP_HIDDEN_SIZE)\n",
    "\n",
    "optimizer = optim.RAdam(model1.parameters(), lr=LR, betas=BETAS, eps=EPSILON, weight_decay=LAMBDA)\n",
    "\n",
    "loss = train(\n",
    "    EPOCHS,\n",
    "    optimizer,\n",
    "    model1,\n",
    "    loss_function,\n",
    "    train_loader\n",
    ")\n",
    "\n",
    "models.append(model1)\n",
    "model_names.append(\"DEEP MODEL\")\n",
    "losses.append(loss)"
   ],
   "metadata": {
    "collapsed": false
   }
  },
  {
   "cell_type": "code",
   "execution_count": 23,
   "outputs": [
    {
     "name": "stdout",
     "output_type": "stream",
     "text": [
      "12:24:27.563785  |  Epoch 1  |  Training loss 4.35928\n",
      "12:25:36.150316  |  Epoch 2  |  Training loss 4.04525\n",
      "12:26:33.219255  |  Epoch 3  |  Training loss 3.98653\n",
      "12:27:42.980732  |  Epoch 4  |  Training loss 3.95924\n",
      "12:28:45.328347  |  Epoch 5  |  Training loss 3.94346\n"
     ]
    }
   ],
   "source": [
    "loss_function = nn.CrossEntropyLoss()\n",
    "model2 = NGramModel2(vocab_size, EMBEDDING_DIM, CONTEXT_SIZE, MIDDLE_HIDDEN_SIZE)\n",
    "\n",
    "optimizer = optim.RAdam(model2.parameters(), lr=LR, betas=BETAS, eps=EPSILON, weight_decay=LAMBDA)\n",
    "\n",
    "loss = train(\n",
    "    EPOCHS,\n",
    "    optimizer,\n",
    "    model2,\n",
    "    loss_function,\n",
    "    train_loader\n",
    ")\n",
    "\n",
    "models.append(model2)\n",
    "model_names.append(\"MIDDLE MODEL\")\n",
    "losses.append(loss)"
   ],
   "metadata": {
    "collapsed": false
   }
  },
  {
   "cell_type": "code",
   "execution_count": 24,
   "outputs": [
    {
     "name": "stdout",
     "output_type": "stream",
     "text": [
      "12:29:40.828641  |  Epoch 1  |  Training loss 4.44506\n",
      "12:30:37.319830  |  Epoch 2  |  Training loss 4.09581\n",
      "12:31:24.150869  |  Epoch 3  |  Training loss 4.04229\n",
      "12:32:04.675472  |  Epoch 4  |  Training loss 4.01979\n",
      "12:32:44.681626  |  Epoch 5  |  Training loss 4.00795\n"
     ]
    }
   ],
   "source": [
    "loss_function = nn.CrossEntropyLoss()\n",
    "model3 = NGramModel3(vocab_size, EMBEDDING_DIM, CONTEXT_SIZE, MIDDLE_HIDDEN_SIZE)\n",
    "\n",
    "optimizer = optim.RAdam(model3.parameters(), lr=LR, betas=BETAS, eps=EPSILON, weight_decay=LAMBDA)\n",
    "\n",
    "loss = train(\n",
    "    EPOCHS,\n",
    "    optimizer,\n",
    "    model3,\n",
    "    loss_function,\n",
    "    train_loader\n",
    ")\n",
    "\n",
    "models.append(model3)\n",
    "model_names.append(\"SHALLOW MODEL\")\n",
    "losses.append(loss)"
   ],
   "metadata": {
    "collapsed": false
   }
  },
  {
   "cell_type": "code",
   "execution_count": 25,
   "outputs": [
    {
     "data": {
      "text/plain": "<Figure size 640x480 with 1 Axes>",
      "image/png": "[encoded data removed]"
     },
     "metadata": {},
     "output_type": "display_data"
    }
   ],
   "source": [
    "for i, e in zip(losses, model_names):\n",
    "    plt.plot(i, label=e)\n",
    "    plt.legend()\n",
    "plt.show()"
   ],
   "metadata": {
    "collapsed": false
   }
  },
  {
   "cell_type": "code",
   "execution_count": 26,
   "outputs": [],
   "source": [
    "def compute_accuracy(model, loader):\n",
    "    correct = 0.\n",
    "    total = 0.\n",
    "    with torch.no_grad():\n",
    "        for contexts, labels in loader:\n",
    "            contexts = contexts.to(device=device)\n",
    "            labels = labels.to(device=device)\n",
    "\n",
    "            outputs = model(contexts)\n",
    "            _, predicted = torch.max(outputs, dim=1)\n",
    "            total += BATCH_SIZE\n",
    "            correct += int((predicted == labels).sum())\n",
    "\n",
    "    acc =  correct / total\n",
    "    return acc"
   ],
   "metadata": {
    "collapsed": false
   }
  },
  {
   "cell_type": "code",
   "execution_count": 27,
   "outputs": [],
   "source": [
    "def find_best_model(loader):\n",
    "    max_accuracy = 0\n",
    "    best_model = 0\n",
    "    for i in range(len(models)):\n",
    "        model_accuracy = round(compute_accuracy(models[i], loader) * 100)\n",
    "\n",
    "        if model_accuracy > max_accuracy:\n",
    "            max_accuracy = model_accuracy\n",
    "            best_model = i\n",
    "\n",
    "    print(\"Best model is:\", model_names[best_model])\n",
    "\n",
    "    return models[best_model]"
   ],
   "metadata": {
    "collapsed": false
   }
  },
  {
   "cell_type": "code",
   "execution_count": 28,
   "outputs": [
    {
     "name": "stdout",
     "output_type": "stream",
     "text": [
      "Best model is: DEEP MODEL\n"
     ]
    }
   ],
   "source": [
    "best_model_emd = find_best_model(val_loader)"
   ],
   "metadata": {
    "collapsed": false
   }
  },
  {
   "cell_type": "code",
   "execution_count": 29,
   "outputs": [
    {
     "name": "stdout",
     "output_type": "stream",
     "text": [
      "Test set accuracy of the best model is 18.29%\n"
     ]
    }
   ],
   "source": [
    "print(\"Test set accuracy of the best model is \" + str(round(compute_accuracy(best_model_emd, test_loader) * 100, 2)) + \"%\")"
   ],
   "metadata": {
    "collapsed": false
   }
  },
  {
   "cell_type": "markdown",
   "source": [
    "Calculate Cosine Similarity For Word Similarity:"
   ],
   "metadata": {
    "collapsed": false
   }
  },
  {
   "cell_type": "code",
   "execution_count": 54,
   "outputs": [],
   "source": [
    "cos = nn.CosineSimilarity(dim=1, eps=EPSILON)\n",
    "embd_weights = best_model_emd.embeddings.weight\n",
    "cosineSimilarityMatrix = [[0 for i in range(embd_weights.shape[0])] for j in range(embd_weights.shape[0])]\n",
    "\n",
    "for i in range(embd_weights.shape[0]):\n",
    "    for j in range(embd_weights.shape[0]):\n",
    "        cosineSimilarityMatrix[i][j] = F.cosine_similarity(embd_weights[i], embd_weights[j], dim=0).item()\n",
    "\n",
    "words_displayed = 10\n",
    "for i in range(len(cosineSimilarityMatrix)):\n",
    "    for j in range(len(cosineSimilarityMatrix[0])):\n",
    "        if i == 0 or j == 0:\n",
    "                continue\n",
    "        elif 0.8 < cosineSimilarityMatrix[i][j] < 1.0:  # Describes how equal two vectors are and should be increased with more precise embeddings\n",
    "            if words_displayed < 10:\n",
    "                print(\"\\'\" + index2word[i] + \"\\'\" + \" is similar to \" +  \"\\'\" + index2word[j] + \"\\'\")\n",
    "                words_displayed += 1\n",
    "            else:\n",
    "                break"
   ],
   "metadata": {
    "collapsed": false
   }
  },
  {
   "cell_type": "markdown",
   "source": [
    "Display and Storing of Similar Words (embedd.tsv)"
   ],
   "metadata": {
    "collapsed": false
   }
  },
  {
   "cell_type": "code",
   "execution_count": 31,
   "outputs": [],
   "source": [
    "import pandas as pd\n",
    "var = vocab.to()\n",
    "voc_dict = var.vocab.get_stoi()\n",
    "vocab_list = [x for x in voc_dict.keys()]\n",
    "df = pd.DataFrame(vocab_list).to_csv('../website/vocab.tsv', header=False, index=False, sep=\"\\t\")"
   ],
   "metadata": {
    "collapsed": false
   }
  },
  {
   "cell_type": "code",
   "execution_count": 32,
   "outputs": [],
   "source": [
    "track = []\n",
    "for word in range(len(vocab_list)):\n",
    "    ind = torch.tensor(word, dtype=torch.int).cpu()\n",
    "    emb = best_model_emd.embeddings(ind)\n",
    "    track.append(emb.tolist())\n",
    "df2 = pd.DataFrame(track).to_csv('../website/embedd.tsv', header=False, index=False, sep=\"\\t\")"
   ],
   "metadata": {
    "collapsed": false
   }
  },
  {
   "cell_type": "markdown",
   "source": [
    "--- RNN vs MLP Comparison ---"
   ],
   "metadata": {
    "collapsed": false
   }
  },
  {
   "cell_type": "markdown",
   "source": [
    "Create Datasets With Between Context For Conjugates:"
   ],
   "metadata": {
    "collapsed": false
   }
  },
  {
   "cell_type": "code",
   "execution_count": 33,
   "outputs": [],
   "source": [
    "conjugations = ['am', 'are', 'is', 'has', 'were', 'was', 'being', 'been','be', 'have', 'had', 'having']\n",
    "\n",
    "CONTEXT_SIZE = 4\n",
    "EMBEDDING_DIM = 16\n",
    "\n",
    "conj_vocab = {}\n",
    "for i in range(len(conjugations)):\n",
    "    conj_vocab[vocab[conjugations[i]]] = i\n",
    "\n",
    "def create_dataset_between(\n",
    "    text, vocab, context_size=2,\n",
    "):\n",
    "    contexts = []\n",
    "    targets = []\n",
    "    n_text = len(text)\n",
    "\n",
    "    # Transform the text as a list of integers.\n",
    "    txt = [vocab[w] for w in text]\n",
    "\n",
    "    for i in range(1, n_text - context_size - 2):\n",
    "\n",
    "        # true label = 'is the next word a known word (i.e. not '<unk>' token)?'\n",
    "        if txt[i] == 0 or index2word[txt[i]] not in conjugations:\n",
    "            continue\n",
    "\n",
    "        t = conj_vocab[txt[i]]\n",
    "\n",
    "        # Context before/after\n",
    "        # c = [txt[i - 1]] + [txt[i + 1]]\n",
    "        c = txt[i - int(CONTEXT_SIZE / 2) :i] + txt[i + 1 : i + 1 + int(CONTEXT_SIZE / 2)]\n",
    "\n",
    "        targets.append(t)\n",
    "        # Normally we should use word embedding, and not hot encoding, but we\n",
    "        # skip that part for this exercise\n",
    "        contexts.append(torch.tensor(c))\n",
    "\n",
    "    contexts = torch.stack(contexts)\n",
    "    targets = torch.tensor(targets)\n",
    "    return TensorDataset(contexts, targets)\n",
    "\n",
    "data_train_between = create_dataset_between(list_words_train, vocab)\n",
    "data_val_between = create_dataset_between(list_words_val, vocab)\n",
    "data_test_between = create_dataset_between(list_words_test, vocab)"
   ],
   "metadata": {
    "collapsed": false
   }
  },
  {
   "cell_type": "code",
   "execution_count": 34,
   "outputs": [],
   "source": [
    "train_loader_between = DataLoader(data_train_between, batch_size=64, shuffle=False)\n",
    "val_loader_between = DataLoader(data_val_between, batch_size=64, shuffle=False)\n",
    "test_loader_between = DataLoader(data_test_between, batch_size=64, shuffle=False)"
   ],
   "metadata": {
    "collapsed": false
   }
  },
  {
   "cell_type": "markdown",
   "source": [
    "Define Two MLP Models and Two RNN Models:"
   ],
   "metadata": {
    "collapsed": false
   }
  },
  {
   "cell_type": "code",
   "execution_count": 35,
   "outputs": [],
   "source": [
    "class MLP1(nn.Module):\n",
    "  def __init__(self, embedding_dim, context_size, num_classes, hidden_size):\n",
    "    super(MLP1, self).__init__()\n",
    "    self.embeddings = best_model_emd.embeddings\n",
    "    #self.embeddings = nn.Embedding.from_pretrained(best_model_emd.embeddings, freeze=True)\n",
    "    self.linear1 = nn.Linear(context_size * embedding_dim, 64)\n",
    "    self.linear2 = nn.Linear(64, 96)\n",
    "    self.linear3 = nn.Linear(96, 128)\n",
    "    self.output = nn.Linear(128, num_classes)\n",
    "\n",
    "  def forward(self, x):\n",
    "    embeds = self.embeddings(x)\n",
    "    embeds = torch.flatten(embeds, 1)\n",
    "    out = F.relu(self.linear1(embeds))\n",
    "    out = F.relu(self.linear2(out))\n",
    "    out = F.relu(self.linear3(out))\n",
    "    out = self.output(out)\n",
    "    return out"
   ],
   "metadata": {
    "collapsed": false
   }
  },
  {
   "cell_type": "code",
   "execution_count": 36,
   "outputs": [],
   "source": [
    "class RNN1(nn.Module):\n",
    "    def __init__(self, embedding_dim, num_classes, hidden_size, num_layers):\n",
    "        super(RNN1, self).__init__()\n",
    "        self.embeddings = best_model_emd.embeddings\n",
    "        #self.embeddings = nn.Embedding.from_pretrained(best_model_emd.embeddings, freeze=True)\n",
    "        self.lstm = nn.LSTM(embedding_dim, hidden_size=hidden_size, batch_first=True, num_layers=num_layers)\n",
    "        self.output = nn.Linear(hidden_size, num_classes)\n",
    "\n",
    "    def forward(self, x):\n",
    "        embeds = self.embeddings(x)\n",
    "        out, (h_n, c_n) = self.lstm(embeds)\n",
    "        out = self.output(h_n[-1])\n",
    "        return out"
   ],
   "metadata": {
    "collapsed": false
   }
  },
  {
   "cell_type": "code",
   "execution_count": 37,
   "outputs": [],
   "source": [
    "class MLP2(nn.Module):\n",
    "  def __init__(self, embedding_dim, context_size, num_classes, hidden_size):\n",
    "    super(MLP2, self).__init__()\n",
    "    self.embeddings = best_model_emd.embeddings\n",
    "    #self.embeddings = nn.Embedding.from_pretrained(best_model_emd.embeddings, freeze=True)\n",
    "    self.linear = nn.Linear(context_size * embedding_dim, hidden_size)\n",
    "    self.output = nn.Linear(hidden_size, num_classes)\n",
    "\n",
    "  def forward(self, x):\n",
    "    embeds = self.embeddings(x)\n",
    "    embeds = torch.flatten(embeds, 1)\n",
    "    out = F.relu(self.linear(embeds))\n",
    "    out = self.output(out)\n",
    "    return out"
   ],
   "metadata": {
    "collapsed": false
   }
  },
  {
   "cell_type": "code",
   "execution_count": 38,
   "outputs": [],
   "source": [
    "class RNN2(nn.Module):\n",
    "    def __init__(self, embedding_dim, num_classes, hidden_size, num_layers):\n",
    "        super(RNN2, self).__init__()\n",
    "        self.embeddings = best_model_emd.embeddings\n",
    "        #self.embeddings = nn.Embedding.from_pretrained(best_model_emd.embeddings, freeze=True)\n",
    "        self.lstm = nn.LSTM(embedding_dim, hidden_size=hidden_size, batch_first=True, num_layers=num_layers)\n",
    "        self.output = nn.Linear(hidden_size, num_classes)\n",
    "\n",
    "    def forward(self, x):\n",
    "        embeds = self.embeddings(x)\n",
    "        out, (h_n, c_n) = self.lstm(embeds)\n",
    "        out = self.output(h_n[-1])\n",
    "        return out"
   ],
   "metadata": {
    "collapsed": false
   }
  },
  {
   "cell_type": "code",
   "execution_count": 39,
   "outputs": [],
   "source": [
    "# Model parameters\n",
    "EPOCHS = 5  # Epochs\n",
    "BATCH_SIZE = 64  # Batch size  // Not used yet\n",
    "\n",
    "#Optimizer parameters\n",
    "LR = 1e-3  # Learning Rate\n",
    "BETAS = (0.9, 0.999)  # ADAM Momentum and RSMProp Betas\n",
    "EPSILON = 1e-8  # ADAM Vanishing and Exploding Gradients\n",
    "LAMBDA = 1e-8  # L2 Regularization\n",
    "\n",
    "MLP_SHALLOW_HIDDEN_SIZE = 32\n",
    "MLP_DEEP_HIDDEN_SIZE = 64\n",
    "\n",
    "RNN_DEEP_HIDDEN_SIZE = 128\n",
    "NUMBER_OF_LAYERS_DEEP = 3\n",
    "\n",
    "RNN_SHALLOW_HIDDEN_SIZE = 32\n",
    "NUMBER_OF_LAYERS_SHALLOW = 1\n",
    "\n",
    "models, model_names, losses, time_mlp, time_rnn = [], [], [], [], []"
   ],
   "metadata": {
    "collapsed": false
   }
  },
  {
   "cell_type": "markdown",
   "source": [
    "Train Models Selecting The Best:"
   ],
   "metadata": {
    "collapsed": false
   }
  },
  {
   "cell_type": "code",
   "execution_count": 40,
   "outputs": [
    {
     "name": "stdout",
     "output_type": "stream",
     "text": [
      "12:33:48.853806  |  Epoch 1  |  Training loss 1.59362\n",
      "12:33:51.305908  |  Epoch 2  |  Training loss 1.19726\n",
      "12:33:53.641268  |  Epoch 3  |  Training loss 1.09676\n",
      "12:33:55.950599  |  Epoch 4  |  Training loss 1.04242\n",
      "12:33:58.450649  |  Epoch 5  |  Training loss 1.00574\n"
     ]
    }
   ],
   "source": [
    "loss_function = nn.CrossEntropyLoss()\n",
    "\n",
    "model1 = MLP1(EMBEDDING_DIM, CONTEXT_SIZE, len(conjugations), DEEP_HIDDEN_SIZE)\n",
    "optimizer = optim.RAdam(model1.parameters(), lr=LR, betas=BETAS, eps=EPSILON, weight_decay=LAMBDA)\n",
    "star_time = time.time()\n",
    "loss = train(\n",
    "    EPOCHS,\n",
    "    optimizer,\n",
    "    model1,\n",
    "    loss_function,\n",
    "    train_loader_between\n",
    ")\n",
    "time_mlp.append(time.time() - star_time)\n",
    "models.append(model1)\n",
    "model_names.append(\"Deep MLP\")\n",
    "losses.append(loss)"
   ],
   "metadata": {
    "collapsed": false
   }
  },
  {
   "cell_type": "code",
   "execution_count": 41,
   "outputs": [
    {
     "name": "stdout",
     "output_type": "stream",
     "text": [
      "12:34:07.684953  |  Epoch 1  |  Training loss 1.67653\n",
      "12:34:17.464132  |  Epoch 2  |  Training loss 1.17070\n",
      "12:34:27.775851  |  Epoch 3  |  Training loss 1.08045\n",
      "12:34:35.803263  |  Epoch 4  |  Training loss 1.03376\n",
      "12:34:47.164857  |  Epoch 5  |  Training loss 1.00224\n"
     ]
    }
   ],
   "source": [
    "loss_function = nn.CrossEntropyLoss()\n",
    "\n",
    "model2 = RNN1(EMBEDDING_DIM, len(conjugations), DEEP_HIDDEN_SIZE, NUMBER_OF_LAYERS_DEEP)\n",
    "optimizer = optim.RAdam(model2.parameters(), lr=LR, betas=BETAS, eps=EPSILON, weight_decay=LAMBDA)\n",
    "star_time = time.time()\n",
    "loss = train(\n",
    "    EPOCHS,\n",
    "    optimizer,\n",
    "    model2,\n",
    "    loss_function,\n",
    "    train_loader_between\n",
    ")\n",
    "time_rnn.append(time.time() - star_time)\n",
    "models.append(model2)\n",
    "model_names.append(\"Deep RNN\")\n",
    "losses.append(loss)"
   ],
   "metadata": {
    "collapsed": false
   }
  },
  {
   "cell_type": "code",
   "execution_count": 42,
   "outputs": [
    {
     "name": "stdout",
     "output_type": "stream",
     "text": [
      "12:34:49.212071  |  Epoch 1  |  Training loss 1.64961\n",
      "12:34:51.837932  |  Epoch 2  |  Training loss 1.10069\n",
      "12:34:54.675107  |  Epoch 3  |  Training loss 1.03457\n",
      "12:34:57.291879  |  Epoch 4  |  Training loss 1.00717\n",
      "12:34:59.478250  |  Epoch 5  |  Training loss 0.98906\n"
     ]
    }
   ],
   "source": [
    "loss_function = nn.CrossEntropyLoss()\n",
    "\n",
    "model3 = MLP2(EMBEDDING_DIM, CONTEXT_SIZE, len(conjugations), SHALLOW_HIDDEN_SIZE)\n",
    "optimizer = optim.RAdam(model3.parameters(), lr=LR, betas=BETAS, eps=EPSILON, weight_decay=LAMBDA)\n",
    "star_time = time.time()\n",
    "loss = train(\n",
    "    EPOCHS,\n",
    "    optimizer,\n",
    "    model3,\n",
    "    loss_function,\n",
    "    train_loader_between\n",
    ")\n",
    "time_mlp.append(time.time() - star_time)\n",
    "models.append(model3)\n",
    "model_names.append(\"SHALLOW MLP\")\n",
    "losses.append(loss)"
   ],
   "metadata": {
    "collapsed": false
   }
  },
  {
   "cell_type": "code",
   "execution_count": 43,
   "outputs": [
    {
     "name": "stdout",
     "output_type": "stream",
     "text": [
      "12:35:03.750271  |  Epoch 1  |  Training loss 1.76667\n",
      "12:35:08.083676  |  Epoch 2  |  Training loss 1.14999\n",
      "12:35:11.237101  |  Epoch 3  |  Training loss 1.07085\n",
      "12:35:14.534116  |  Epoch 4  |  Training loss 1.03164\n",
      "12:35:18.940687  |  Epoch 5  |  Training loss 1.00692\n"
     ]
    }
   ],
   "source": [
    "loss_function = nn.CrossEntropyLoss()\n",
    "\n",
    "model4 = RNN2(EMBEDDING_DIM, len(conjugations), SHALLOW_HIDDEN_SIZE, NUMBER_OF_LAYERS_SHALLOW)\n",
    "optimizer = optim.RAdam(model4.parameters(), lr=LR, betas=BETAS, eps=EPSILON, weight_decay=LAMBDA)\n",
    "star_time = time.time()\n",
    "loss = train(\n",
    "    EPOCHS,\n",
    "    optimizer,\n",
    "    model4,\n",
    "    loss_function,\n",
    "    train_loader_between\n",
    ")\n",
    "time_rnn.append(time.time() - star_time)\n",
    "models.append(model4)\n",
    "model_names.append(\"SHALLOW RNN\")\n",
    "losses.append(loss)"
   ],
   "metadata": {
    "collapsed": false
   }
  },
  {
   "cell_type": "code",
   "execution_count": 44,
   "outputs": [
    {
     "data": {
      "text/plain": "<Figure size 640x480 with 1 Axes>",
      "image/png": "[encoded data removed]"
     },
     "metadata": {},
     "output_type": "display_data"
    }
   ],
   "source": [
    "for i, e in zip(losses, model_names):\n",
    "    plt.plot(i, label=e)\n",
    "    plt.legend()\n",
    "plt.show()"
   ],
   "metadata": {
    "collapsed": false
   }
  },
  {
   "cell_type": "code",
   "execution_count": 45,
   "outputs": [
    {
     "name": "stdout",
     "output_type": "stream",
     "text": [
      "Best model is: SHALLOW MLP\n"
     ]
    }
   ],
   "source": [
    "best_model = find_best_model(val_loader_between)"
   ],
   "metadata": {
    "collapsed": false
   }
  },
  {
   "cell_type": "code",
   "execution_count": 46,
   "outputs": [
    {
     "name": "stdout",
     "output_type": "stream",
     "text": [
      "Test set accuracy of the best model is 43.49%\n"
     ]
    }
   ],
   "source": [
    "print(\"Test set accuracy of the best model is \" + str(round(compute_accuracy(best_model, test_loader_between) * 100, 2)) + \"%\")"
   ],
   "metadata": {
    "collapsed": false
   }
  },
  {
   "cell_type": "markdown",
   "source": [
    "Compare Time Spent Training:"
   ],
   "metadata": {
    "collapsed": false
   }
  },
  {
   "cell_type": "code",
   "execution_count": 47,
   "outputs": [
    {
     "name": "stdout",
     "output_type": "stream",
     "text": [
      "Avrage time training MLP: 12.2 seconds vs average time training RNN 34.08 seconds\n"
     ]
    }
   ],
   "source": [
    "avg_time_mlp = 0\n",
    "avg_time_rnn = 0\n",
    "for i in range(len(time_mlp)):\n",
    "    avg_time_mlp += time_mlp[i]\n",
    "    avg_time_rnn += time_rnn[i]\n",
    "\n",
    "print(\"Avrage time training MLP:\", round(avg_time_mlp / len(time_mlp), 2), \"seconds vs average time training RNN\", round(avg_time_rnn / len(time_rnn), 2),\"seconds\")"
   ],
   "metadata": {
    "collapsed": false
   }
  },
  {
   "cell_type": "markdown",
   "source": [
    "--- Text Generation ---"
   ],
   "metadata": {
    "collapsed": false
   }
  },
  {
   "cell_type": "markdown",
   "source": [
    "Load New Dataset With Before Word Context:"
   ],
   "metadata": {
    "collapsed": false
   }
  },
  {
   "cell_type": "code",
   "execution_count": 55,
   "outputs": [],
   "source": [
    "train_loader = DataLoader(data_train, batch_size=64, shuffle=True)\n",
    "val_loader = DataLoader(data_val, batch_size=64, shuffle=True)\n",
    "test_loader = DataLoader(data_test, batch_size=64, shuffle=True)"
   ],
   "metadata": {
    "collapsed": false
   }
  },
  {
   "cell_type": "markdown",
   "source": [
    "Define Two RNN Models:"
   ],
   "metadata": {
    "collapsed": false
   }
  },
  {
   "cell_type": "code",
   "execution_count": 56,
   "outputs": [],
   "source": [
    "class RNN1(nn.Module):\n",
    "\n",
    "    def __init__(self, embedding_dim, num_classes, hidden_size, num_layers):\n",
    "        super(RNN1, self).__init__()\n",
    "        self.embeddings = best_model_emd.embeddings\n",
    "        #self.embeddings = nn.Embedding.from_pretrained(best_model_emd.embeddings, freeze=True)\n",
    "        self.lstm = nn.LSTM(embedding_dim, hidden_size=hidden_size, batch_first=True, num_layers=num_layers)\n",
    "        self.output = nn.Linear(hidden_size, num_classes)\n",
    "\n",
    "    def forward(self, x):\n",
    "        embeds = self.embeddings(x)\n",
    "        out, (h_n, c_n) = self.lstm(embeds)\n",
    "        out = self.output(h_n[-1])\n",
    "        return out"
   ],
   "metadata": {
    "collapsed": false
   }
  },
  {
   "cell_type": "code",
   "execution_count": 57,
   "outputs": [],
   "source": [
    "class RNN2(nn.Module):\n",
    "\n",
    "    def __init__(self, embedding_dim, num_classes, hidden_size, num_layers):\n",
    "        super(RNN2, self).__init__()\n",
    "        self.embeddings = best_model_emd.embeddings\n",
    "        #self.embeddings = nn.Embedding.from_pretrained(best_model_emd.embeddings, freeze=True)\n",
    "        self.lstm = nn.LSTM(embedding_dim, hidden_size=hidden_size, batch_first=True, num_layers=num_layers)\n",
    "        self.output = nn.Linear(hidden_size, num_classes)\n",
    "\n",
    "    def forward(self, x):\n",
    "        embeds = self.embeddings(x)\n",
    "        out, (h_n, c_n) = self.lstm(embeds)\n",
    "        out = self.output(h_n[-1])\n",
    "        return out"
   ],
   "metadata": {
    "collapsed": false
   }
  },
  {
   "cell_type": "code",
   "execution_count": 58,
   "outputs": [],
   "source": [
    "CONTEXT_SIZE = 4\n",
    "EMBEDDING_DIM = 16\n",
    "\n",
    "# Model parameters\n",
    "EPOCHS = 5  # Epochs\n",
    "BATCH_SIZE = 64  # Batch size  // Not used yet\n",
    "\n",
    "#Optimizer parameters\n",
    "LR = 1e-2  # Learning Rate\n",
    "BETAS = (0.9, 0.999)  # ADAM Momentum and RSMProp Betas\n",
    "EPSILON = 1e-8  # ADAM Vanishing and Exploding Gradients\n",
    "LAMBDA = 1e-16  # L2 Regularization\n",
    "\n",
    "SHALLOW_HIDDEN_SIZE = 24\n",
    "DEEP_HIDDEN_SIZE = 96\n",
    "\n",
    "NUMBER_OF_LAYERS_DEEP = 3\n",
    "NUMBER_OF_LAYERS_SHALLOW = 1\n",
    "\n",
    "models, model_names, losses_train = [], [], []"
   ],
   "metadata": {
    "collapsed": false
   }
  },
  {
   "cell_type": "markdown",
   "source": [
    "Train The Models Selecting The Best:"
   ],
   "metadata": {
    "collapsed": false
   }
  },
  {
   "cell_type": "code",
   "execution_count": 59,
   "outputs": [
    {
     "name": "stdout",
     "output_type": "stream",
     "text": [
      "12:43:38.177665  |  Epoch 1  |  Training loss 4.19105\n",
      "12:47:38.320101  |  Epoch 2  |  Training loss 3.99082\n",
      "12:52:47.099198  |  Epoch 3  |  Training loss 3.93899\n",
      "13:00:21.569634  |  Epoch 4  |  Training loss 3.90814\n",
      "13:09:55.246468  |  Epoch 5  |  Training loss 3.88985\n"
     ]
    }
   ],
   "source": [
    "loss_function = nn.CrossEntropyLoss()\n",
    "\n",
    "model1 = RNN1(EMBEDDING_DIM, vocab_size, DEEP_HIDDEN_SIZE, NUMBER_OF_LAYERS_DEEP)\n",
    "optimizer = optim.RAdam(model1.parameters(), lr=LR, betas=BETAS, eps=EPSILON, weight_decay=LAMBDA)\n",
    "loss = train(\n",
    "    EPOCHS,\n",
    "    optimizer,\n",
    "    model1,\n",
    "    loss_function,\n",
    "    train_loader\n",
    ")\n",
    "\n",
    "models.append(model1)\n",
    "model_names.append(\"DEEP RNN\")\n",
    "losses_train.append(loss)"
   ],
   "metadata": {
    "collapsed": false
   }
  },
  {
   "cell_type": "code",
   "execution_count": 60,
   "outputs": [
    {
     "name": "stdout",
     "output_type": "stream",
     "text": [
      "13:10:57.818132  |  Epoch 1  |  Training loss 4.26809\n",
      "13:12:00.505101  |  Epoch 2  |  Training loss 4.15967\n",
      "13:13:03.297788  |  Epoch 3  |  Training loss 4.14686\n",
      "13:14:14.989323  |  Epoch 4  |  Training loss 4.14369\n",
      "13:15:29.830141  |  Epoch 5  |  Training loss 4.14200\n"
     ]
    }
   ],
   "source": [
    "loss_function = nn.CrossEntropyLoss()\n",
    "\n",
    "model2 = RNN2(EMBEDDING_DIM, vocab_size, SHALLOW_HIDDEN_SIZE, NUMBER_OF_LAYERS_SHALLOW)\n",
    "optimizer = optim.RAdam(model2.parameters(), lr=LR, betas=BETAS, eps=EPSILON, weight_decay=LAMBDA)\n",
    "loss = train(\n",
    "    EPOCHS,\n",
    "    optimizer,\n",
    "    model2,\n",
    "    loss_function,\n",
    "    train_loader\n",
    ")\n",
    "\n",
    "models.append(model2)\n",
    "model_names.append(\"SHALLOW RNN\")\n",
    "losses_train.append(loss)"
   ],
   "metadata": {
    "collapsed": false
   }
  },
  {
   "cell_type": "code",
   "execution_count": 61,
   "outputs": [
    {
     "name": "stdout",
     "output_type": "stream",
     "text": [
      "Best model is: SHALLOW RNN\n"
     ]
    }
   ],
   "source": [
    "best_model = find_best_model(val_loader)"
   ],
   "metadata": {
    "collapsed": false
   }
  },
  {
   "cell_type": "code",
   "execution_count": 62,
   "outputs": [
    {
     "name": "stdout",
     "output_type": "stream",
     "text": [
      "Test set accuracy of the best model is 18.04%\n"
     ]
    }
   ],
   "source": [
    "print(\"Test set accuracy of the best model is \" + str(round(compute_accuracy(best_model, test_loader) * 100, 2)) + \"%\")"
   ],
   "metadata": {
    "collapsed": false
   }
  },
  {
   "cell_type": "markdown",
   "source": [
    "Beam Search Algorithm For Word Selection:"
   ],
   "metadata": {
    "collapsed": false
   }
  },
  {
   "cell_type": "code",
   "execution_count": 63,
   "outputs": [],
   "source": [
    "def getRandomText(text,length, beam_size):\n",
    "    txt = text.lower().split()\n",
    "\n",
    "     # Transform the text as a list of integers.\n",
    "    text_as_indices = [vocab[w] for w in txt]\n",
    "\n",
    "    beams = [(text_as_indices, -100.0)]\n",
    "    for _ in range(length):\n",
    "        new_beams = []\n",
    "        for beam in beams:\n",
    "            model_output = torch.log_softmax(best_model(torch.tensor(beam[0])), dim=0)  # Log gives negative values [0, 1)\n",
    "            top_k = torch.topk(model_output, beam_size, dim=0)\n",
    "            values, indices = top_k.values, top_k.indices\n",
    "\n",
    "            for i in range(len(values)):\n",
    "                new_beam = beam[0].copy()\n",
    "                word_as_indices = indices[i].item()\n",
    "                prob = values[i].item()\n",
    "\n",
    "                new_beam.append(word_as_indices)\n",
    "                new_beams.append((new_beam, prob))\n",
    "\n",
    "        new_beams = sorted(new_beams, key=lambda x : x[1], reverse=True)\n",
    "        beams = new_beams[:3]\n",
    "\n",
    "    return ' '.join([index2word[w] for w in beams[0][0]])"
   ],
   "metadata": {
    "collapsed": false
   }
  },
  {
   "cell_type": "markdown",
   "source": [
    "Text Generation Examples:"
   ],
   "metadata": {
    "collapsed": false
   }
  },
  {
   "cell_type": "code",
   "execution_count": 64,
   "outputs": [
    {
     "data": {
      "text/plain": "'sir arrived at <unk> with train and was happy to do . i am sure'"
     },
     "execution_count": 64,
     "metadata": {},
     "output_type": "execute_result"
    }
   ],
   "source": [
    "getRandomText(\"Sir arrived at noon with train and was happy\", 6, 3)"
   ],
   "metadata": {
    "collapsed": false
   }
  },
  {
   "cell_type": "code",
   "execution_count": 65,
   "outputs": [
    {
     "data": {
      "text/plain": "'a dream of the'"
     },
     "execution_count": 65,
     "metadata": {},
     "output_type": "execute_result"
    }
   ],
   "source": [
    "getRandomText(\"A dream\", 2, 3)"
   ],
   "metadata": {
    "collapsed": false
   }
  },
  {
   "cell_type": "code",
   "execution_count": 66,
   "outputs": [
    {
     "data": {
      "text/plain": "'i have a dream a world where she had returned to the door , and the door of his face , and the old prince had been'"
     },
     "execution_count": 66,
     "metadata": {},
     "output_type": "execute_result"
    }
   ],
   "source": [
    "getRandomText(\"I have a dream a world where \", 20, 7)"
   ],
   "metadata": {
    "collapsed": false
   }
  },
  {
   "cell_type": "code",
   "execution_count": 67,
   "outputs": [
    {
     "data": {
      "text/plain": "'i have a dream that one day on the red <unk> of <unk> the <unk> of former <unk> and the <unk> of former <unk> <unk> will be able to sit down together at the table of <unk> . he had returned to the door , and the door of his face , and the old prince had been to see him , and he had returned to'"
     },
     "execution_count": 67,
     "metadata": {},
     "output_type": "execute_result"
    }
   ],
   "source": [
    "getRandomText(\"I have a dream that one day on the red hills of Georgia, the sons of former slaves and the sons of former slave owners will be able to sit down together at the table of brotherhood.\", 30, 5)"
   ],
   "metadata": {
    "collapsed": false
   }
  }
 ],
 "metadata": {
  "kernelspec": {
   "display_name": "Python 3",
   "language": "python",
   "name": "python3"
  },
  "language_info": {
   "codemirror_mode": {
    "name": "ipython",
    "version": 2
   },
   "file_extension": ".py",
   "mimetype": "text/x-python",
   "name": "python",
   "nbconvert_exporter": "python",
   "pygments_lexer": "ipython2",
   "version": "2.7.6"
  }
 },
 "nbformat": 4,
 "nbformat_minor": 0
}

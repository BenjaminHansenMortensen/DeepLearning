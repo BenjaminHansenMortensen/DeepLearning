{
 "cells": [
  {
   "cell_type": "markdown",
   "source": [
    "Project 1: Improving Learning by Optimisation and Regularisation:"
   ],
   "metadata": {
    "collapsed": false
   }
  },
  {
   "cell_type": "code",
   "execution_count": 12,
   "outputs": [],
   "source": [
    "# imports\n",
    "\n",
    "from datetime import datetime\n",
    "\n",
    "import matplotlib.pyplot as plt\n",
    "import torch\n",
    "import torch.nn as nn\n",
    "import torch.optim as optim\n",
    "from torch.utils.data import random_split\n",
    "from torchvision import datasets, transforms\n",
    "import numpy as np\n",
    "torch.manual_seed(265)\n",
    "torch.set_default_dtype(torch.double)"
   ],
   "metadata": {
    "collapsed": false
   }
  },
  {
   "cell_type": "markdown",
   "source": [
    "Create CIFAR10 Dataset:"
   ],
   "metadata": {
    "collapsed": false
   }
  },
  {
   "cell_type": "code",
   "execution_count": 13,
   "outputs": [
    {
     "name": "stdout",
     "output_type": "stream",
     "text": [
      "Files already downloaded and verified\n",
      "Files already downloaded and verified\n"
     ]
    }
   ],
   "source": [
    "split_ratio = 0.9\n",
    "\n",
    "def load_cifar(train_val_split, data_path='../data/', preprocessor=None):\n",
    "    if preprocessor is None:\n",
    "        preprocessor = transforms.Compose([\n",
    "            transforms.ToTensor(),\n",
    "            # This normalization data points correspond to the mean & standard deviation for cifar10\n",
    "            transforms.Normalize((0.4915, 0.4823, 0.4468),\n",
    "                                 (0.2470, 0.2435, 0.2616))\n",
    "        ])\n",
    "\n",
    "    # load datasets\n",
    "    data_train_val = datasets.CIFAR10(\n",
    "        data_path,\n",
    "        train=True,\n",
    "        download=True,\n",
    "        transform=preprocessor)\n",
    "\n",
    "    test_set = datasets.CIFAR10(\n",
    "        data_path,\n",
    "        train=False,\n",
    "        download=True,\n",
    "        transform=preprocessor)\n",
    "\n",
    "    # train/validation split\n",
    "    n_train = int(len(data_train_val) * train_val_split)\n",
    "    n_val = len(data_train_val) - n_train\n",
    "\n",
    "    train_set, val_set = random_split(\n",
    "        data_train_val,\n",
    "        [n_train, n_val],\n",
    "        generator=torch.Generator().manual_seed(265)\n",
    "    )\n",
    "    return train_set, val_set, test_set\n",
    "\n",
    "\n",
    "cifar10_train, cifar10_val, cifar10_test = load_cifar(split_ratio)  # contains all elem of cifar dataset\n"
   ],
   "metadata": {
    "collapsed": false
   }
  },
  {
   "cell_type": "code",
   "execution_count": 14,
   "outputs": [],
   "source": [
    "label_map = {0: 0, 2: 1}\n",
    "class_names = ['airplane', 'bird']\n",
    "\n",
    "# For each dataset, keep only airplanes and birds\n",
    "# is now a tuple with only images of birds & planes with their respective label\n",
    "train_set = [(img, label_map[label]) for img, label in cifar10_train if\n",
    "             label in [0, 2]]  # stripped down versions of cifar datasets with only birds & planes\n",
    "val_set = [(img, label_map[label]) for img, label in cifar10_val if\n",
    "           label in [0, 2]]  # stripped down versions of cifar datasets with only birds & planes\n",
    "test_set = [(img, label_map[label]) for img, label in cifar10_test if\n",
    "            label in [0, 2]]  # stripped down versions of cifar datasets with only birds & planes"
   ],
   "metadata": {
    "collapsed": false
   }
  },
  {
   "cell_type": "markdown",
   "source": [
    "Define Multilayer Perceptron (MLP):"
   ],
   "metadata": {
    "collapsed": false
   }
  },
  {
   "cell_type": "code",
   "execution_count": 15,
   "outputs": [],
   "source": [
    "class MyMLP(nn.Module):\n",
    "    def __init__(self):\n",
    "        super().__init__()\n",
    "        self.flat = nn.Flatten()\n",
    "\n",
    "        self.fc1 = nn.Linear(32 * 32 * 3, 512)\n",
    "        self.activation1 = nn.ReLU()\n",
    "\n",
    "        self.fc2 = nn.Linear(512, 256)\n",
    "        self.activation2 = nn.ReLU()\n",
    "\n",
    "        self.fc3 = nn.Linear(256, 128)\n",
    "        self.activation3 = nn.ReLU()\n",
    "\n",
    "        self.fc4 = nn.Linear(128, 32)\n",
    "        self.activation4 = nn.ReLU()\n",
    "\n",
    "        self.fc5 = nn.Linear(32, 2)\n",
    "\n",
    "    def forward(self, x):\n",
    "        out = self.flat(x)\n",
    "        out = self.activation1(self.fc1(out))\n",
    "        out = self.activation2(self.fc2(out))\n",
    "        out = self.activation3(self.fc3(out))\n",
    "        out = self.activation4(self.fc4(out))\n",
    "        return self.fc5(out)"
   ],
   "metadata": {
    "collapsed": false
   }
  },
  {
   "cell_type": "code",
   "execution_count": 16,
   "outputs": [],
   "source": [
    "model = MyMLP()"
   ],
   "metadata": {
    "collapsed": false
   }
  },
  {
   "cell_type": "markdown",
   "source": [
    "Training Function:"
   ],
   "metadata": {
    "collapsed": false
   }
  },
  {
   "cell_type": "code",
   "execution_count": 17,
   "outputs": [],
   "source": [
    "def train(n_epochs, optimizer, model, loss_fn, train_loader):\n",
    "    n_batch = len(train_loader)\n",
    "    losses_train = []\n",
    "    model.train()\n",
    "    optimizer.zero_grad(set_to_none=True)\n",
    "\n",
    "    for epoch in range(1, n_epochs + 1):\n",
    "\n",
    "        loss_train = 0.0\n",
    "        for data in train_loader:\n",
    "            images, labels = data\n",
    "\n",
    "            images = images.to(device=device)\n",
    "            labels = labels.to(device=device)\n",
    "\n",
    "            outputs = model(images)\n",
    "\n",
    "            loss = loss_fn(outputs, labels)\n",
    "            loss.backward()\n",
    "\n",
    "            optimizer.step()\n",
    "            optimizer.zero_grad()\n",
    "\n",
    "            loss_train += loss.item()\n",
    "\n",
    "        losses_train.append(loss_train / n_batch)\n",
    "\n",
    "        if epoch == 1 or epoch % 10 == 0:\n",
    "            print('{}  |  Epoch {}  |  Training loss {:.3f}'.format(\n",
    "                datetime.now().time(), epoch, loss_train / n_batch))\n",
    "    return losses_train"
   ],
   "metadata": {
    "collapsed": false
   }
  },
  {
   "cell_type": "markdown",
   "source": [
    "Manual Training Function:"
   ],
   "metadata": {
    "collapsed": false
   }
  },
  {
   "cell_type": "code",
   "execution_count": 18,
   "outputs": [],
   "source": [
    "def train_manual_update(n_epochs, model, loss_fn, train_loader, lr, weight_decay=0., dampening=0., momentum=0.):\n",
    "    n_batch = len(train_loader)\n",
    "    losses_train = []\n",
    "    model.train = []\n",
    "\n",
    "    v_dic = {name: 0 for name, p in model.named_parameters()}\n",
    "\n",
    "    for epoch in range(1, n_epochs + 1):\n",
    "        loss_train = 0.0\n",
    "\n",
    "        for imgs, labels in train_loader:\n",
    "            imgs = imgs.to(device=device)\n",
    "            labels = labels.to(device=device)\n",
    "\n",
    "            prediction = model(imgs)\n",
    "            loss = loss_fn(prediction, labels)\n",
    "            loss.backward()\n",
    "\n",
    "            # Optimization part\n",
    "            with torch.no_grad():  # dont track gradients operations\n",
    "                for name, p in model.named_parameters():  # Updates the weights and biases\n",
    "                    v = momentum * v_dic[name] + p.grad + p.data * weight_decay  # Calculates the velocity whilst accounting for weight decay\n",
    "                    p.data = p.data - v * lr  # Updates the biases and weights with new velocity\n",
    "\n",
    "                    v_dic[name] = v  # Stores the new velocity\n",
    "                    p.grad.data.zero_()  # Zeros out the grads\n",
    "\n",
    "                loss_train += loss.item()\n",
    "        losses_train.append(loss_train / n_batch)\n",
    "\n",
    "        if epoch == 1 or epoch % 10 == 0:\n",
    "            print('{}  |  Epoch {}  |  Training loss {:.3f}'.format(\n",
    "                datetime.now().time(), epoch, loss_train / n_batch))\n",
    "    return losses_train"
   ],
   "metadata": {
    "collapsed": false
   }
  },
  {
   "cell_type": "code",
   "execution_count": 37,
   "outputs": [
    {
     "name": "stdout",
     "output_type": "stream",
     "text": [
      "Total number of parameters:  1741794\n",
      "Number of parameter per layer:  [1572864, 512, 131072, 256, 32768, 128, 4096, 32, 64, 2]\n"
     ]
    }
   ],
   "source": [
    "numel_list = [p.numel() for p in model.parameters()]\n",
    "print(\"Total number of parameters: \", sum(numel_list))\n",
    "print(\"Number of parameter per layer: \", numel_list)"
   ],
   "metadata": {
    "collapsed": false
   }
  },
  {
   "cell_type": "code",
   "execution_count": 38,
   "outputs": [],
   "source": [
    "device = (torch.device('cuda') if torch.cuda.is_available()\n",
    "          else torch.device('cpu'))\n",
    "\n",
    "epochs = 60\n",
    "batch_size_global = 512"
   ],
   "metadata": {
    "collapsed": false
   }
  },
  {
   "cell_type": "markdown",
   "source": [
    "Training of MLP: Built-in vs Our Manual Implementation"
   ],
   "metadata": {
    "collapsed": false
   }
  },
  {
   "cell_type": "code",
   "execution_count": 21,
   "outputs": [],
   "source": [
    "models = []\n",
    "model_names = []\n",
    "loss_es_train = []"
   ],
   "metadata": {
    "collapsed": false
   }
  },
  {
   "cell_type": "code",
   "execution_count": 22,
   "outputs": [
    {
     "name": "stdout",
     "output_type": "stream",
     "text": [
      "Training on function: train() \n",
      "11:37:48.500448  |  Epoch 1  |  Training loss 0.693\n",
      "11:37:59.106381  |  Epoch 10  |  Training loss 0.685\n",
      "11:38:10.679832  |  Epoch 20  |  Training loss 0.675\n",
      "11:38:22.711545  |  Epoch 30  |  Training loss 0.660\n",
      "11:38:34.220868  |  Epoch 40  |  Training loss 0.637\n",
      "11:38:45.829142  |  Epoch 50  |  Training loss 0.608\n",
      "11:38:57.360416  |  Epoch 60  |  Training loss 0.577\n"
     ]
    }
   ],
   "source": [
    "print(f\"Training on function: train() \")\n",
    "torch.manual_seed(265)\n",
    "\n",
    "train_loader = torch.utils.data.DataLoader(train_set, batch_size=batch_size_global, shuffle=False)\n",
    "model = MyMLP().to(device=device)\n",
    "optimizer = optim.SGD(model.parameters(), lr=0.01, weight_decay=0., dampening=0., momentum=0.)\n",
    "loss_fn = nn.CrossEntropyLoss()\n",
    "\n",
    "loss_tr = train(\n",
    "    n_epochs=epochs,\n",
    "    optimizer=optimizer,\n",
    "    model=model,\n",
    "    loss_fn=loss_fn,\n",
    "    train_loader=train_loader,\n",
    ")"
   ],
   "metadata": {
    "collapsed": false
   }
  },
  {
   "cell_type": "code",
   "execution_count": 23,
   "outputs": [
    {
     "name": "stdout",
     "output_type": "stream",
     "text": [
      "Training on function: train_manual_update() \n",
      "11:38:58.819905  |  Epoch 1  |  Training loss 0.693\n",
      "11:39:09.590713  |  Epoch 10  |  Training loss 0.685\n",
      "11:39:21.617097  |  Epoch 20  |  Training loss 0.675\n",
      "11:39:33.599422  |  Epoch 30  |  Training loss 0.660\n",
      "11:39:47.515102  |  Epoch 40  |  Training loss 0.637\n",
      "11:40:01.244655  |  Epoch 50  |  Training loss 0.608\n",
      "11:40:13.762349  |  Epoch 60  |  Training loss 0.577\n"
     ]
    }
   ],
   "source": [
    "print(f\"Training on function: train_manual_update() \")\n",
    "torch.manual_seed(265)\n",
    "\n",
    "train_loader = torch.utils.data.DataLoader(train_set, batch_size=batch_size_global, shuffle=False)\n",
    "model = MyMLP().to(device=device)\n",
    "loss_fn = nn.CrossEntropyLoss()\n",
    "\n",
    "loss_ = train_manual_update(\n",
    "    n_epochs=epochs,\n",
    "    model=model,\n",
    "    loss_fn=loss_fn,\n",
    "    lr=1e-2,\n",
    "    train_loader=train_loader,\n",
    "    weight_decay=0.,\n",
    "    dampening=0.,\n",
    "    momentum=0.\n",
    ")\n",
    "models.append(model)\n",
    "model_names.append(\"Manual_update default values, lr=1e-2, mom=0, w=0.\")\n",
    "loss_es_train.append(loss_)"
   ],
   "metadata": {
    "collapsed": false
   }
  },
  {
   "cell_type": "code",
   "execution_count": 24,
   "outputs": [
    {
     "name": "stdout",
     "output_type": "stream",
     "text": [
      "Training on function: train_manual_update() \n",
      "11:40:15.136628  |  Epoch 1  |  Training loss 0.693\n",
      "11:40:26.666782  |  Epoch 10  |  Training loss 0.671\n",
      "11:40:41.646156  |  Epoch 20  |  Training loss 0.618\n",
      "11:40:54.807093  |  Epoch 30  |  Training loss 0.540\n",
      "11:41:10.074873  |  Epoch 40  |  Training loss 0.489\n",
      "11:41:26.228665  |  Epoch 50  |  Training loss 0.458\n",
      "11:41:38.323854  |  Epoch 60  |  Training loss 0.432\n"
     ]
    }
   ],
   "source": [
    "print(f\"Training on function: train_manual_update() \")\n",
    "torch.manual_seed(265)\n",
    "\n",
    "train_loader = torch.utils.data.DataLoader(train_set, batch_size=batch_size_global, shuffle=False)\n",
    "model = MyMLP().to(device=device)\n",
    "loss_fn = nn.CrossEntropyLoss()\n",
    "\n",
    "loss_ = train_manual_update(\n",
    "    n_epochs=epochs,\n",
    "    model=model,\n",
    "    loss_fn=loss_fn,\n",
    "    lr=1e-2,\n",
    "    train_loader=train_loader,\n",
    "    weight_decay=1e-5,\n",
    "    dampening=0.,\n",
    "    momentum=0.6\n",
    ")\n",
    "models.append(model)\n",
    "model_names.append(\"Manual_update, lr=1e-2, mom=0.6, w=1e-5\")\n",
    "loss_es_train.append(loss_)"
   ],
   "metadata": {
    "collapsed": false
   }
  },
  {
   "cell_type": "code",
   "execution_count": 25,
   "outputs": [
    {
     "name": "stdout",
     "output_type": "stream",
     "text": [
      "Training on function: train_manual_update() \n",
      "11:41:39.661945  |  Epoch 1  |  Training loss 0.693\n",
      "11:41:50.584076  |  Epoch 10  |  Training loss 0.669\n",
      "11:42:02.891393  |  Epoch 20  |  Training loss 0.605\n",
      "11:42:17.208846  |  Epoch 30  |  Training loss 0.525\n",
      "11:42:31.525236  |  Epoch 40  |  Training loss 0.479\n",
      "11:42:44.019041  |  Epoch 50  |  Training loss 0.450\n",
      "11:42:56.581853  |  Epoch 60  |  Training loss 0.423\n"
     ]
    }
   ],
   "source": [
    "print(f\"Training on function: train_manual_update() \")\n",
    "torch.manual_seed(265)\n",
    "train_loader = torch.utils.data.DataLoader(train_set, batch_size=batch_size_global, shuffle=False)\n",
    "model = MyMLP().to(device=device)\n",
    "loss_fn = nn.CrossEntropyLoss()\n",
    "\n",
    "loss_ = train_manual_update(\n",
    "    n_epochs=epochs,\n",
    "    model=model,\n",
    "    loss_fn=loss_fn,\n",
    "    lr=1e-2,\n",
    "    train_loader=train_loader,\n",
    "    weight_decay=1e-2,\n",
    "    dampening=0.,\n",
    "    momentum=0.66\n",
    ")\n",
    "models.append(model)\n",
    "model_names.append(\"Manual_update, lr=1e-2, mom=0.66, w=1e-2\")\n",
    "loss_es_train.append(loss_)"
   ],
   "metadata": {
    "collapsed": false
   }
  },
  {
   "cell_type": "code",
   "execution_count": 26,
   "outputs": [
    {
     "name": "stdout",
     "output_type": "stream",
     "text": [
      "Training on function: train_manual_update() \n",
      "11:42:57.936298  |  Epoch 1  |  Training loss 0.689\n",
      "11:43:09.376911  |  Epoch 10  |  Training loss 0.531\n",
      "11:43:22.089842  |  Epoch 20  |  Training loss 0.515\n",
      "11:43:34.590196  |  Epoch 30  |  Training loss 0.505\n"
     ]
    }
   ],
   "source": [
    "print(f\"Training on function: train_manual_update() \")\n",
    "torch.manual_seed(265)\n",
    "train_loader = torch.utils.data.DataLoader(train_set, batch_size=batch_size_global, shuffle=False)\n",
    "model = MyMLP().to(device=device)\n",
    "loss_fn = nn.CrossEntropyLoss()\n",
    "\n",
    "loss_ = train_manual_update(\n",
    "    n_epochs=30,\n",
    "    model=model,\n",
    "    loss_fn=loss_fn,\n",
    "    lr=1e-1,\n",
    "    train_loader=train_loader,\n",
    "    weight_decay=1e-1,\n",
    "    dampening=0.,\n",
    "    momentum=0.8\n",
    ")\n",
    "models.append(model)\n",
    "model_names.append(\"Manual_update custom, lr=1e-1, mom=0.8, w=1e-1\")\n",
    "loss_es_train.append(loss_)"
   ],
   "metadata": {
    "collapsed": false
   }
  },
  {
   "cell_type": "code",
   "execution_count": 27,
   "outputs": [
    {
     "data": {
      "text/plain": "<Figure size 2800x500 with 4 Axes>",
      "image/png": "[encoded data removed]"
     },
     "metadata": {},
     "output_type": "display_data"
    }
   ],
   "source": [
    "n_model = len(models)\n",
    "\n",
    "fig, axes = plt.subplots(1, n_model, figsize=(7 * n_model, 5), sharey=True)\n",
    "\n",
    "for l_train, name, ax in zip(loss_es_train, model_names, axes.flat):\n",
    "    ax.plot(l_train, label='train')\n",
    "    ax.set_title(name)\n",
    "    ax.set_xlabel('Epochs')\n",
    "    ax.set_ylabel('Cross Entropy Loss')\n",
    "    ax.legend()\n",
    "\n",
    "plt.show()"
   ],
   "metadata": {
    "collapsed": false
   }
  },
  {
   "cell_type": "code",
   "execution_count": 32,
   "outputs": [
    {
     "name": "stdout",
     "output_type": "stream",
     "text": [
      "Accuracy: 75.42%, Manual_update default values, lr=1e-2, mom=0, w=0.\n",
      "Accuracy: 81.24%, Manual_update, lr=1e-2, mom=0.6, w=1e-5\n",
      "Accuracy: 81.34%, Manual_update, lr=1e-2, mom=0.66, w=1e-2\n",
      "Accuracy: 79.17%, Manual_update custom, lr=1e-1, mom=0.8, w=1e-1\n",
      "\n",
      "The best model is  Manual_update, lr=1e-2, mom=0.66, w=1e-2\n",
      "\n",
      "\n",
      "Training accuracy of the best model: \n",
      "Accuracy: 82.29%, \n",
      "Validation accuracy of the best model: \n",
      "Accuracy: 81.34%, \n"
     ]
    }
   ],
   "source": [
    "def compute_accuracy(model, loader, name):\n",
    "    correct = 0.\n",
    "    total = 0.\n",
    "    with torch.no_grad():\n",
    "        for imgs, labels in loader:\n",
    "            imgs = imgs.to(device=device)\n",
    "            labels = labels.to(device=device)\n",
    "\n",
    "            outputs = model(imgs)\n",
    "            _, predicted = torch.max(outputs, dim=1)\n",
    "            total += labels.shape[0]\n",
    "            correct += int((predicted == labels).sum())\n",
    "\n",
    "    acc =  (correct / total) * 100\n",
    "\n",
    "\n",
    "    print(f\"Accuracy: {acc :.2f}%, {name}\")\n",
    "    return acc\n",
    "\n",
    "train_loader = torch.utils.data.DataLoader(train_set, batch_size=batch_size_global, shuffle=False)\n",
    "val_loader = torch.utils.data.DataLoader(val_set, batch_size=batch_size_global, shuffle=False)\n",
    "\n",
    "accuracies = []\n",
    "for model, model_nam in zip(models, model_names):\n",
    "    accuracies.append(compute_accuracy(model, val_loader, model_nam))\n",
    "\n",
    "i_best_model = np.argmax(accuracies)\n",
    "best_model = models[i_best_model]\n",
    "print(\"\\nThe best model is \", model_names[i_best_model])\n",
    "\n",
    "print(\"\\n\")\n",
    "print(\"Training accuracy of the best model: \")\n",
    "compute_accuracy(best_model, train_loader, '')\n",
    "print(\"Validation accuracy of the best model: \")\n",
    "var = compute_accuracy(best_model, val_loader, '')"
   ],
   "metadata": {
    "collapsed": false
   }
  },
  {
   "cell_type": "markdown",
   "source": [
    "Model performance:"
   ],
   "metadata": {
    "collapsed": false
   }
  },
  {
   "cell_type": "code",
   "execution_count": 33,
   "outputs": [
    {
     "name": "stdout",
     "output_type": "stream",
     "text": [
      "Accuracy: 81.90%, \n",
      "The accuracy of the best model is: 81.90%\n"
     ]
    }
   ],
   "source": [
    "test_loader = torch.utils.data.DataLoader(test_set, batch_size=batch_size_global, shuffle=True)\n",
    "\n",
    "print(f\"The accuracy of the best model is: {compute_accuracy(best_model, test_loader, '') :.2f}%\")"
   ],
   "metadata": {
    "collapsed": false
   }
  }
 ],
 "metadata": {
  "kernelspec": {
   "display_name": "Python 3",
   "language": "python",
   "name": "python3"
  },
  "language_info": {
   "codemirror_mode": {
    "name": "ipython",
    "version": 2
   },
   "file_extension": ".py",
   "mimetype": "text/x-python",
   "name": "python",
   "nbconvert_exporter": "python",
   "pygments_lexer": "ipython2",
   "version": "2.7.6"
  }
 },
 "nbformat": 4,
 "nbformat_minor": 0
}

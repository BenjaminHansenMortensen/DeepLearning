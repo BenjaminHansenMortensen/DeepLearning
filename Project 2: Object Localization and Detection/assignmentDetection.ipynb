{
 "cells": [
  {
   "cell_type": "markdown",
   "source": [
    "Project 2: Object Detection"
   ],
   "metadata": {
    "collapsed": false
   }
  },
  {
   "cell_type": "code",
   "execution_count": 1,
   "outputs": [],
   "source": [
    "# imports\n",
    "\n",
    "import random\n",
    "from datetime import datetime\n",
    "\n",
    "import matplotlib.pyplot as plt\n",
    "import torch\n",
    "import torch.nn as nn\n",
    "import torch.optim as optim\n",
    "from matplotlib import patches\n",
    "from torch.utils.data import random_split\n",
    "from torchvision import transforms\n",
    "\n",
    "torch.manual_seed(265)\n",
    "torch.set_default_dtype(torch.double)"
   ],
   "metadata": {
    "collapsed": false
   }
  },
  {
   "cell_type": "code",
   "execution_count": 2,
   "outputs": [],
   "source": [
    "path = 'datasets/'\n",
    "det_train_path = path + 'detection_train.pt'\n",
    "det_val_path = path + 'detection_val.pt'\n",
    "det_test_path = path + 'detection_test.pt'\n",
    "device = 'cuda' if torch.cuda.is_available() else 'cpu'  # change this to cuda if ya want lol\n",
    "\n",
    "# Model parameters\n",
    "EPOCHS = 7  # Epochs\n",
    "BATCH_SIZE = 64  # Batch size\n",
    "KEEP_PROB = 1  # Dropout\n",
    "\n",
    "#Optimizer parameters\n",
    "LR = 1e-3  # Learning Rate\n",
    "BETAS = (0.9, 0.999)  # ADAM Momentum and RSMProp Betas\n",
    "EPSILON = 1e-8  # ADAM Vanishing and Exploding Gradients\n",
    "LAMBDA = 1e-4  # L2 Regularization\n",
    "\n",
    "models = []\n",
    "model_names = []\n",
    "loss_train_list = []\n",
    "loss_val_list = []"
   ],
   "metadata": {
    "collapsed": false
   }
  },
  {
   "cell_type": "code",
   "execution_count": 3,
   "outputs": [],
   "source": [
    "detection_train_data = torch.load(det_train_path)\n",
    "detection_val_data = torch.load(det_val_path)\n",
    "detection_test_data = torch.load(det_test_path)"
   ],
   "metadata": {
    "collapsed": false
   }
  },
  {
   "cell_type": "markdown",
   "source": [
    "Dataset Normalization:"
   ],
   "metadata": {
    "collapsed": false
   }
  },
  {
   "cell_type": "code",
   "execution_count": 4,
   "outputs": [],
   "source": [
    "# Train normalization\n",
    "train_all = [x for x, _ in detection_train_data]\n",
    "trainto_one_tensor = torch.stack(train_all)\n",
    "\n",
    "mean_train = trainto_one_tensor.mean()\n",
    "std_train = trainto_one_tensor.std()\n",
    "\n",
    "detection_train_data.transform = transforms.Normalize(mean_train, std_train)\n",
    "\n",
    "\n",
    "# Val normalization\n",
    "val_all = [x for x, _ in detection_val_data]\n",
    "val_to_one_tensor = torch.stack(val_all)\n",
    "\n",
    "mean_val = val_to_one_tensor.mean()\n",
    "std_val = val_to_one_tensor.std()\n",
    "\n",
    "detection_val_data.transform = transforms.Normalize(mean_val, std_val)\n",
    "\n",
    "\n",
    "# Test normalization\n",
    "test_all = [x for x, _ in detection_test_data]\n",
    "test_to_one_tensor = torch.stack(test_all)\n",
    "\n",
    "mean_test = test_to_one_tensor.mean()\n",
    "std_test = test_to_one_tensor.std()\n",
    "\n",
    "detection_test_data.transform = transforms.Normalize(mean_test, std_test)"
   ],
   "metadata": {
    "collapsed": false
   }
  },
  {
   "cell_type": "markdown",
   "source": [
    "Dataset Familiarization:"
   ],
   "metadata": {
    "collapsed": false
   }
  },
  {
   "cell_type": "code",
   "execution_count": 5,
   "outputs": [],
   "source": [
    "def print_random_img(data):\n",
    "    x, y = data.__getitem__(random.randint(0, len(data)))\n",
    "    # (C, H, W)\n",
    "    tensor_image = transforms.ToPILImage()(x).convert(\"RGB\")\n",
    "    plt.imshow(tensor_image)\n",
    "    plt.show()"
   ],
   "metadata": {
    "collapsed": false
   }
  },
  {
   "cell_type": "code",
   "execution_count": 6,
   "outputs": [
    {
     "data": {
      "text/plain": "<Figure size 640x480 with 1 Axes>",
      "image/png": "[encoded data removed]"
     },
     "metadata": {},
     "output_type": "display_data"
    }
   ],
   "source": [
    "print_random_img(detection_train_data)"
   ],
   "metadata": {
    "collapsed": false
   }
  },
  {
   "cell_type": "markdown",
   "source": [
    "Three Convolutional Architectures based of LeNet5:"
   ],
   "metadata": {
    "collapsed": false
   }
  },
  {
   "cell_type": "code",
   "execution_count": 7,
   "outputs": [],
   "source": [
    "# Standard Convolutional LeNet5 Model:\n",
    "class Net01(nn.Module):\n",
    "    def __init__(self):\n",
    "        super().__init__()\n",
    "        self.layer1 = torch.nn.Sequential(\n",
    "            nn.Conv2d(in_channels=1, out_channels=6, kernel_size=5),\n",
    "            nn.ReLU(),\n",
    "            nn.MaxPool2d(2),\n",
    "            torch.nn.Dropout(p=1 - KEEP_PROB)\n",
    "        )\n",
    "        self.layer2 = torch.nn.Sequential(\n",
    "            nn.Conv2d(in_channels=6, out_channels=16, kernel_size=5),\n",
    "            nn.ReLU(),\n",
    "            nn.MaxPool2d(2),\n",
    "            torch.nn.Dropout(p=1 - KEEP_PROB)\n",
    "        )\n",
    "        self.layer3 = torch.nn.Sequential(\n",
    "            nn.Conv2d(in_channels=16, out_channels=120, kernel_size=5),\n",
    "            nn.ReLU(),\n",
    "            torch.nn.Dropout(p=1 - KEEP_PROB)\n",
    "        )\n",
    "        self.layer4 = torch.nn.Sequential(\n",
    "            nn.Conv2d(in_channels=120, out_channels=84, kernel_size=3),\n",
    "            nn.ReLU(),\n",
    "            torch.nn.Dropout(p=1 - KEEP_PROB)\n",
    "        )\n",
    "        self.layer5 = torch.nn.Sequential(\n",
    "            nn.Conv2d(in_channels=84, out_channels=7, kernel_size=(2, 4)),\n",
    "        )\n",
    "\n",
    "    def forward(self, x):\n",
    "        y = self.layer1(x)\n",
    "        y = self.layer2(y)\n",
    "        y = self.layer3(y)\n",
    "        y = self.layer4(y)\n",
    "        y = self.layer5(y)\n",
    "        y = y.permute(0, 2, 3, 1)\n",
    "\n",
    "        return y"
   ],
   "metadata": {
    "collapsed": false
   }
  },
  {
   "cell_type": "code",
   "execution_count": 8,
   "outputs": [],
   "source": [
    "# Shallow Convolutional LeNet5 Model:\n",
    "class Net02(nn.Module):\n",
    "    def __init__(self):\n",
    "        super().__init__()\n",
    "        self.layer1 = torch.nn.Sequential(\n",
    "            nn.Conv2d(in_channels=1, out_channels=3, kernel_size=5),\n",
    "            nn.ReLU(),\n",
    "            nn.MaxPool2d(2),\n",
    "            torch.nn.Dropout(p=1 - KEEP_PROB)\n",
    "        )\n",
    "        self.layer2 = torch.nn.Sequential(\n",
    "            nn.Conv2d(in_channels=3, out_channels=8, kernel_size=5),\n",
    "            nn.ReLU(),\n",
    "            nn.MaxPool2d(2),\n",
    "            torch.nn.Dropout(p=1 - KEEP_PROB)\n",
    "        )\n",
    "        self.layer3 = torch.nn.Sequential(\n",
    "            nn.Conv2d(in_channels=8, out_channels=32, kernel_size=5),\n",
    "            nn.ReLU(),\n",
    "            torch.nn.Dropout(p=1 - KEEP_PROB)\n",
    "        )\n",
    "        self.layer4 = torch.nn.Sequential(\n",
    "            nn.Conv2d(in_channels=32, out_channels=64, kernel_size=(4, 6)),\n",
    "            nn.ReLU(),\n",
    "            torch.nn.Dropout(p=1 - KEEP_PROB)\n",
    "        )\n",
    "        self.layer5 = torch.nn.Sequential(\n",
    "            nn.Conv2d(in_channels=64, out_channels=64, kernel_size=(1, 1)),\n",
    "        )\n",
    "\n",
    "    def forward(self, x):\n",
    "        y = self.layer1(x)\n",
    "        y = self.layer2(y)\n",
    "        y = self.layer3(y)\n",
    "        y = self.layer4(y)\n",
    "        y = self.layer5(y)\n",
    "        y = y.permute(0, 2, 3, 1)\n",
    "\n",
    "        return y"
   ],
   "metadata": {
    "collapsed": false
   }
  },
  {
   "cell_type": "code",
   "execution_count": 9,
   "outputs": [],
   "source": [
    "# Deep Convolutional LeNet5 Model:\n",
    "class Net03(nn.Module):\n",
    "    def __init__(self):\n",
    "        super().__init__()\n",
    "        self.layer1 = torch.nn.Sequential(\n",
    "            nn.Conv2d(in_channels=1, out_channels=12, kernel_size=5),\n",
    "            nn.ReLU(),\n",
    "            nn.MaxPool2d(2),\n",
    "            torch.nn.Dropout(p=1 - KEEP_PROB)\n",
    "        )\n",
    "        self.layer2 = torch.nn.Sequential(\n",
    "            nn.Conv2d(in_channels=12, out_channels=32, kernel_size=5),\n",
    "            nn.ReLU(),\n",
    "            nn.MaxPool2d(2),\n",
    "            torch.nn.Dropout(p=1 - KEEP_PROB)\n",
    "        )\n",
    "        self.layer3 = torch.nn.Sequential(\n",
    "            nn.Conv2d(in_channels=32, out_channels=240, kernel_size=3),\n",
    "            nn.ReLU(),\n",
    "            torch.nn.Dropout(p=1 - KEEP_PROB)\n",
    "        )\n",
    "        self.layer4 = torch.nn.Sequential(\n",
    "            nn.Conv2d(in_channels=240, out_channels=360, kernel_size=3),\n",
    "            nn.ReLU(),\n",
    "            torch.nn.Dropout(p=1 - KEEP_PROB)\n",
    "        )\n",
    "        self.layer5 = torch.nn.Sequential(\n",
    "            nn.Conv2d(in_channels=360, out_channels=420, kernel_size=3),\n",
    "            nn.ReLU(),\n",
    "            torch.nn.Dropout(p=1 - KEEP_PROB)\n",
    "        )\n",
    "        self.layer6 = torch.nn.Sequential(\n",
    "            nn.Conv2d(in_channels=420, out_channels=560, kernel_size=(2, 4)),\n",
    "            nn.ReLU(),\n",
    "            torch.nn.Dropout(p=1 - KEEP_PROB)\n",
    "        )\n",
    "        self.layer7 = torch.nn.Sequential(\n",
    "            nn.Conv2d(in_channels=560, out_channels=560, kernel_size=(1, 1)),\n",
    "        )\n",
    "\n",
    "    def forward(self, x):\n",
    "        y = self.layer1(x)\n",
    "        y = self.layer2(y)\n",
    "        y = self.layer3(y)\n",
    "        y = self.layer4(y)\n",
    "        y = self.layer5(y)\n",
    "        y = self.layer6(y)\n",
    "        y = self.layer7(y)\n",
    "        y = y.permute(0, 2, 3, 1)\n",
    "\n",
    "        return y"
   ],
   "metadata": {
    "collapsed": false
   }
  },
  {
   "cell_type": "raw",
   "source": [
    "Custom loss function:"
   ],
   "metadata": {
    "collapsed": false
   }
  },
  {
   "cell_type": "code",
   "execution_count": 10,
   "outputs": [],
   "source": [
    "def myLoss(output, target):\n",
    "    # Uses BinaryClassification as a  loss function to train the network to recognize if there is a number in the cell or not\n",
    "    prob = output[:, :1]\n",
    "    probTarget = target[:, :1]\n",
    "    loss_fn = nn.BCEWithLogitsLoss()\n",
    "    loss_prob = loss_fn(prob, probTarget)\n",
    "\n",
    "    # Creates boolean mask based of if there is a number in the cell and filters out all labels where there is no number\n",
    "    outputShape = output.shape[1]\n",
    "    maskOutput = target[:, :1].eq(1).repeat(1, outputShape)\n",
    "    maskTarget = target[:, :1].eq(1).repeat(1, 6)\n",
    "    output = torch.masked_select(output, maskOutput)\n",
    "    target = torch.masked_select(target, maskTarget)\n",
    "    output = output.reshape(int(output.shape[0] / outputShape), outputShape)\n",
    "    target = target.reshape(int(target.shape[0] / 6), 6)\n",
    "\n",
    "    # If there is a number in the cell it uses MeanSquaredError as a loss function to train the network to find the number's center and its bounding box\n",
    "    bb = output[:, 1:5]\n",
    "    bbTarget = target[:, 1:5].to(dtype=torch.double)\n",
    "    loss_fn = nn.MSELoss()\n",
    "    loss_bb = loss_fn(bb, bbTarget)\n",
    "\n",
    "    # If there is a number in the cell it uses CrossEntropy as a loss function to train the network to classify the numbers\n",
    "    clas = output[:, 5:]\n",
    "    clasTarget = target[:, 5].to(dtype=torch.long)\n",
    "    loss_fn = nn.CrossEntropyLoss()\n",
    "    loss_clas = loss_fn(clas, clasTarget)\n",
    "\n",
    "    return loss_prob + loss_bb + loss_clas"
   ],
   "metadata": {
    "collapsed": false
   }
  },
  {
   "cell_type": "markdown",
   "source": [
    "Training of the models:"
   ],
   "metadata": {
    "collapsed": false
   }
  },
  {
   "cell_type": "code",
   "execution_count": 11,
   "outputs": [],
   "source": [
    "def train(n_epochs, optimizer, model, train_loader, train_mode):\n",
    "    n_batch = len(train_loader)\n",
    "    losses_train = []\n",
    "    model.train()\n",
    "    optimizer.zero_grad(set_to_none=True)\n",
    "\n",
    "    for epoch in range(1, n_epochs + 1):\n",
    "\n",
    "        loss_train = 0.0\n",
    "        for imgs, labels in train_loader:\n",
    "            imgs = imgs.to(device=device, dtype=torch.double)\n",
    "            labels = labels.to(device=device)\n",
    "            outputs = model(imgs)\n",
    "            loss = 0\n",
    "            for x in range(2):\n",
    "                for y in range(3):\n",
    "                    loss += myLoss(outputs[:, x, y, :], labels[:, x, y, :])\n",
    "\n",
    "            loss.backward()\n",
    "\n",
    "            optimizer.step()\n",
    "            optimizer.zero_grad()\n",
    "\n",
    "            loss_train += loss.item()\n",
    "\n",
    "        losses_train.append(loss_train / n_batch)\n",
    "\n",
    "        print('{}  |  Epoch {}  |  Training loss {:.5f}'.format(\n",
    "            datetime.now().time(), epoch, loss_train / n_batch))\n",
    "    train_mode.append(losses_train)"
   ],
   "metadata": {
    "collapsed": false
   }
  },
  {
   "cell_type": "code",
   "execution_count": 12,
   "outputs": [
    {
     "name": "stdout",
     "output_type": "stream",
     "text": [
      "09:20:03.134607  |  Epoch 1  |  Training loss 8.04562\n",
      "09:20:13.072124  |  Epoch 2  |  Training loss 7.32372\n",
      "09:20:22.681992  |  Epoch 3  |  Training loss 6.82792\n",
      "09:20:32.051178  |  Epoch 4  |  Training loss 6.28328\n",
      "09:20:41.459750  |  Epoch 5  |  Training loss 5.82814\n",
      "09:20:51.084445  |  Epoch 6  |  Training loss 5.53797\n",
      "09:21:00.370558  |  Epoch 7  |  Training loss 5.34697\n"
     ]
    }
   ],
   "source": [
    "train_loader = torch.utils.data.DataLoader(detection_train_data, batch_size=BATCH_SIZE, shuffle=True)\n",
    "model01 = Net01().to(device=device)\n",
    "optimizer = optim.Adam(model01.parameters(), lr=LR, betas=BETAS, eps=EPSILON, weight_decay=LAMBDA)\n",
    "train(EPOCHS, optimizer, model01, train_loader, loss_train_list)\n",
    "models.append(model01)\n",
    "model_names.append(\"LeNet Standard\")"
   ],
   "metadata": {
    "collapsed": false
   }
  },
  {
   "cell_type": "code",
   "execution_count": 13,
   "outputs": [
    {
     "name": "stdout",
     "output_type": "stream",
     "text": [
      "09:21:04.968253  |  Epoch 1  |  Training loss 10.71311\n",
      "09:21:09.304101  |  Epoch 2  |  Training loss 8.12783\n",
      "09:21:13.741749  |  Epoch 3  |  Training loss 8.07282\n",
      "09:21:18.792772  |  Epoch 4  |  Training loss 7.98140\n",
      "09:21:23.386498  |  Epoch 5  |  Training loss 7.69154\n",
      "09:21:28.204375  |  Epoch 6  |  Training loss 7.37003\n",
      "09:21:32.688807  |  Epoch 7  |  Training loss 7.02846\n"
     ]
    }
   ],
   "source": [
    "train_loader = torch.utils.data.DataLoader(detection_train_data, batch_size=BATCH_SIZE, shuffle=True)\n",
    "model02 = Net02().to(device=device)\n",
    "optimizer = optim.Adam(model02.parameters(), lr=LR, betas=BETAS, eps=EPSILON, weight_decay=LAMBDA)\n",
    "train(EPOCHS, optimizer, model02, train_loader, loss_train_list)\n",
    "models.append(model02)\n",
    "model_names.append(\"LeNet Shallow\")"
   ],
   "metadata": {
    "collapsed": false
   }
  },
  {
   "cell_type": "code",
   "execution_count": 14,
   "outputs": [
    {
     "name": "stdout",
     "output_type": "stream",
     "text": [
      "09:23:10.708994  |  Epoch 1  |  Training loss 9.97300\n",
      "09:24:48.396788  |  Epoch 2  |  Training loss 7.30924\n",
      "09:26:23.808450  |  Epoch 3  |  Training loss 6.70027\n",
      "09:27:59.978872  |  Epoch 4  |  Training loss 6.13920\n",
      "09:29:36.278638  |  Epoch 5  |  Training loss 5.76632\n",
      "09:31:14.523774  |  Epoch 6  |  Training loss 5.41164\n",
      "09:32:52.088939  |  Epoch 7  |  Training loss 5.17869\n"
     ]
    }
   ],
   "source": [
    "train_loader = torch.utils.data.DataLoader(detection_train_data, batch_size=BATCH_SIZE, shuffle=True)\n",
    "model03 = Net03().to(device=device)\n",
    "optimizer = optim.Adam(model03.parameters(), lr=LR, betas=BETAS, eps=EPSILON, weight_decay=LAMBDA)\n",
    "train(EPOCHS, optimizer, model03, train_loader, loss_train_list)\n",
    "models.append(model03)\n",
    "model_names.append(\"LeNet Deep\")"
   ],
   "metadata": {
    "collapsed": false
   }
  },
  {
   "cell_type": "markdown",
   "source": [
    "Define IoU:"
   ],
   "metadata": {
    "collapsed": false
   }
  },
  {
   "cell_type": "code",
   "execution_count": 15,
   "outputs": [],
   "source": [
    "def intersection_over_union(pred_box: torch.tensor, label_box: torch.tensor):\n",
    "    box1_x1 = pred_box[..., 0:1] - pred_box[..., 2:3] / 2\n",
    "    box1_y1 = pred_box[..., 1:2] - pred_box[..., 3:4] / 2\n",
    "    box1_x2 = pred_box[..., 0:1] + pred_box[..., 2:3] / 2\n",
    "    box1_y2 = pred_box[..., 1:2] + pred_box[..., 3:4] / 2\n",
    "\n",
    "    box2_x1 = label_box[..., 0:1] - label_box[..., 2:3] / 2\n",
    "    box2_y1 = label_box[..., 1:2] - label_box[..., 3:4] / 2\n",
    "    box2_x2 = label_box[..., 0:1] + label_box[..., 2:3] / 2\n",
    "    box2_y2 = label_box[..., 1:2] + label_box[..., 3:4] / 2\n",
    "\n",
    "    x1 = torch.max(box1_x1, box2_x1)\n",
    "    y1 = torch.max(box1_y1, box2_y1)\n",
    "    x2 = torch.min(box1_x2, box2_x2)\n",
    "    y2 = torch.min(box1_y2, box2_y2)\n",
    "\n",
    "    intersection = (x2 - x1).clamp(0) * (y2 - y1).clamp(0)\n",
    "\n",
    "    box1_area = abs((box1_x2 - box1_x1) * (box1_y2 - box1_y1))\n",
    "    box2_area = abs((box2_x2 - box2_x1) * (box2_y2 - box2_y1))\n",
    "\n",
    "    return intersection / (box1_area + box2_area - intersection + 1e-6)"
   ],
   "metadata": {
    "collapsed": false
   }
  },
  {
   "cell_type": "code",
   "execution_count": 16,
   "outputs": [],
   "source": [
    "def find_highest_acc(output):\n",
    "    output = output.squeeze()\n",
    "    classes = [x.item() for x in output]\n",
    "\n",
    "    classes = classes[5:]\n",
    "    index = (classes.index(max(classes)))\n",
    "    return index\n",
    "\n",
    "\n",
    "def get_vals(tensor: torch.tensor):\n",
    "    tens = tensor[1:5].clone().detach()\n",
    "    return torch.tensor(\n",
    "        [(int(tens[0] * 60)) - int((tens[2] / 2) * 60),\n",
    "         int(tens[1] * 48) - int((tens[3] / 2) * 48),\n",
    "         int(tens[2] * 60),\n",
    "         int(tens[3] * 48)],\n",
    "        dtype=torch.int)"
   ],
   "metadata": {
    "collapsed": false
   }
  },
  {
   "cell_type": "markdown",
   "source": [
    "Define Accuracy:"
   ],
   "metadata": {
    "collapsed": false
   }
  },
  {
   "cell_type": "code",
   "execution_count": null,
   "outputs": [],
   "source": [
    "# Correct is defined as correct classification and IoU > 50% for a bounding box\n",
    "def compute_acc(model, loader):\n",
    "    correct = 0.\n",
    "    total = 0.\n",
    "    with torch.no_grad():\n",
    "        model.eval()\n",
    "        for imgs, labels in loader:\n",
    "            imgs = imgs.to(device=device, dtype=torch.double)\n",
    "            labels = labels.to(device=device)\n",
    "            output = model(imgs)\n",
    "            for x in range(2):\n",
    "                for y in range(3):\n",
    "                    tensor_ = output[:, x, y, :].squeeze()\n",
    "                    label_box = labels[:, x, y, :].squeeze()\n",
    "                    IoU = intersection_over_union(get_vals(label_box), get_vals(tensor_))\n",
    "                    tensor_[5:] = torch.nn.functional.softmax(tensor_[5:].clone(), dim=0)\n",
    "                    true_class = int(label_box[-1].item())\n",
    "                    predicted_class = find_highest_acc(tensor_)\n",
    "                    if true_class == predicted_class and IoU > 0.5:\n",
    "                        correct += 1\n",
    "                        total += 1\n",
    "                    else:\n",
    "                        total += 1\n",
    "\n",
    "    return ((correct + IoU) / total).item()"
   ],
   "metadata": {
    "collapsed": false
   }
  },
  {
   "cell_type": "markdown",
   "source": [
    "Model Performance and Accuracy:"
   ],
   "metadata": {
    "collapsed": false
   }
  },
  {
   "cell_type": "code",
   "execution_count": 17,
   "outputs": [
    {
     "data": {
      "text/plain": "<Figure size 2100x500 with 3 Axes>",
      "image/png": "[encoded data removed]"
     },
     "metadata": {},
     "output_type": "display_data"
    }
   ],
   "source": [
    "n_model = len(models)\n",
    "\n",
    "fig, axes = plt.subplots(1, n_model, figsize=(7 * n_model, 5), sharey=True, squeeze=False)\n",
    "\n",
    "for l_train, name, ax in zip(loss_train_list, model_names, axes.flat):\n",
    "    ax.plot(l_train, label='train', color=random.choice(['r', 'b', 'y', 'g', 'c', 'm']))\n",
    "    ax.set_title(str(name))\n",
    "    ax.set_xlabel('Epochs')\n",
    "    ax.set_ylabel('Loss')\n",
    "    ax.legend()\n",
    "\n",
    "plt.show()"
   ],
   "metadata": {
    "collapsed": false
   }
  },
  {
   "cell_type": "code",
   "execution_count": 18,
   "outputs": [
    {
     "name": "stdout",
     "output_type": "stream",
     "text": [
      "Accuracy of LeNet Standard is 3.1223083548664947\n",
      "Accuracy of LeNet Shallow is 2.3040482342807924\n",
      "Accuracy of LeNet Deep is 3.55297157622739\n",
      "The best model is LeNet Deep\n"
     ]
    }
   ],
   "source": [
    "model_score = []\n",
    "\n",
    "for i, model in enumerate(models):\n",
    "    val_load = torch.utils.data.DataLoader(detection_val_data, shuffle=True)\n",
    "    model_perf = compute_acc(model, val_load) * 100\n",
    "    model_score.append(model_perf)\n",
    "    print(f\"Accuracy of {model_names[i]} is {model_perf}\")\n",
    "\n",
    "index_best_model = (model_score.index(max(model_score)))\n",
    "best_model = models[index_best_model]\n",
    "print(f\"The best model is {model_names[index_best_model]}\")"
   ],
   "metadata": {
    "collapsed": false
   }
  },
  {
   "cell_type": "markdown",
   "source": [
    "Showcasing The Best Models Performance In Object Detection:"
   ],
   "metadata": {
    "collapsed": false
   }
  },
  {
   "cell_type": "code",
   "execution_count": 22,
   "outputs": [
    {
     "data": {
      "text/plain": "<Figure size 640x480 with 1 Axes>",
      "image/png": "[encoded data removed]"
     },
     "metadata": {},
     "output_type": "display_data"
    }
   ],
   "source": [
    "img, label = detection_test_data[random.randint(0, len(detection_val_data))]\n",
    "img = img.to(device, dtype=torch.double)\n",
    "\n",
    "tensor_image = transforms.ToPILImage()(img).convert(\"RGB\")\n",
    "plt.show()\n",
    "\n",
    "best_model.eval()\n",
    "output = best_model(img.unsqueeze(0))[0]\n",
    "pred = torch.nn.functional.softmax(output[:,:,0].reshape(-1).clone(), dim=0).reshape(2,3,1)\n",
    "\n",
    "fig, ax = plt.subplots(1)\n",
    "ax.imshow(tensor_image)\n",
    "for cell_y in range(label.shape[0]):\n",
    "    for cell_x in range(label.shape[1]):\n",
    "        number_in_cell = label[cell_y, cell_x, 0].item()\n",
    "        number_in_cell_pred = pred[cell_y, cell_x, 0].item()\n",
    "        if number_in_cell == 1.0:\n",
    "            cell = label[cell_y,cell_x]\n",
    "            x = cell[1].item()\n",
    "            y = cell[2].item()\n",
    "            w = cell[3].item()\n",
    "            h = cell[4].item()\n",
    "            true_bb = patches.Rectangle((cell_x * 20 + (x * 20 - (w * 20) / 2), cell_y * 24 + (y * 24 - (h * 24) / 2)), w * 20, h * 24, linewidth=3, edgecolor='r', facecolor='none')\n",
    "            ax.add_patch(true_bb)\n",
    "        elif number_in_cell_pred > 0.2:\n",
    "            cell = output[cell_y,cell_x]\n",
    "            x = cell[1].item()\n",
    "            y = cell[2].item()\n",
    "            w = cell[3].item()\n",
    "            h = cell[4].item()\n",
    "            pred_bb = patches.Rectangle((cell_x * 20 + (x * 20 - (w * 20) / 2), cell_y * 24 + (y * 24 - (h * 24) / 2)), w * 20, h * 24, linewidth=3, edgecolor='b', facecolor='none', label=str(torch.argmax(cell[5:]).item()))\n",
    "            ax.add_patch(pred_bb)\n",
    "\n",
    "plt.legend(loc='upper right')\n",
    "plt.show()"
   ],
   "metadata": {
    "collapsed": false
   }
  },
  {
   "cell_type": "code",
   "execution_count": 20,
   "outputs": [
    {
     "name": "stdout",
     "output_type": "stream",
     "text": [
      "The accuracy of the best model is: 3.594386940065412% in object detection and classification\n"
     ]
    }
   ],
   "source": [
    "test_load = torch.utils.data.DataLoader(detection_test_data, shuffle=True)\n",
    "acc = compute_acc(best_model, test_load)\n",
    "print(f\"The accuracy of the best model is: {acc*100}% in object detection and classification\")"
   ],
   "metadata": {
    "collapsed": false
   }
  },
  {
   "cell_type": "code",
   "execution_count": 20,
   "outputs": [],
   "source": [],
   "metadata": {
    "collapsed": false
   }
  }
 ],
 "metadata": {
  "kernelspec": {
   "display_name": "Python 3",
   "language": "python",
   "name": "python3"
  },
  "language_info": {
   "codemirror_mode": {
    "name": "ipython",
    "version": 2
   },
   "file_extension": ".py",
   "mimetype": "text/x-python",
   "name": "python",
   "nbconvert_exporter": "python",
   "pygments_lexer": "ipython2",
   "version": "2.7.6"
  }
 },
 "nbformat": 4,
 "nbformat_minor": 0
}

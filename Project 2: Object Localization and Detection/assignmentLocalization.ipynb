{
 "cells": [
  {
   "cell_type": "code",
   "execution_count": 1,
   "metadata": {
    "collapsed": true
   },
   "outputs": [],
   "source": [
    "# imports\n",
    "\n",
    "import random\n",
    "from datetime import datetime\n",
    "\n",
    "import matplotlib.pyplot as plt\n",
    "import torch\n",
    "import torch.nn as nn\n",
    "import torch.optim as optim\n",
    "from matplotlib import patches\n",
    "from torch.utils.data import random_split\n",
    "from torchvision import transforms\n",
    "\n",
    "torch.manual_seed(265)\n",
    "torch.set_default_dtype(torch.double)"
   ]
  },
  {
   "cell_type": "code",
   "execution_count": 2,
   "outputs": [],
   "source": [
    "path = 'datasets/'\n",
    "train_path = path + 'localization_test.pt'\n",
    "val_path = path + 'localization_val.pt'\n",
    "test_path = path + 'localization_test.pt'\n",
    "device = 'cuda' if torch.cuda.is_available() else 'cpu'\n",
    "\n",
    "# Model parameters\n",
    "EPOCHS = 20  # Epochs\n",
    "BATCH_SIZE = 64  # Batch size\n",
    "KEEP_PROB = 1  # Dropout\n",
    "\n",
    "#Optimizer parameters\n",
    "LR = 1e-2  # Learning Rate\n",
    "BETAS = (0.9, 0.999)  # ADAM Momentum and RSMProp Betas\n",
    "EPSILON = 1e-8  # ADAM Vanishing and Exploding Gradients\n",
    "LAMBDA = 1e-4  # L2 Regularization\n",
    "\n",
    "models = []\n",
    "model_names = []\n",
    "loss_train_list = []\n",
    "loss_val_list = []"
   ],
   "metadata": {
    "collapsed": false
   }
  },
  {
   "cell_type": "code",
   "execution_count": 3,
   "outputs": [],
   "source": [
    "train_data = torch.load(train_path)\n",
    "val_data = torch.load(val_path)\n",
    "test_data = torch.load(test_path)"
   ],
   "metadata": {
    "collapsed": false
   }
  },
  {
   "cell_type": "code",
   "execution_count": 4,
   "outputs": [],
   "source": [
    "# Train normalization\n",
    "train_all = [x for x, _ in train_data]\n",
    "trainto_one_tensor = torch.stack(train_all)\n",
    "\n",
    "mean = trainto_one_tensor.mean()\n",
    "std = trainto_one_tensor.std()\n",
    "\n",
    "train_data_n = train_data\n",
    "train_data.transform = transforms.Normalize(mean, std)\n",
    "\n",
    "# Val normalization\n",
    "val_all = [x for x, _ in val_data]\n",
    "val_to_one_tensor = torch.stack(val_all)\n",
    "\n",
    "mean = val_to_one_tensor.mean()\n",
    "std = val_to_one_tensor.std()\n",
    "\n",
    "val_data_n = val_data\n",
    "val_data_n.transform = transforms.Normalize(mean, std)\n",
    "\n",
    "# Test normalization\n",
    "test_all = [x for x, _ in test_data]\n",
    "test_to_one_tensor = torch.stack(test_all)\n",
    "\n",
    "mean = test_to_one_tensor.mean()\n",
    "std = test_to_one_tensor.std()\n",
    "\n",
    "test_data_n = test_data\n",
    "test_data_n.transform = transforms.Normalize(mean, std)"
   ],
   "metadata": {
    "collapsed": false
   }
  },
  {
   "cell_type": "code",
   "execution_count": 5,
   "outputs": [],
   "source": [
    "def print_random_img(data):\n",
    "    x, y = data.__getitem__(random.randint(0, len(data)))\n",
    "    tensor_image = transforms.ToPILImage()(x).convert(\"RGB\")\n",
    "    plt.imshow(tensor_image)\n",
    "    plt.show()"
   ],
   "metadata": {
    "collapsed": false
   }
  },
  {
   "cell_type": "code",
   "execution_count": 6,
   "outputs": [
    {
     "data": {
      "text/plain": "<Figure size 640x480 with 1 Axes>",
      "image/png": "[encoded data removed]"
     },
     "metadata": {},
     "output_type": "display_data"
    }
   ],
   "source": [
    "print_random_img(train_data)"
   ],
   "metadata": {
    "collapsed": false
   }
  },
  {
   "cell_type": "markdown",
   "source": [
    "Standard LeNet5 Model:"
   ],
   "metadata": {
    "collapsed": false
   }
  },
  {
   "cell_type": "code",
   "execution_count": 7,
   "outputs": [],
   "source": [
    "class Net01(nn.Module):\n",
    "    def __init__(self):\n",
    "        super().__init__()\n",
    "        self.layer1 = torch.nn.Sequential(\n",
    "            nn.Conv2d(in_channels=1, out_channels=6, kernel_size=5),\n",
    "            nn.ReLU(),\n",
    "            nn.MaxPool2d(2),\n",
    "            torch.nn.Dropout(p=1 - KEEP_PROB)\n",
    "        )\n",
    "        self.layer2 = torch.nn.Sequential(\n",
    "            nn.Conv2d(in_channels=6, out_channels=16, kernel_size=5),\n",
    "            nn.ReLU(),\n",
    "            nn.MaxPool2d(2),\n",
    "            torch.nn.Dropout(p=1 - KEEP_PROB)\n",
    "        )\n",
    "        self.layer3 = torch.nn.Sequential(\n",
    "            nn.Linear(in_features=9 * 12 * 16, out_features=120),\n",
    "            nn.ReLU(),\n",
    "            torch.nn.Dropout(p=1 - KEEP_PROB)\n",
    "        )\n",
    "        self.layer4 = torch.nn.Sequential(\n",
    "            nn.Linear(in_features=120, out_features=84),\n",
    "            nn.ReLU(),\n",
    "            torch.nn.Dropout(p=1 - KEEP_PROB)\n",
    "        )\n",
    "        self.fc5 = nn.Linear(in_features=84, out_features=15)\n",
    "\n",
    "    def forward(self, x):\n",
    "        y = self.layer1(x)\n",
    "        y = self.layer2(y)\n",
    "        y = y.view(y.shape[0], -1)\n",
    "        y = self.layer3(y)\n",
    "        y = self.layer4(y)\n",
    "        y = self.fc5(y)\n",
    "\n",
    "        return y"
   ],
   "metadata": {
    "collapsed": false
   }
  },
  {
   "cell_type": "markdown",
   "source": [
    "Shallow LeNet5 Model:"
   ],
   "metadata": {
    "collapsed": false
   }
  },
  {
   "cell_type": "code",
   "execution_count": 8,
   "outputs": [],
   "source": [
    "class Net02(nn.Module):\n",
    "    def __init__(self):\n",
    "        super().__init__()\n",
    "        self.layer1 = torch.nn.Sequential(\n",
    "            nn.Conv2d(in_channels=1, out_channels=3, kernel_size=5),\n",
    "            nn.ReLU(),\n",
    "            nn.MaxPool2d(2),\n",
    "            torch.nn.Dropout(p=1 - KEEP_PROB)\n",
    "        )\n",
    "        self.layer2 = torch.nn.Sequential(\n",
    "            nn.Conv2d(in_channels=3, out_channels=8, kernel_size=5),\n",
    "            nn.ReLU(),\n",
    "            nn.MaxPool2d(2),\n",
    "            torch.nn.Dropout(p=1 - KEEP_PROB)\n",
    "        )\n",
    "        self.layer3 = torch.nn.Sequential(\n",
    "            nn.Linear(in_features=9 * 12 * 8, out_features=84),\n",
    "            nn.ReLU(),\n",
    "            torch.nn.Dropout(p=1 - KEEP_PROB)\n",
    "        )\n",
    "        self.fc4 = nn.Linear(in_features=84, out_features=15)\n",
    "\n",
    "    def forward(self, x):\n",
    "        y = self.layer1(x)\n",
    "        y = self.layer2(y)\n",
    "        y = y.view(y.shape[0], -1)\n",
    "        y = self.layer3(y)\n",
    "        y = self.fc4(y)\n",
    "\n",
    "        return y"
   ],
   "metadata": {
    "collapsed": false
   }
  },
  {
   "cell_type": "markdown",
   "source": [
    "Deep LeNet5 Model:"
   ],
   "metadata": {
    "collapsed": false
   }
  },
  {
   "cell_type": "code",
   "execution_count": 9,
   "outputs": [],
   "source": [
    "class Net03(nn.Module):\n",
    "    def __init__(self):\n",
    "        super().__init__()\n",
    "        self.layer1 = torch.nn.Sequential(\n",
    "            nn.Conv2d(in_channels=1, out_channels=12, kernel_size=5),\n",
    "            nn.ReLU(),\n",
    "            nn.MaxPool2d(2),\n",
    "            torch.nn.Dropout(p=1 - KEEP_PROB)\n",
    "        )\n",
    "        self.layer2 = torch.nn.Sequential(\n",
    "            nn.Conv2d(in_channels=12, out_channels=32, kernel_size=5),\n",
    "            nn.ReLU(),\n",
    "            nn.MaxPool2d(2),\n",
    "            torch.nn.Dropout(p=1 - KEEP_PROB)\n",
    "        )\n",
    "        self.layer3 = torch.nn.Sequential(\n",
    "            nn.Linear(in_features=9 * 12 * 32, out_features=240),\n",
    "            nn.ReLU(),\n",
    "            torch.nn.Dropout(p=1 - KEEP_PROB)\n",
    "        )\n",
    "        self.layer4 = torch.nn.Sequential(\n",
    "            nn.Linear(in_features=240, out_features=168),\n",
    "            nn.ReLU(),\n",
    "            torch.nn.Dropout(p=1 - KEEP_PROB)\n",
    "        )\n",
    "        self.layer5 = torch.nn.Sequential(\n",
    "            nn.Linear(in_features=168, out_features=84),\n",
    "            nn.ReLU(),\n",
    "            torch.nn.Dropout(p=1 - KEEP_PROB)\n",
    "        )\n",
    "        self.fc6 = nn.Linear(in_features=84, out_features=15)\n",
    "\n",
    "    def forward(self, x):\n",
    "        y = self.layer1(x)\n",
    "        y = self.layer2(y)\n",
    "        y = y.view(y.shape[0], -1)\n",
    "        y = self.layer3(y)\n",
    "        y = self.layer4(y)\n",
    "        y = self.layer5(y)\n",
    "        y = self.fc6(y)\n",
    "\n",
    "        return y"
   ],
   "metadata": {
    "collapsed": false
   }
  },
  {
   "cell_type": "markdown",
   "source": [
    "Custom loss function:"
   ],
   "metadata": {
    "collapsed": false
   }
  },
  {
   "cell_type": "code",
   "execution_count": 10,
   "outputs": [],
   "source": [
    "def myLoss(output, target):\n",
    "    # Uses BinaryClassification as a  loss function to train the network to recognize if there is a number in the cell or not\n",
    "    prob = output[:, :1]\n",
    "    probTarget = target[:, :1]\n",
    "    loss_fn = nn.BCEWithLogitsLoss()\n",
    "    loss_prob = loss_fn(prob, probTarget)\n",
    "\n",
    "    # Creates boolean mask based of if there is a number in the cell and filters out all labels where there is no number\n",
    "    outputShape = output.shape[1]\n",
    "    maskOutput = target[:, :1].eq(1).repeat(1, outputShape)\n",
    "    maskTarget = target[:, :1].eq(1).repeat(1, 6)\n",
    "    output = torch.masked_select(output, maskOutput)\n",
    "    target = torch.masked_select(target, maskTarget)\n",
    "    output = output.reshape(int(output.shape[0] / outputShape), outputShape)\n",
    "    target = target.reshape(int(target.shape[0] / 6), 6)\n",
    "\n",
    "    # If there is a number ni the cell it uses MeanSquaredError as a loss function to train the network to find the number's center and its bounding box\n",
    "    bb = output[:, 1:5]\n",
    "    bbTarget = target[:, 1:5].to(dtype=torch.double)\n",
    "    loss_fn = nn.MSELoss()\n",
    "    loss_bb = loss_fn(bb, bbTarget)\n",
    "\n",
    "    # If there is a number in the cell it uses CrossEntropy as a loss function to train the network to classify the numbers\n",
    "    clas = output[:, 5:]\n",
    "    clasTarget = target[:, 5].to(dtype=torch.long)\n",
    "    loss_fn = nn.CrossEntropyLoss()\n",
    "    loss_clas = loss_fn(clas, clasTarget)\n",
    "\n",
    "    return loss_prob + loss_bb + loss_clas"
   ],
   "metadata": {
    "collapsed": false
   }
  },
  {
   "cell_type": "code",
   "execution_count": 11,
   "outputs": [],
   "source": [
    "def train(n_epochs, optimizer, model, train_loader, train_mode):\n",
    "    \"\"\"\n",
    "    Train our model and save weight values\n",
    "    \"\"\"\n",
    "    n_batch = len(train_loader)\n",
    "    losses_train = []\n",
    "    model.train()\n",
    "    optimizer.zero_grad(set_to_none=True)\n",
    "\n",
    "    for epoch in range(1, n_epochs + 1):\n",
    "\n",
    "        loss_train = 0.0\n",
    "        for imgs, labels in train_loader:\n",
    "            imgs = imgs.to(device=device, dtype=torch.double)\n",
    "            labels = labels.to(device=device)\n",
    "\n",
    "            outputs = model(imgs)\n",
    "\n",
    "            loss = myLoss(outputs, labels)\n",
    "            loss.backward()\n",
    "\n",
    "            optimizer.step()\n",
    "            optimizer.zero_grad()\n",
    "\n",
    "            loss_train += loss.item()\n",
    "\n",
    "        losses_train.append(loss_train / n_batch)\n",
    "\n",
    "        print('{}  |  Epoch {}  |  Training loss {:.5f}'.format(\n",
    "            datetime.now().time(), epoch, loss_train / n_batch))\n",
    "    train_mode.append(losses_train)"
   ],
   "metadata": {
    "collapsed": false
   }
  },
  {
   "cell_type": "code",
   "execution_count": 12,
   "outputs": [
    {
     "name": "stdout",
     "output_type": "stream",
     "text": [
      "17:50:47.127798  |  Epoch 1  |  Training loss 2.39718\n",
      "17:50:54.965426  |  Epoch 2  |  Training loss 2.33537\n",
      "17:51:02.317176  |  Epoch 3  |  Training loss 2.33053\n",
      "17:51:09.700542  |  Epoch 4  |  Training loss 2.32760\n",
      "17:51:17.199959  |  Epoch 5  |  Training loss 2.32775\n",
      "17:51:25.123504  |  Epoch 6  |  Training loss 2.32736\n",
      "17:51:32.560402  |  Epoch 7  |  Training loss 2.32769\n",
      "17:51:39.805631  |  Epoch 8  |  Training loss 2.32508\n",
      "17:51:46.848763  |  Epoch 9  |  Training loss 2.32653\n",
      "17:51:54.050367  |  Epoch 10  |  Training loss 2.32608\n",
      "17:52:01.090044  |  Epoch 11  |  Training loss 2.32668\n",
      "17:52:08.216076  |  Epoch 12  |  Training loss 2.32472\n",
      "17:52:15.386721  |  Epoch 13  |  Training loss 2.32624\n",
      "17:52:22.511715  |  Epoch 14  |  Training loss 2.32539\n",
      "17:52:29.360131  |  Epoch 15  |  Training loss 2.32434\n",
      "17:52:36.161498  |  Epoch 16  |  Training loss 2.32450\n",
      "17:52:43.013432  |  Epoch 17  |  Training loss 2.32499\n",
      "17:52:49.741504  |  Epoch 18  |  Training loss 2.32534\n",
      "17:52:56.508473  |  Epoch 19  |  Training loss 2.32474\n",
      "17:53:03.306791  |  Epoch 20  |  Training loss 2.32544\n"
     ]
    }
   ],
   "source": [
    "train_loader = torch.utils.data.DataLoader(train_data_n, batch_size=BATCH_SIZE, shuffle=True)\n",
    "model01 = Net01().to(device=device)\n",
    "optimizer = optim.Adam(model01.parameters(), lr=LR, betas=BETAS, eps=EPSILON, weight_decay=LAMBDA)\n",
    "train(EPOCHS, optimizer, model01, train_loader, loss_train_list)\n",
    "models.append(model01)\n",
    "model_names.append(\"LeNet Standard\")"
   ],
   "metadata": {
    "collapsed": false
   }
  },
  {
   "cell_type": "code",
   "execution_count": 13,
   "outputs": [
    {
     "name": "stdout",
     "output_type": "stream",
     "text": [
      "17:53:07.266514  |  Epoch 1  |  Training loss 2.37788\n",
      "17:53:11.139807  |  Epoch 2  |  Training loss 2.31931\n",
      "17:53:15.049907  |  Epoch 3  |  Training loss 2.33048\n",
      "17:53:18.940470  |  Epoch 4  |  Training loss 2.32973\n",
      "17:53:22.824207  |  Epoch 5  |  Training loss 2.32993\n",
      "17:53:26.711611  |  Epoch 6  |  Training loss 2.32883\n",
      "17:53:30.621602  |  Epoch 7  |  Training loss 2.32814\n",
      "17:53:34.502379  |  Epoch 8  |  Training loss 2.32742\n",
      "17:53:38.388292  |  Epoch 9  |  Training loss 2.31409\n",
      "17:53:42.263491  |  Epoch 10  |  Training loss 2.23112\n",
      "17:53:46.171677  |  Epoch 11  |  Training loss 2.07783\n",
      "17:53:50.077470  |  Epoch 12  |  Training loss 1.98478\n",
      "17:53:53.976755  |  Epoch 13  |  Training loss 1.88831\n",
      "17:53:57.891107  |  Epoch 14  |  Training loss 1.82057\n",
      "17:54:01.842772  |  Epoch 15  |  Training loss 1.76826\n",
      "17:54:05.744090  |  Epoch 16  |  Training loss 1.73418\n",
      "17:54:09.630587  |  Epoch 17  |  Training loss 1.70306\n",
      "17:54:13.534057  |  Epoch 18  |  Training loss 1.65462\n",
      "17:54:17.434464  |  Epoch 19  |  Training loss 1.62303\n",
      "17:54:21.305933  |  Epoch 20  |  Training loss 1.60736\n"
     ]
    }
   ],
   "source": [
    "train_loader = torch.utils.data.DataLoader(train_data_n, batch_size=BATCH_SIZE, shuffle=True)\n",
    "model02 = Net02().to(device=device)\n",
    "optimizer = optim.Adam(model02.parameters(), lr=LR, betas=BETAS, eps=EPSILON, weight_decay=LAMBDA)\n",
    "train(EPOCHS, optimizer, model02, train_loader, loss_train_list)\n",
    "models.append(model02)\n",
    "model_names.append(\"LeNet Shallow\")"
   ],
   "metadata": {
    "collapsed": false
   }
  },
  {
   "cell_type": "code",
   "execution_count": 14,
   "outputs": [
    {
     "name": "stdout",
     "output_type": "stream",
     "text": [
      "17:54:44.428994  |  Epoch 1  |  Training loss 2.56227\n",
      "17:55:09.556623  |  Epoch 2  |  Training loss 2.33386\n",
      "17:55:31.986512  |  Epoch 3  |  Training loss 2.33169\n",
      "17:55:53.999995  |  Epoch 4  |  Training loss 2.32846\n",
      "17:56:15.755542  |  Epoch 5  |  Training loss 2.32843\n",
      "17:56:37.275480  |  Epoch 6  |  Training loss 2.32712\n",
      "17:56:59.055557  |  Epoch 7  |  Training loss 2.32684\n",
      "17:57:21.834659  |  Epoch 8  |  Training loss 2.32706\n",
      "17:57:43.413918  |  Epoch 9  |  Training loss 2.32699\n",
      "17:58:05.185354  |  Epoch 10  |  Training loss 2.32652\n",
      "17:58:26.821330  |  Epoch 11  |  Training loss 2.32661\n",
      "17:58:48.767192  |  Epoch 12  |  Training loss 2.32543\n",
      "17:59:10.651236  |  Epoch 13  |  Training loss 2.32596\n",
      "17:59:32.769183  |  Epoch 14  |  Training loss 2.32516\n",
      "17:59:54.787094  |  Epoch 15  |  Training loss 2.32459\n",
      "18:00:16.828051  |  Epoch 16  |  Training loss 2.32480\n",
      "18:00:38.268495  |  Epoch 17  |  Training loss 2.32512\n",
      "18:00:59.799250  |  Epoch 18  |  Training loss 2.32461\n",
      "18:01:21.331481  |  Epoch 19  |  Training loss 2.32507\n",
      "18:01:43.054873  |  Epoch 20  |  Training loss 2.32510\n"
     ]
    }
   ],
   "source": [
    "train_loader = torch.utils.data.DataLoader(train_data_n, batch_size=BATCH_SIZE, shuffle=True)\n",
    "model03 = Net03().to(device=device)\n",
    "optimizer = optim.Adam(model03.parameters(), lr=LR, betas=BETAS, eps=EPSILON, weight_decay=LAMBDA)\n",
    "train(EPOCHS, optimizer, model03, train_loader, loss_train_list)\n",
    "models.append(model03)\n",
    "model_names.append(\"LeNet Deep\")"
   ],
   "metadata": {
    "collapsed": false
   }
  },
  {
   "cell_type": "code",
   "execution_count": 15,
   "outputs": [],
   "source": [
    "def intersection_over_union(pred_box: torch.tensor, label_box: torch.tensor):\n",
    "    box1_x1 = pred_box[..., 0:1] - pred_box[..., 2:3] / 2\n",
    "    box1_y1 = pred_box[..., 1:2] - pred_box[..., 3:4] / 2\n",
    "    box1_x2 = pred_box[..., 0:1] + pred_box[..., 2:3] / 2\n",
    "    box1_y2 = pred_box[..., 1:2] + pred_box[..., 3:4] / 2\n",
    "\n",
    "    box2_x1 = label_box[..., 0:1] - label_box[..., 2:3] / 2\n",
    "    box2_y1 = label_box[..., 1:2] - label_box[..., 3:4] / 2\n",
    "    box2_x2 = label_box[..., 0:1] + label_box[..., 2:3] / 2\n",
    "    box2_y2 = label_box[..., 1:2] + label_box[..., 3:4] / 2\n",
    "\n",
    "    x1 = torch.max(box1_x1, box2_x1)\n",
    "    y1 = torch.max(box1_y1, box2_y1)\n",
    "    x2 = torch.min(box1_x2, box2_x2)\n",
    "    y2 = torch.min(box1_y2, box2_y2)\n",
    "\n",
    "    intersection = (x2 - x1).clamp(0) * (y2 - y1).clamp(0)\n",
    "\n",
    "    box1_area = abs((box1_x2 - box1_x1) * (box1_y2 - box1_y1))\n",
    "    box2_area = abs((box2_x2 - box2_x1) * (box2_y2 - box2_y1))\n",
    "\n",
    "    return intersection / (box1_area + box2_area - intersection + 1e-6)"
   ],
   "metadata": {
    "collapsed": false
   }
  },
  {
   "cell_type": "code",
   "execution_count": 16,
   "outputs": [],
   "source": [
    "def find_highest_acc(output):\n",
    "    output = output.squeeze()\n",
    "    classes = [x.item() for x in output]\n",
    "    classes = classes[5:]\n",
    "    index = (classes.index(max(classes)))\n",
    "    return index\n",
    "\n",
    "\n",
    "def get_vals(tensor: torch.tensor):\n",
    "    \"\"\"\n",
    "    :param tensor:\n",
    "    :return x, y, w, h:\n",
    "    \"\"\"\n",
    "    tens = tensor[0][1:5].clone().detach()\n",
    "    return torch.tensor(\n",
    "        [(int(tens[0] * 60)) - int((tens[2] / 2) * 60),\n",
    "         int(tens[1] * 48) - int((tens[3] / 2) * 48),\n",
    "         int(tens[2] * 60),\n",
    "         int(tens[3] * 48)],\n",
    "        dtype=torch.int)\n",
    "\n",
    "\n",
    "def compute_acc(model, loader):\n",
    "    correct = 0.\n",
    "    total = 0.\n",
    "    IoU = 0\n",
    "    with torch.no_grad():\n",
    "        model.eval()\n",
    "        for imgs, labels in loader:\n",
    "            imgs = imgs.to(device=device, dtype=torch.double)\n",
    "            labels = labels.to(device=device)\n",
    "            output = model(imgs)\n",
    "            IoU += intersection_over_union(get_vals(labels), get_vals(output))\n",
    "            output = output.squeeze()\n",
    "            output[5:] = torch.nn.functional.softmax(output[5:].clone(), dim=0)\n",
    "            true_class = int(labels[0][-1].item())\n",
    "            predicted_class = find_highest_acc(output)\n",
    "            if true_class == predicted_class:\n",
    "                correct += 1\n",
    "                total += 1\n",
    "            else:\n",
    "                total += 1\n",
    "\n",
    "    return ((correct + IoU) / total).item()"
   ],
   "metadata": {
    "collapsed": false
   }
  },
  {
   "cell_type": "code",
   "execution_count": 17,
   "outputs": [],
   "source": [
    "SMOOTH = 1e-6\n",
    "\n",
    "def iou_pytorch(outputs: torch.Tensor, labels: torch.Tensor):\n",
    "    outputs = outputs.unsqueeze(dim=1)\n",
    "    labels = outputs.unsqueeze(dim=1)\n",
    "    intersection = (outputs & labels).float().sum((1, 2))  # Will be zero if Truth=0 or Prediction=0\n",
    "    union = (outputs | labels).float().sum((1, 2))  # Will be zero if both are 0\n",
    "\n",
    "    iou = (intersection + SMOOTH) / (union + SMOOTH)  # We smooth our devision to avoid 0/0\n",
    "\n",
    "    thresholded = torch.clamp(20 * (iou - 0.5), 0, 10).ceil() / 10  # This is equal to comparing with thresolds\n",
    "\n",
    "    return thresholded"
   ],
   "metadata": {
    "collapsed": false
   }
  },
  {
   "cell_type": "code",
   "execution_count": 18,
   "outputs": [
    {
     "data": {
      "text/plain": "<Figure size 2100x500 with 3 Axes>",
      "image/png": "[encoded data removed]"
     },
     "metadata": {},
     "output_type": "display_data"
    }
   ],
   "source": [
    "n_model = len(models)\n",
    "\n",
    "fig, axes = plt.subplots(1, n_model, figsize=(7 * n_model, 5), sharey=True, squeeze=False)\n",
    "\n",
    "for l_train, name, ax in zip(loss_train_list, model_names, axes.flat):\n",
    "    ax.plot(l_train, label='train', color=random.choice(['r', 'b', 'y', 'g', 'c', 'm']))\n",
    "    ax.set_title(str(name))\n",
    "    ax.set_xlabel('Epochs')\n",
    "    ax.set_ylabel('Loss')\n",
    "    ax.legend()\n",
    "\n",
    "plt.show()"
   ],
   "metadata": {
    "collapsed": false
   }
  },
  {
   "cell_type": "markdown",
   "source": [
    "Best model is:"
   ],
   "metadata": {
    "collapsed": false
   }
  },
  {
   "cell_type": "markdown",
   "source": [],
   "metadata": {
    "collapsed": false
   }
  },
  {
   "cell_type": "code",
   "execution_count": 19,
   "outputs": [
    {
     "name": "stdout",
     "output_type": "stream",
     "text": [
      "Accuracy of LeNet Standard is 23.594110590002963\n",
      "Accuracy of LeNet Shallow is 60.59473741858164\n",
      "Accuracy of LeNet Deep is 23.594110590002963\n",
      "The best model is LeNet Shallow\n"
     ]
    }
   ],
   "source": [
    "model_score = []\n",
    "for i, model in enumerate(models):\n",
    "    val_loader = torch.utils.data.DataLoader(val_data_n, shuffle=False)\n",
    "    model_perf = compute_acc(model, val_loader) * 100\n",
    "    model_score.append(model_perf)\n",
    "    print(f\"Accuracy of {model_names[i]} is {model_perf}\")\n",
    "\n",
    "index_best_model = (model_score.index(max(model_score)))\n",
    "best_model = models[index_best_model]\n",
    "print(f\"The best model is {model_names[index_best_model]}\")"
   ],
   "metadata": {
    "collapsed": false
   }
  },
  {
   "cell_type": "code",
   "execution_count": 20,
   "outputs": [],
   "source": [
    "def draw_bounding_box_man(pan, true_tup, pred_tup, true_w, pred_w, true_h, pred_h):\n",
    "    fig, ax = plt.subplots(1)\n",
    "    ax.imshow(pan)\n",
    "    true_x = true_tup[0]\n",
    "    true_y = true_tup[1]\n",
    "    true_bb = patches.Rectangle((true_x, true_y), true_w, true_h, linewidth=3, edgecolor='r',\n",
    "                                facecolor='none')\n",
    "    pred_bb = patches.Rectangle((pred_tup[0], pred_tup[1]), pred_w, pred_h, linewidth=3, edgecolor='b',\n",
    "                                facecolor='none')\n",
    "\n",
    "    ax.add_patch(true_bb)\n",
    "    ax.add_patch(pred_bb)\n",
    "\n",
    "    plt.show()"
   ],
   "metadata": {
    "collapsed": false
   }
  },
  {
   "cell_type": "code",
   "execution_count": 97,
   "outputs": [
    {
     "name": "stdout",
     "output_type": "stream",
     "text": [
      "Intersection over union is: 63.95147302608064\n"
     ]
    },
    {
     "data": {
      "text/plain": "<Figure size 640x480 with 1 Axes>",
      "image/png": "[encoded data removed]"
     },
     "metadata": {},
     "output_type": "display_data"
    },
    {
     "name": "stdout",
     "output_type": "stream",
     "text": [
      "Correct label is: 2\n",
      "The model prediction is: 2\n",
      "========================\n",
      "Confidence: 16.2766 % for element 0\n",
      "Confidence: 0.0574 % for element 1\n",
      "Confidence: 48.5254 % for element 2\n",
      "Confidence: 3.3472 % for element 3\n",
      "Confidence: 3.8875 % for element 4\n",
      "Confidence: 7.4259 % for element 5\n",
      "Confidence: 12.1274 % for element 6\n",
      "Confidence: 0.5205 % for element 7\n",
      "Confidence: 7.0468 % for element 8\n",
      "Confidence: 0.7853 % for element 9\n"
     ]
    }
   ],
   "source": [
    "img, label = val_data[random.randint(0, len(val_data))]  # choose not normalized data for it to print picture\n",
    "img = img.to(device=device, dtype=torch.double)\n",
    "\n",
    "# (C, H, W)\n",
    "tensor_image = transforms.ToPILImage()(img).convert(\"RGB\")\n",
    "plt.show()\n",
    "\n",
    "\n",
    "best_model.eval()\n",
    "output_tensor = best_model(img.unsqueeze(0))\n",
    "\n",
    "bbox = output_tensor[0][1:5].clone().detach()\n",
    "\n",
    "\n",
    "true_bbox = torch.tensor(\n",
    "    [(int(label[1] * 60)) - int((label[3] / 2) * 60),\n",
    "     int(label[2] * 48) - int((label[4] / 2) * 48),\n",
    "     int(label[3] * 60),\n",
    "     int(label[4] * 48)],\n",
    "    dtype=torch.int)\n",
    "true_bb = [x.item() for x in true_bbox]\n",
    "\n",
    "pred_bbox = torch.tensor(\n",
    "    [(int(bbox[0] * 60)) - int((bbox[2] / 2) * 60),\n",
    "     int(bbox[1] * 48) - int((label[3] / 2) * 48),\n",
    "     int(bbox[2] * 60),\n",
    "     int(bbox[3] * 48)],\n",
    "    dtype=torch.int)\n",
    "\n",
    "\n",
    "tmp = intersection_over_union(pred_bbox, true_bbox)\n",
    "print(f\"Intersection over union is: {tmp[0].item() * 100}\")\n",
    "\n",
    "pred_bb = [x.item() for x in pred_bbox]\n",
    "draw_bounding_box_man(tensor_image, (true_bb[0], true_bb[1]), (pred_bb[0], pred_bb[1]), true_bb[2], pred_bb[2],\n",
    "                      true_bb[3], pred_bb[3])\n",
    "\n",
    "classes_ = torch.nn.functional.softmax(output_tensor[:, 5:], dim=1)  # output_tensor[0, 5:], dim=1)\n",
    "\n",
    "prediction = classes_.squeeze()\n",
    "classification_pred = torch.argmax(prediction)\n",
    "\n",
    "print(f\"Correct label is: {int(label[-1])}\")\n",
    "print(f\"The model prediction is: {classification_pred}\")\n",
    "print(\"=\" * 24, end=\"\\n\")\n",
    "\n",
    "for i, pred in enumerate(prediction):\n",
    "    print(\"Confidence: {pred:.4f} % for element {i}\".format(pred=pred * 100, i=i))"
   ],
   "metadata": {
    "collapsed": false
   }
  },
  {
   "cell_type": "code",
   "execution_count": 22,
   "outputs": [
    {
     "name": "stdout",
     "output_type": "stream",
     "text": [
      "The accuracy of the best model is: 68.22872439986676% in object localization and classification\n"
     ]
    }
   ],
   "source": [
    "test_set_checker = torch.utils.data.DataLoader(test_data_n, shuffle=True)\n",
    "acc = compute_acc(best_model, test_set_checker)\n",
    "print(f\"The accuracy of the best model is: {acc*100}% in object localization and classification\")"
   ],
   "metadata": {
    "collapsed": false
   }
  },
  {
   "cell_type": "code",
   "execution_count": 22,
   "outputs": [],
   "source": [],
   "metadata": {
    "collapsed": false
   }
  }
 ],
 "metadata": {
  "kernelspec": {
   "display_name": "Python 3",
   "language": "python",
   "name": "python3"
  },
  "language_info": {
   "codemirror_mode": {
    "name": "ipython",
    "version": 2
   },
   "file_extension": ".py",
   "mimetype": "text/x-python",
   "name": "python",
   "nbconvert_exporter": "python",
   "pygments_lexer": "ipython2",
   "version": "2.7.6"
  }
 },
 "nbformat": 4,
 "nbformat_minor": 0
}

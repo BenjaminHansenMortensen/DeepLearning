{
 "cells": [
  {
   "cell_type": "code",
   "execution_count": 365,
   "metadata": {
    "collapsed": true,
    "pycharm": {
     "name": "#%%\n"
    }
   },
   "outputs": [],
   "source": [
    "# imports\n",
    "\n",
    "import random\n",
    "from datetime import datetime\n",
    "\n",
    "import matplotlib.pyplot as plt\n",
    "import torch\n",
    "import torch.nn as nn\n",
    "import torch.optim as optim\n",
    "from matplotlib import patches\n",
    "from torch.utils.data import random_split\n",
    "from torchvision import transforms\n",
    "\n",
    "torch.manual_seed(265)\n",
    "torch.set_default_dtype(torch.double)"
   ]
  },
  {
   "cell_type": "raw",
   "source": [
    "Task 2.1\n",
    "Load the 3 localization datasets - there is at most one digit per image\n",
    "Images arre represented (C = 10)\n"
   ],
   "metadata": {
    "collapsed": false,
    "pycharm": {
     "name": "#%% raw\n"
    }
   }
  },
  {
   "cell_type": "code",
   "execution_count": 366,
   "outputs": [],
   "source": [
    "path = '../project_zip/data'\n",
    "train_path = path + '/localization_test.pt'\n",
    "val_path = path + '/localization_val.pt'\n",
    "test_path = path + '/localization_test.pt'\n",
    "device = 'cuda' if torch.cuda.is_available() else 'cpu'\n",
    "\n",
    "# Model parameters\n",
    "EPOCHS = 10  # Epochs\n",
    "BATCH_SIZE = 64  # Batch size\n",
    "KEEP_PROB = 1  # Dropout\n",
    "\n",
    "#Optimizer parameters\n",
    "LR = 1e-2  # Learning Rate\n",
    "BETAS = (0.9, 0.999)  # ADAM Momentum and RSMProp Betas\n",
    "EPSILON = 1e-8  # ADAM Vanishing and Exploding Gradients\n",
    "LAMBDA = 1e-4  # L2 Regularization\n",
    "\n",
    "models = []\n",
    "model_names = []\n",
    "loss_train_list = []\n",
    "loss_val_list = []"
   ],
   "metadata": {
    "collapsed": false,
    "pycharm": {
     "name": "#%%\n"
    }
   }
  },
  {
   "cell_type": "markdown",
   "source": [],
   "metadata": {
    "collapsed": false,
    "pycharm": {
     "name": "#%% md\n"
    }
   }
  },
  {
   "cell_type": "code",
   "execution_count": 367,
   "outputs": [],
   "source": [
    "train_data = torch.load(train_path)\n",
    "val_data = torch.load(val_path)\n",
    "test_data = torch.load(test_path)"
   ],
   "metadata": {
    "collapsed": false,
    "pycharm": {
     "name": "#%%\n"
    }
   }
  },
  {
   "cell_type": "code",
   "execution_count": 368,
   "outputs": [],
   "source": [
    "#################################\n",
    "# Train norm\n",
    "train_all = [x for x, _ in train_data]\n",
    "trainto_one_tensor = torch.stack(train_all)\n",
    "\n",
    "mean = trainto_one_tensor.mean()\n",
    "std = trainto_one_tensor.std()\n",
    "\n",
    "train_data_n = train_data\n",
    "train_data.transform = transforms.Normalize(mean, std)\n",
    "\n",
    "##################################\n",
    "# Val norm\n",
    "val_all = [x for x, _ in val_data]\n",
    "val_to_one_tensor = torch.stack(val_all)\n",
    "\n",
    "mean = val_to_one_tensor.mean()\n",
    "std = val_to_one_tensor.std()\n",
    "\n",
    "val_data_n = val_data\n",
    "val_data_n.transform = transforms.Normalize(mean, std)\n",
    "\n",
    "###################################\n",
    "# Test norm\n",
    "test_all = [x for x, _ in test_data]\n",
    "test_to_one_tensor = torch.stack(test_all)\n",
    "\n",
    "mean = test_to_one_tensor.mean()\n",
    "std = test_to_one_tensor.std()\n",
    "\n",
    "test_data_n = test_data\n",
    "test_data_n.transform = transforms.Normalize(mean, std)\n"
   ],
   "metadata": {
    "collapsed": false,
    "pycharm": {
     "name": "#%%\n"
    }
   }
  },
  {
   "cell_type": "markdown",
   "source": [
    "Normalized datasets are now on the form yyy_n"
   ],
   "metadata": {
    "collapsed": false,
    "pycharm": {
     "name": "#%% md\n"
    }
   }
  },
  {
   "cell_type": "code",
   "execution_count": 369,
   "outputs": [],
   "source": [
    "def print_random_img(data):\n",
    "    x, y = data.__getitem__(random.randint(0, len(data)))\n",
    "    # (C, H, W)\n",
    "    print(x.shape)\n",
    "    tensor_image = transforms.ToPILImage()(x).convert(\"RGB\")\n",
    "    plt.imshow(tensor_image)\n",
    "    plt.show()"
   ],
   "metadata": {
    "collapsed": false,
    "pycharm": {
     "name": "#%%\n"
    }
   }
  },
  {
   "cell_type": "code",
   "execution_count": 370,
   "outputs": [
    {
     "name": "stdout",
     "output_type": "stream",
     "text": [
      "torch.Size([1, 48, 60])\n"
     ]
    },
    {
     "data": {
      "text/plain": "<Figure size 432x288 with 1 Axes>",
      "image/png": "[encoded data removed]"
     },
     "metadata": {
      "needs_background": "light"
     },
     "output_type": "display_data"
    }
   ],
   "source": [
    "print_random_img(train_data)"
   ],
   "metadata": {
    "collapsed": false,
    "pycharm": {
     "name": "#%%\n"
    }
   }
  },
  {
   "cell_type": "markdown",
   "source": [
    "Standard LeNet5 Model:"
   ],
   "metadata": {
    "collapsed": false,
    "pycharm": {
     "name": "#%% md\n"
    }
   }
  },
  {
   "cell_type": "code",
   "execution_count": 371,
   "outputs": [],
   "source": [
    "class Net01(nn.Module):\n",
    "    def __init__(self):\n",
    "        super().__init__()\n",
    "        self.layer1 = torch.nn.Sequential(\n",
    "            nn.Conv2d(in_channels=1, out_channels=6, kernel_size=5),\n",
    "            nn.ReLU(),\n",
    "            nn.MaxPool2d(2),\n",
    "            torch.nn.Dropout(p=1 - KEEP_PROB)\n",
    "        )\n",
    "        self.layer2 = torch.nn.Sequential(\n",
    "            nn.Conv2d(in_channels=6, out_channels=16, kernel_size=5),\n",
    "            nn.ReLU(),\n",
    "            nn.MaxPool2d(2),\n",
    "            torch.nn.Dropout(p=1 - KEEP_PROB)\n",
    "        )\n",
    "        self.layer3 = torch.nn.Sequential(\n",
    "            nn.Linear(in_features=9 * 12 * 16, out_features=120),\n",
    "            nn.ReLU(),\n",
    "            torch.nn.Dropout(p=1 - KEEP_PROB)\n",
    "        )\n",
    "        self.layer4 = torch.nn.Sequential(\n",
    "            nn.Linear(in_features=120, out_features=84),\n",
    "            nn.ReLU(),\n",
    "            torch.nn.Dropout(p=1 - KEEP_PROB)\n",
    "        )\n",
    "        self.fc5 = nn.Linear(in_features=84, out_features=15)\n",
    "\n",
    "    def forward(self, x):\n",
    "        y = self.layer1(x)\n",
    "        y = self.layer2(y)\n",
    "        y = y.view(y.shape[0], -1)\n",
    "        y = self.layer3(y)\n",
    "        y = self.layer4(y)\n",
    "        y = self.fc5(y)\n",
    "\n",
    "        return y"
   ],
   "metadata": {
    "collapsed": false,
    "pycharm": {
     "name": "#%%\n"
    }
   }
  },
  {
   "cell_type": "markdown",
   "source": [
    "Shallow LeNet5 Model:"
   ],
   "metadata": {
    "collapsed": false,
    "pycharm": {
     "name": "#%% md\n"
    }
   }
  },
  {
   "cell_type": "code",
   "execution_count": 372,
   "outputs": [],
   "source": [
    "class Net02(nn.Module):\n",
    "    def __init__(self):\n",
    "        super().__init__()\n",
    "        self.layer1 = torch.nn.Sequential(\n",
    "            nn.Conv2d(in_channels=1, out_channels=3, kernel_size=5),\n",
    "            nn.ReLU(),\n",
    "            nn.MaxPool2d(2),\n",
    "            torch.nn.Dropout(p=1 - KEEP_PROB)\n",
    "        )\n",
    "        self.layer2 = torch.nn.Sequential(\n",
    "            nn.Conv2d(in_channels=3, out_channels=8, kernel_size=5),\n",
    "            nn.ReLU(),\n",
    "            nn.MaxPool2d(2),\n",
    "            torch.nn.Dropout(p=1 - KEEP_PROB)\n",
    "        )\n",
    "        self.layer3 = torch.nn.Sequential(\n",
    "            nn.Linear(in_features=9 * 12 * 8, out_features=84),\n",
    "            nn.ReLU(),\n",
    "            torch.nn.Dropout(p=1 - KEEP_PROB)\n",
    "        )\n",
    "        self.fc4 = nn.Linear(in_features=84, out_features=15)\n",
    "\n",
    "    def forward(self, x):\n",
    "        y = self.layer1(x)\n",
    "        y = self.layer2(y)\n",
    "        y = y.view(y.shape[0], -1)\n",
    "        y = self.layer3(y)\n",
    "        y = self.fc4(y)\n",
    "\n",
    "        return y"
   ],
   "metadata": {
    "collapsed": false,
    "pycharm": {
     "name": "#%%\n"
    }
   }
  },
  {
   "cell_type": "markdown",
   "source": [
    "Deep LeNet5 Model:"
   ],
   "metadata": {
    "collapsed": false,
    "pycharm": {
     "name": "#%% md\n"
    }
   }
  },
  {
   "cell_type": "code",
   "execution_count": 373,
   "outputs": [],
   "source": [
    "class Net03(nn.Module):\n",
    "    def __init__(self):\n",
    "        super().__init__()\n",
    "        self.layer1 = torch.nn.Sequential(\n",
    "            nn.Conv2d(in_channels=1, out_channels=12, kernel_size=5),\n",
    "            nn.ReLU(),\n",
    "            nn.MaxPool2d(2),\n",
    "            torch.nn.Dropout(p=1 - KEEP_PROB)\n",
    "        )\n",
    "        self.layer2 = torch.nn.Sequential(\n",
    "            nn.Conv2d(in_channels=12, out_channels=32, kernel_size=5),\n",
    "            nn.ReLU(),\n",
    "            nn.MaxPool2d(2),\n",
    "            torch.nn.Dropout(p=1 - KEEP_PROB)\n",
    "        )\n",
    "        self.layer3 = torch.nn.Sequential(\n",
    "            nn.Linear(in_features=9 * 12 * 32, out_features=240),\n",
    "            nn.ReLU(),\n",
    "            torch.nn.Dropout(p=1 - KEEP_PROB)\n",
    "        )\n",
    "        self.layer4 = torch.nn.Sequential(\n",
    "            nn.Linear(in_features=240, out_features=168),\n",
    "            nn.ReLU(),\n",
    "            torch.nn.Dropout(p=1 - KEEP_PROB)\n",
    "        )\n",
    "        self.layer5 = torch.nn.Sequential(\n",
    "            nn.Linear(in_features=168, out_features=84),\n",
    "            nn.ReLU(),\n",
    "            torch.nn.Dropout(p=1 - KEEP_PROB)\n",
    "        )\n",
    "        self.fc6 = nn.Linear(in_features=84, out_features=15)\n",
    "\n",
    "    def forward(self, x):\n",
    "        y = self.layer1(x)\n",
    "        y = self.layer2(y)\n",
    "        y = y.view(y.shape[0], -1)\n",
    "        y = self.layer3(y)\n",
    "        y = self.layer4(y)\n",
    "        y = self.layer5(y)\n",
    "        y = self.fc6(y)\n",
    "\n",
    "        return y"
   ],
   "metadata": {
    "collapsed": false,
    "pycharm": {
     "name": "#%%\n"
    }
   }
  },
  {
   "cell_type": "markdown",
   "source": [
    "Custom loss function:"
   ],
   "metadata": {
    "collapsed": false,
    "pycharm": {
     "name": "#%% md\n"
    }
   }
  },
  {
   "cell_type": "code",
   "execution_count": 374,
   "outputs": [],
   "source": [
    "def myLoss(output, target):\n",
    "    # Uses BinaryClassification as a  loss function to train the network to recognize if there is a number in the cell or not\n",
    "    prob = output[:, :1]\n",
    "    probTarget = target[:, :1]\n",
    "    loss_fn = nn.BCEWithLogitsLoss()\n",
    "    loss_prob = loss_fn(prob, probTarget)\n",
    "\n",
    "    # Creates boolean mask based of if there is a number in the cell and filters out all labels where there is no number\n",
    "    outputShape = output.shape[1]\n",
    "    maskOutput = target[:, :1].eq(1).repeat(1, outputShape)\n",
    "    maskTarget = target[:, :1].eq(1).repeat(1, 6)\n",
    "    output = torch.masked_select(output, maskOutput)\n",
    "    target = torch.masked_select(target, maskTarget)\n",
    "    output = output.reshape(int(output.shape[0] / outputShape), outputShape)\n",
    "    target = target.reshape(int(target.shape[0] / 6), 6)\n",
    "\n",
    "    # If there is a number ni the cell it uses MeanSquaredError as a loss function to train the network to find the number's center and its bounding box\n",
    "    bb = output[:, 1:5]\n",
    "    bbTarget = target[:, 1:5].to(dtype=torch.double)\n",
    "    loss_fn = nn.MSELoss()\n",
    "    loss_bb = loss_fn(bb, bbTarget)\n",
    "\n",
    "    # If there is a number in the cell it uses CrossEntropy as a loss function to train the network to classify the numbers\n",
    "    clas = output[:, 5:]\n",
    "    clasTarget = target[:, 5].to(dtype=torch.long)\n",
    "    loss_fn = nn.CrossEntropyLoss()\n",
    "    loss_clas = loss_fn(clas, clasTarget)\n",
    "\n",
    "    return loss_prob + loss_bb + loss_clas"
   ],
   "metadata": {
    "collapsed": false,
    "pycharm": {
     "name": "#%%\n"
    }
   }
  },
  {
   "cell_type": "markdown",
   "source": [
    "Train function:"
   ],
   "metadata": {
    "collapsed": false,
    "pycharm": {
     "name": "#%% md\n"
    }
   }
  },
  {
   "cell_type": "code",
   "execution_count": 375,
   "outputs": [],
   "source": [
    "def train(n_epochs, optimizer, model, train_loader, train_mode):\n",
    "    \"\"\"\n",
    "    Train our model and save weight values\n",
    "    \"\"\"\n",
    "    n_batch = len(train_loader)\n",
    "    losses_train = []\n",
    "    model.train()\n",
    "    optimizer.zero_grad(set_to_none=True)\n",
    "\n",
    "    for epoch in range(1, n_epochs + 1):\n",
    "\n",
    "        loss_train = 0.0\n",
    "        for imgs, labels in train_loader:\n",
    "            imgs = imgs.to(device=device, dtype=torch.double)\n",
    "            labels = labels.to(device=device)\n",
    "\n",
    "            outputs = model(imgs)\n",
    "\n",
    "            loss = myLoss(outputs, labels)\n",
    "            loss.backward()\n",
    "\n",
    "            optimizer.step()\n",
    "            optimizer.zero_grad()\n",
    "\n",
    "            loss_train += loss.item()\n",
    "\n",
    "        losses_train.append(loss_train / n_batch)\n",
    "\n",
    "        print('{}  |  Epoch {}  |  Training loss {:.5f}'.format(\n",
    "            datetime.now().time(), epoch, loss_train / n_batch))\n",
    "    train_mode.append(losses_train)"
   ],
   "metadata": {
    "collapsed": false,
    "pycharm": {
     "name": "#%%\n"
    }
   }
  },
  {
   "cell_type": "markdown",
   "source": [
    "Train N - models\n"
   ],
   "metadata": {
    "collapsed": false,
    "pycharm": {
     "name": "#%% md\n"
    }
   }
  },
  {
   "cell_type": "code",
   "execution_count": 376,
   "outputs": [
    {
     "name": "stdout",
     "output_type": "stream",
     "text": [
      "23:44:59.527290  |  Epoch 1  |  Training loss 2.39718\n",
      "23:45:11.531012  |  Epoch 2  |  Training loss 2.33537\n",
      "23:45:22.719972  |  Epoch 3  |  Training loss 2.33053\n",
      "23:45:33.956398  |  Epoch 4  |  Training loss 2.32760\n",
      "23:45:45.893503  |  Epoch 5  |  Training loss 2.32775\n",
      "23:45:57.930622  |  Epoch 6  |  Training loss 2.32736\n",
      "23:46:09.128931  |  Epoch 7  |  Training loss 2.32769\n",
      "23:46:20.672983  |  Epoch 8  |  Training loss 2.32508\n",
      "23:46:32.493498  |  Epoch 9  |  Training loss 2.32653\n",
      "23:46:44.152346  |  Epoch 10  |  Training loss 2.32608\n"
     ]
    }
   ],
   "source": [
    "train_loader = torch.utils.data.DataLoader(train_data_n, batch_size=BATCH_SIZE, shuffle=True)\n",
    "model01 = Net01().to(device=device)\n",
    "optimizer = optim.Adam(model01.parameters(), lr=LR, betas=BETAS, eps=EPSILON, weight_decay=LAMBDA)\n",
    "train(EPOCHS, optimizer, model01, train_loader, loss_train_list)\n",
    "models.append(model01)\n",
    "model_names.append(\"LeNet Standard \")"
   ],
   "metadata": {
    "collapsed": false,
    "pycharm": {
     "name": "#%%\n"
    }
   }
  },
  {
   "cell_type": "code",
   "execution_count": 377,
   "outputs": [
    {
     "name": "stdout",
     "output_type": "stream",
     "text": [
      "23:46:49.878549  |  Epoch 1  |  Training loss 2.36746\n",
      "23:46:55.555490  |  Epoch 2  |  Training loss 2.32969\n",
      "23:47:01.188545  |  Epoch 3  |  Training loss 2.33306\n",
      "23:47:06.894650  |  Epoch 4  |  Training loss 2.32191\n",
      "23:47:12.582789  |  Epoch 5  |  Training loss 2.22838\n",
      "23:47:18.285151  |  Epoch 6  |  Training loss 2.06632\n",
      "23:47:23.974342  |  Epoch 7  |  Training loss 1.97308\n",
      "23:47:29.645321  |  Epoch 8  |  Training loss 1.90372\n",
      "23:47:35.314613  |  Epoch 9  |  Training loss 1.79666\n",
      "23:47:41.012192  |  Epoch 10  |  Training loss 1.72412\n"
     ]
    }
   ],
   "source": [
    "train_loader = torch.utils.data.DataLoader(train_data_n, batch_size=BATCH_SIZE, shuffle=True)\n",
    "model02 = Net02().to(device=device)\n",
    "optimizer = optim.Adam(model02.parameters(), lr=LR, betas=BETAS, eps=EPSILON, weight_decay=LAMBDA)\n",
    "train(EPOCHS, optimizer, model02, train_loader, loss_train_list)\n",
    "models.append(model02)\n",
    "model_names.append(\"LeNet Shallow \")"
   ],
   "metadata": {
    "collapsed": false,
    "pycharm": {
     "name": "#%%\n"
    }
   }
  },
  {
   "cell_type": "code",
   "execution_count": 378,
   "outputs": [
    {
     "name": "stdout",
     "output_type": "stream",
     "text": [
      "23:47:58.584246  |  Epoch 1  |  Training loss 2.42280\n",
      "23:48:18.831750  |  Epoch 2  |  Training loss 2.33212\n",
      "23:48:38.473747  |  Epoch 3  |  Training loss 2.33088\n",
      "23:48:58.151886  |  Epoch 4  |  Training loss 2.32961\n",
      "23:49:17.877501  |  Epoch 5  |  Training loss 2.32951\n",
      "23:49:37.814904  |  Epoch 6  |  Training loss 2.32739\n",
      "23:49:57.793066  |  Epoch 7  |  Training loss 2.32821\n",
      "23:50:17.830487  |  Epoch 8  |  Training loss 2.32773\n",
      "23:50:40.151515  |  Epoch 9  |  Training loss 2.32707\n",
      "23:51:00.625937  |  Epoch 10  |  Training loss 2.32784\n"
     ]
    }
   ],
   "source": [
    "train_loader = torch.utils.data.DataLoader(train_data_n, batch_size=BATCH_SIZE, shuffle=True)\n",
    "model03 = Net03().to(device=device)\n",
    "optimizer = optim.Adam(model03.parameters(), lr=LR, betas=BETAS, eps=EPSILON, weight_decay=LAMBDA)\n",
    "train(EPOCHS, optimizer, model03, train_loader, loss_train_list)\n",
    "models.append(model03)\n",
    "model_names.append(\"LeNet Deep\")"
   ],
   "metadata": {
    "collapsed": false,
    "pycharm": {
     "name": "#%%\n"
    }
   }
  },
  {
   "cell_type": "markdown",
   "source": [
    "In order to measure our models, we have created this custom accuracy function that can find out how our model performs.\n",
    "This should count the accuracy of the predicted boudning box as well as the predicted class."
   ],
   "metadata": {
    "collapsed": false,
    "pycharm": {
     "name": "#%% md\n"
    }
   }
  },
  {
   "cell_type": "code",
   "execution_count": 379,
   "outputs": [],
   "source": [
    "\"\"\"\n",
    "Code is inspired from this youtube video:\n",
    "https://www.youtube.com/watch?v=XXYG5ZWtjj0&t=160s&ab_channel=AladdinPersson\n",
    "\"\"\"\n",
    "def intersection_over_union(pred_box: torch.tensor, label_box: torch.tensor):\n",
    "    # pred_box shape should be (N, 4), where N is the number of bboxs\n",
    "    # label_box shape is (N, 4)\n",
    "\n",
    "    box1_x1 = pred_box[..., 0:1] - pred_box[..., 2:3] / 2\n",
    "    box1_y1 = pred_box[..., 1:2] - pred_box[..., 3:4] / 2\n",
    "    box1_x2 = pred_box[..., 0:1] + pred_box[..., 2:3] / 2\n",
    "    box1_y2 = pred_box[..., 1:2] + pred_box[..., 3:4] / 2\n",
    "\n",
    "    box2_x1 = label_box[..., 0:1] - label_box[..., 2:3] / 2\n",
    "    box2_y1 = label_box[..., 1:2] - label_box[..., 3:4] / 2\n",
    "    box2_x2 = label_box[..., 0:1] + label_box[..., 2:3] / 2\n",
    "    box2_y2 = label_box[..., 1:2] + label_box[..., 3:4] / 2\n",
    "\n",
    "    x1 = torch.max(box1_x1, box2_x1)\n",
    "    y1 = torch.max(box1_y1, box2_y1)\n",
    "    x2 = torch.min(box1_x2, box2_x2)\n",
    "    y2 = torch.min(box1_y2, box2_y2)\n",
    "\n",
    "    intersection = (x2 - x1).clamp(0) * (y2 - y1).clamp(0)\n",
    "\n",
    "    box1_area = abs((box1_x2 - box1_x1) * (box1_y2 - box1_y1))\n",
    "    box2_area = abs((box2_x2 - box2_x1) * (box2_y2 - box2_y1))\n",
    "\n",
    "    return intersection / (box1_area + box2_area - intersection + 1e-6)\n"
   ],
   "metadata": {
    "collapsed": false,
    "pycharm": {
     "name": "#%%\n"
    }
   }
  },
  {
   "cell_type": "code",
   "execution_count": 380,
   "outputs": [],
   "source": [
    "def find_highest_acc(output):\n",
    "    output = output.squeeze()\n",
    "    classes = [x.item() for x in output]\n",
    "\n",
    "    classes = classes[5:]\n",
    "    highest_pred = max(classes)\n",
    "    index = (classes.index(max(classes)))\n",
    "    # print(f\"highest pred: {highest_pred} at {index}\")\n",
    "    return index\n",
    "\n",
    "\n",
    "def get_vals(tensor: torch.tensor):\n",
    "    \"\"\"\n",
    "    :param tensor:\n",
    "    :return x, y, w, h:\n",
    "    \"\"\"\n",
    "    tens = tensor[0][1:5].clone().detach()\n",
    "    return torch.tensor(\n",
    "        [(int(tens[0] * 60)) - int((tens[2] / 2) * 60),\n",
    "         int(tens[1] * 48) - int((tens[3] / 2) * 48),\n",
    "         int(tens[2] * 60),\n",
    "         int(tens[3] * 48)],\n",
    "        dtype=torch.int)\n",
    "\n",
    "\n",
    "def compute_acc(model, loader):\n",
    "    correct = 0.\n",
    "    total = 0.\n",
    "    IoU = 0\n",
    "    with torch.no_grad():\n",
    "        model.eval()\n",
    "        for imgs, labels in loader:\n",
    "            imgs = imgs.to(device=device, dtype=torch.double)\n",
    "            labels = labels.to(device=device)\n",
    "            output = model(imgs)\n",
    "            IoU += intersection_over_union(get_vals(labels), get_vals(output))\n",
    "            output = output.squeeze()\n",
    "            output[5:] = torch.nn.functional.softmax(output[5:].clone(), dim=0)\n",
    "            true_class = int(labels[0][-1].item())\n",
    "            predicted_class = find_highest_acc(output)\n",
    "            if true_class == predicted_class:\n",
    "                correct += 1\n",
    "                total += 1\n",
    "            else:\n",
    "                total += 1\n",
    "\n",
    "    return ((correct + IoU) / total).item()"
   ],
   "metadata": {
    "collapsed": false,
    "pycharm": {
     "name": "#%%\n"
    }
   }
  },
  {
   "cell_type": "code",
   "execution_count": 381,
   "outputs": [],
   "source": [
    "SMOOTH = 1e-6\n",
    "\n",
    "\n",
    "def iou_pytorch(outputs: torch.Tensor, labels: torch.Tensor):\n",
    "    # You can comment out this line if you are passing tensors of equal shape\n",
    "    # But if you are passing output from UNet or something it will most probably\n",
    "    # be with the BATCH x 1 x H x W shape\n",
    "    # outputs = outputs.squeeze(1)  # BATCH x 1 x H x W => BATCH x H x W\n",
    "    outputs = outputs.unsqueeze(dim=1)\n",
    "    labels = outputs.unsqueeze(dim=1)\n",
    "\n",
    "    print(outputs.shape)\n",
    "    print(labels.shape)\n",
    "    intersection = (outputs & labels).float().sum((1, 2))  # Will be zero if Truth=0 or Prediction=0\n",
    "    union = (outputs | labels).float().sum((1, 2))  # Will be zero if both are 0\n",
    "\n",
    "    iou = (intersection + SMOOTH) / (union + SMOOTH)  # We smooth our devision to avoid 0/0\n",
    "\n",
    "    thresholded = torch.clamp(20 * (iou - 0.5), 0, 10).ceil() / 10  # This is equal to comparing with thresolds\n",
    "\n",
    "    return thresholded"
   ],
   "metadata": {
    "collapsed": false,
    "pycharm": {
     "name": "#%%\n"
    }
   }
  },
  {
   "cell_type": "markdown",
   "source": [
    "Loss of each model"
   ],
   "metadata": {
    "collapsed": false,
    "pycharm": {
     "name": "#%% md\n"
    }
   }
  },
  {
   "cell_type": "code",
   "execution_count": 382,
   "outputs": [
    {
     "data": {
      "text/plain": "<Figure size 1512x360 with 3 Axes>",
      "image/png": "[encoded data removed]"
     },
     "metadata": {
      "needs_background": "light"
     },
     "output_type": "display_data"
    }
   ],
   "source": [
    "n_model = len(models)\n",
    "\n",
    "fig, axes = plt.subplots(1, n_model, figsize=(7 * n_model, 5), sharey=True, squeeze=False)\n",
    "\n",
    "for l_train, name, ax in zip(loss_train_list, model_names, axes.flat):\n",
    "    ax.plot(l_train, label='train', color=random.choice(['r', 'b', 'y', 'g', 'c', 'm']))\n",
    "    ax.set_title(str(name))\n",
    "    ax.set_xlabel('Epochs')\n",
    "    ax.set_ylabel('Loss')\n",
    "    ax.legend()\n",
    "\n",
    "plt.show()"
   ],
   "metadata": {
    "collapsed": false,
    "pycharm": {
     "name": "#%%\n"
    }
   }
  },
  {
   "cell_type": "markdown",
   "source": [
    "Best model is:"
   ],
   "metadata": {
    "collapsed": false,
    "pycharm": {
     "name": "#%% md\n"
    }
   }
  },
  {
   "cell_type": "markdown",
   "source": [],
   "metadata": {
    "collapsed": false,
    "pycharm": {
     "name": "#%% md\n"
    }
   }
  },
  {
   "cell_type": "code",
   "execution_count": 383,
   "outputs": [
    {
     "name": "stdout",
     "output_type": "stream",
     "text": [
      "Accuracy of model 1 was: 22.150680646793944\n",
      "Accuracy of model 2 was: 66.0179731171727\n",
      "Accuracy of model 3 was: 23.319331612517498\n"
     ]
    }
   ],
   "source": [
    "model_score = []\n",
    "for i, model in enumerate(models):\n",
    "    val_loader = torch.utils.data.DataLoader(val_data_n, shuffle=False)\n",
    "    model_perf = compute_acc(model, val_loader) * 100\n",
    "    model_score.append(model_perf)\n",
    "    print(f\"Accuracy of model {i + 1} was: {model_perf}\")\n",
    "\n",
    "best_model = models[(model_score.index(max(model_score)))]"
   ],
   "metadata": {
    "collapsed": false,
    "pycharm": {
     "name": "#%%\n"
    }
   }
  },
  {
   "cell_type": "markdown",
   "source": [],
   "metadata": {
    "collapsed": false,
    "pycharm": {
     "name": "#%% md\n"
    }
   }
  },
  {
   "cell_type": "code",
   "execution_count": 384,
   "outputs": [],
   "source": [
    "def draw_bounding_box_man(pan, true_tup, pred_tup, true_w, pred_w, true_h, pred_h):\n",
    "    fig, ax = plt.subplots(1)\n",
    "    ax.imshow(pan)\n",
    "    true_x = true_tup[0]\n",
    "    true_y = true_tup[1]\n",
    "    true_bb = patches.Rectangle((true_x, true_y), true_w, true_h, linewidth=3, edgecolor='r',\n",
    "                                facecolor='none')\n",
    "    pred_bb = patches.Rectangle((pred_tup[0], pred_tup[1]), pred_w, pred_h, linewidth=3, edgecolor='b',\n",
    "                                facecolor='none')\n",
    "\n",
    "    ax.add_patch(true_bb)\n",
    "    ax.add_patch(pred_bb)\n",
    "\n",
    "    plt.show()"
   ],
   "metadata": {
    "collapsed": false,
    "pycharm": {
     "name": "#%%\n"
    }
   }
  },
  {
   "cell_type": "raw",
   "source": [
    "About the code below:\n",
    "Tried to create a manual sample run of a random elem in the test set.\n",
    "Found the model to be quite in - accurate, and not able to find correct predicted value.\n",
    "\n",
    "#todo\n",
    "- Predicted bounding box / width height - print on picture.\n",
    "- Is the model correct?\n",
    "- Mby try other conv - models now that loss function is implemented\n"
   ],
   "metadata": {
    "collapsed": false,
    "pycharm": {
     "name": "#%% raw\n"
    }
   }
  },
  {
   "cell_type": "code",
   "execution_count": 385,
   "outputs": [
    {
     "name": "stdout",
     "output_type": "stream",
     "text": [
      "Tot parameters: 74621 \n",
      "Number of param p/layer: [75, 3, 600, 8, 72576, 84, 1260, 15]\n"
     ]
    },
    {
     "data": {
      "text/plain": "<Figure size 432x288 with 1 Axes>",
      "image/png": "[encoded data removed]"
     },
     "metadata": {
      "needs_background": "light"
     },
     "output_type": "display_data"
    },
    {
     "name": "stdout",
     "output_type": "stream",
     "text": [
      "Predicted BB - box coordinates: \n",
      "Intersection over union is: 0.0\n"
     ]
    },
    {
     "data": {
      "text/plain": "<Figure size 432x288 with 1 Axes>",
      "image/png": "[encoded data removed]"
     },
     "metadata": {
      "needs_background": "light"
     },
     "output_type": "display_data"
    },
    {
     "name": "stdout",
     "output_type": "stream",
     "text": [
      "Correct label was: 1\n",
      "========================\n",
      "Acc: 7.7469 % for elem 0\n",
      "Acc: 23.8251 % for elem 1\n",
      "Acc: 3.3475 % for elem 2\n",
      "Acc: 4.4369 % for elem 3\n",
      "Acc: 12.2430 % for elem 4\n",
      "Acc: 3.2315 % for elem 5\n",
      "Acc: 8.6055 % for elem 6\n",
      "Acc: 9.6910 % for elem 7\n",
      "Acc: 11.0524 % for elem 8\n",
      "Acc: 15.8202 % for elem 9\n"
     ]
    }
   ],
   "source": [
    "num_l = [p.numel() for p in best_model.parameters()]\n",
    "print(f\"Tot parameters: {sum(num_l)} \\nNumber of param p/layer: {num_l}\")\n",
    "\n",
    "# We can feed a picture into our model:\n",
    "img, label = val_data[random.randint(0, len(val_data))]  # choose not normalized data for it to print picture\n",
    "img = img.to(device=device, dtype=torch.double)\n",
    "\n",
    "# (C, H, W)\n",
    "tensor_image = transforms.ToPILImage()(img).convert(\"RGB\")\n",
    "plt.imshow(tensor_image)\n",
    "plt.show()\n",
    "\n",
    "########\n",
    "# feed image into Model01\n",
    "best_model.eval()\n",
    "output_tensor = best_model(img.unsqueeze(0))\n",
    "\n",
    "bbox = output_tensor[0][1:5].clone().detach()\n",
    "\n",
    "# true_bbox = label\n",
    "\n",
    "true_bbox = torch.tensor(\n",
    "    [(int(label[1] * 60)) - int((label[3] / 2) * 60),\n",
    "     int(label[2] * 48) - int((label[4] / 2) * 48),\n",
    "     int(label[3] * 60),\n",
    "     int(label[4] * 48)],\n",
    "    dtype=torch.int)\n",
    "true_bb = [x.item() for x in true_bbox]\n",
    "\n",
    "print(\"Predicted BB - box coordinates: \")\n",
    "pred_bbox = torch.tensor(\n",
    "    [(int(bbox[0] * 60)) - int((bbox[2] / 2) * 60),\n",
    "     int(bbox[1] * 48) - int((label[3] / 2) * 48),\n",
    "     int(bbox[2] * 60),\n",
    "     int(bbox[3] * 48)],\n",
    "    dtype=torch.int)\n",
    "\n",
    "t1_box1 = bbox[0:4].clone().detach()\n",
    "lt1_box2 = label[1:5].clone().detach()\n",
    "# tmp = intersection_over_union(t1_box1, lt1_box2)\n",
    "tmp = intersection_over_union(pred_bbox, true_bbox)\n",
    "print(f\"Intersection over union is: {tmp[0].item() * 100}\")\n",
    "\n",
    "pred_bb = [x.item() for x in pred_bbox]\n",
    "draw_bounding_box_man(tensor_image, (true_bb[0], true_bb[1]), (pred_bb[0], pred_bb[1]), true_bb[2], pred_bb[2],\n",
    "                      true_bb[3], pred_bb[3])\n",
    "\n",
    "print(f\"Correct label was: {int(label[-1])}\")\n",
    "print(\"=\" * 24, end=\"\\n\")\n",
    "\n",
    "classes_ = torch.nn.functional.softmax(output_tensor[:, 5:], dim=1)  # output_tensor[0, 5:], dim=1)\n",
    "\n",
    "for i, pred in enumerate(classes_.squeeze()):\n",
    "    print(\"Acc: {pred:.4f} % for elem {i}\".format(pred=pred * 100, i=i))\n",
    "    # print(f\"Acc: {pred} for elem {i}\")\n"
   ],
   "metadata": {
    "collapsed": false,
    "pycharm": {
     "name": "#%%\n"
    }
   }
  },
  {
   "cell_type": "markdown",
   "source": [
    "After the best model has been choosen, we need to evaluate the best model by testing it with our test data set."
   ],
   "metadata": {
    "collapsed": false,
    "pycharm": {
     "name": "#%% md\n"
    }
   }
  },
  {
   "cell_type": "code",
   "execution_count": 386,
   "outputs": [
    {
     "name": "stdout",
     "output_type": "stream",
     "text": [
      "The accuracy of the best model is: 72.47698400812781\n"
     ]
    }
   ],
   "source": [
    "test_set_checker = torch.utils.data.DataLoader(test_data_n, shuffle=True)\n",
    "tmp = compute_acc(model02, test_set_checker)\n",
    "print(f\"The accuracy of the best model is: {tmp*100}\")"
   ],
   "metadata": {
    "collapsed": false,
    "pycharm": {
     "name": "#%%\n"
    }
   }
  },
  {
   "cell_type": "code",
   "execution_count": 386,
   "outputs": [],
   "source": [],
   "metadata": {
    "collapsed": false,
    "pycharm": {
     "name": "#%%\n"
    }
   }
  }
 ],
 "metadata": {
  "kernelspec": {
   "display_name": "Python 3",
   "language": "python",
   "name": "python3"
  },
  "language_info": {
   "codemirror_mode": {
    "name": "ipython",
    "version": 2
   },
   "file_extension": ".py",
   "mimetype": "text/x-python",
   "name": "python",
   "nbconvert_exporter": "python",
   "pygments_lexer": "ipython2",
   "version": "2.7.6"
  }
 },
 "nbformat": 4,
 "nbformat_minor": 0
}
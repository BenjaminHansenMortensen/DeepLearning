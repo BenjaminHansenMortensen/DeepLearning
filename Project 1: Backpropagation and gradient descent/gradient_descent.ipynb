{
 "cells": [
  {
   "cell_type": "code",
   "execution_count": 15,
   "metadata": {
    "collapsed": true
   },
   "outputs": [],
   "source": [
    "# imports\n",
    "\n",
    "from datetime import datetime\n",
    "\n",
    "import matplotlib.pyplot as plt\n",
    "import torch\n",
    "import torch.nn as nn\n",
    "import torch.optim as optim\n",
    "from torch.utils.data import random_split\n",
    "from torchvision import datasets, transforms\n",
    "import numpy as np\n",
    "torch.manual_seed(265)\n",
    "torch.set_default_dtype(torch.double)"
   ]
  },
  {
   "cell_type": "code",
   "execution_count": 16,
   "outputs": [
    {
     "name": "stdout",
     "output_type": "stream",
     "text": [
      "Files already downloaded and verified\n",
      "Files already downloaded and verified\n"
     ]
    }
   ],
   "source": [
    "split_ratio = 0.9\n",
    "\n",
    "\n",
    "def load_cifar(train_val_split, data_path='../data/', preprocessor=None):\n",
    "    if preprocessor is None:\n",
    "        preprocessor = transforms.Compose([\n",
    "            transforms.ToTensor(),\n",
    "            # This normalization data points correspond to the\n",
    "            # mean & standard deviation for cifar10. Weeckly task(03)\n",
    "            transforms.Normalize((0.4915, 0.4823, 0.4468),\n",
    "                                 (0.2470, 0.2435, 0.2616))\n",
    "        ])\n",
    "\n",
    "    # load datasets\n",
    "    data_train_val = datasets.CIFAR10(\n",
    "        data_path,\n",
    "        train=True,\n",
    "        download=True,\n",
    "        transform=preprocessor)\n",
    "\n",
    "    test_set = datasets.CIFAR10(\n",
    "        data_path,\n",
    "        train=False,\n",
    "        download=True,\n",
    "        transform=preprocessor)\n",
    "\n",
    "    # train/validation split\n",
    "    n_train = int(len(data_train_val) * train_val_split)\n",
    "    n_val = len(data_train_val) - n_train\n",
    "\n",
    "    train_set, val_set = random_split(\n",
    "        data_train_val,\n",
    "        [n_train, n_val],\n",
    "        generator=torch.Generator().manual_seed(265)\n",
    "    )\n",
    "    return train_set, val_set, test_set\n",
    "\n",
    "\n",
    "cifar10_train, cifar10_val, cifar10_test = load_cifar(split_ratio)  # contains all elem of cifar dataset\n"
   ],
   "metadata": {
    "collapsed": false,
    "pycharm": {
     "name": "#%%\n"
    }
   }
  },
  {
   "cell_type": "code",
   "execution_count": 17,
   "outputs": [
    {
     "name": "stdout",
     "output_type": "stream",
     "text": [
      "45000\n"
     ]
    }
   ],
   "source": [
    "print(len(cifar10_train))"
   ],
   "metadata": {
    "collapsed": false,
    "pycharm": {
     "name": "#%%\n"
    }
   }
  },
  {
   "cell_type": "code",
   "execution_count": 18,
   "outputs": [],
   "source": [
    "# Similar to weekly excersise nbr 03_custom_modules\n",
    "label_map = {0: 0, 2: 1}\n",
    "class_names = ['airplane', 'bird']\n",
    "\n",
    "# For each dataset, keep only airplanes and birds\n",
    "# is now a tuple with only images of birds & planes with their respective label\n",
    "train_set = [(img, label_map[label]) for img, label in cifar10_train if\n",
    "             label in [0, 2]]  # stripped down versions of cifar datasets with only birds & planes\n",
    "val_set = [(img, label_map[label]) for img, label in cifar10_val if\n",
    "           label in [0, 2]]  # stripped down versions of cifar datasets with only birds & planes\n",
    "test_set = [(img, label_map[label]) for img, label in cifar10_test if\n",
    "            label in [0, 2]]  # stripped down versions of cifar datasets with only birds & planes"
   ],
   "metadata": {
    "collapsed": false,
    "pycharm": {
     "name": "#%%\n"
    }
   }
  },
  {
   "cell_type": "code",
   "execution_count": 19,
   "outputs": [
    {
     "name": "stdout",
     "output_type": "stream",
     "text": [
      "8987\n",
      "torch.Size([3, 32, 32])\n"
     ]
    }
   ],
   "source": [
    "# For my own sake, just to visualize\n",
    "print(len(train_set))\n",
    "print(train_set[0][0].shape)"
   ],
   "metadata": {
    "collapsed": false,
    "pycharm": {
     "name": "#%%\n"
    }
   }
  },
  {
   "cell_type": "code",
   "execution_count": 20,
   "outputs": [],
   "source": [
    "# implement a MyMLP\n",
    "\n",
    "class MyMLP(nn.Module):\n",
    "    # mlp = multilayer perceptron\n",
    "    def __init__(self):\n",
    "        super().__init__()\n",
    "        self.flat = nn.Flatten()\n",
    "\n",
    "        self.fc1 = nn.Linear(32 * 32 * 3, 512)  # input dimension (\"30722\")\n",
    "        self.activation1 = nn.ReLU()\n",
    "\n",
    "        self.fc2 = nn.Linear(512, 256)\n",
    "        self.activation2 = nn.ReLU()\n",
    "\n",
    "        self.fc3 = nn.Linear(256, 128)  # output dimension 2 (\"birds/planes\")\n",
    "        self.activation3 = nn.ReLU()\n",
    "\n",
    "        self.fc4 = nn.Linear(128, 32)\n",
    "        self.activation4 = nn.ReLU()\n",
    "\n",
    "        self.fc5 = nn.Linear(32, 2)\n",
    "\n",
    "    def forward(self, x):\n",
    "        out = self.flat(x)\n",
    "        out = self.activation1(self.fc1(out))\n",
    "        out = self.activation2(self.fc2(out))\n",
    "        out = self.activation3(self.fc3(out))\n",
    "        out = self.activation4(self.fc4(out))\n",
    "        return self.fc5(out)\n"
   ],
   "metadata": {
    "collapsed": false,
    "pycharm": {
     "name": "#%%\n"
    }
   }
  },
  {
   "cell_type": "code",
   "execution_count": 21,
   "outputs": [
    {
     "name": "stdout",
     "output_type": "stream",
     "text": [
      "MyMLP(\n",
      "  (flat): Flatten(start_dim=1, end_dim=-1)\n",
      "  (fc1): Linear(in_features=3072, out_features=512, bias=True)\n",
      "  (activation1): ReLU()\n",
      "  (fc2): Linear(in_features=512, out_features=256, bias=True)\n",
      "  (activation2): ReLU()\n",
      "  (fc3): Linear(in_features=256, out_features=128, bias=True)\n",
      "  (activation3): ReLU()\n",
      "  (fc4): Linear(in_features=128, out_features=32, bias=True)\n",
      "  (activation4): ReLU()\n",
      "  (fc5): Linear(in_features=32, out_features=2, bias=True)\n",
      ")\n"
     ]
    }
   ],
   "source": [
    "model = MyMLP()\n",
    "\n",
    "print(model)"
   ],
   "metadata": {
    "collapsed": false,
    "pycharm": {
     "name": "#%%\n"
    }
   }
  },
  {
   "cell_type": "code",
   "execution_count": 22,
   "outputs": [],
   "source": [
    "def train(n_epochs, optimizer, model, loss_fn, train_loader):\n",
    "    n_batch = len(train_loader)\n",
    "    losses_train = []\n",
    "    model.train()\n",
    "    optimizer.zero_grad(set_to_none=True)\n",
    "\n",
    "    for epoch in range(1, n_epochs + 1):\n",
    "\n",
    "        loss_train = 0.0\n",
    "        for data in train_loader:\n",
    "            images, labels = data\n",
    "\n",
    "            images = images.to(device=device)\n",
    "            labels = labels.to(device=device)\n",
    "\n",
    "            outputs = model(images)\n",
    "\n",
    "            loss = loss_fn(outputs, labels)\n",
    "            loss.backward()\n",
    "\n",
    "            optimizer.step()\n",
    "            optimizer.zero_grad()\n",
    "\n",
    "            loss_train += loss.item()\n",
    "\n",
    "        losses_train.append(loss_train / n_batch)\n",
    "\n",
    "        if epoch == 1 or epoch % 10 == 0:\n",
    "            print('{}  |  Epoch {}  |  Training loss {:.3f}'.format(\n",
    "                datetime.now().time(), epoch, loss_train / n_batch))\n",
    "    return losses_train"
   ],
   "metadata": {
    "collapsed": false,
    "pycharm": {
     "name": "#%%\n"
    }
   }
  },
  {
   "cell_type": "code",
   "execution_count": 23,
   "outputs": [],
   "source": [
    "def train_manual_update(n_epochs, model, loss_fn, train_loader, lr, weight_decay=0., dampening=0., momentum=0.):\n",
    "    n_batch = len(train_loader)\n",
    "    losses_train = []\n",
    "    model.train = []\n",
    "\n",
    "    v_dic = {name: 0 for name, p in model.named_parameters()}\n",
    "\n",
    "    for epoch in range(1, n_epochs + 1):\n",
    "        loss_train = 0.0\n",
    "\n",
    "        for imgs, labels in train_loader:\n",
    "            imgs = imgs.to(device=device)\n",
    "            labels = labels.to(device=device)\n",
    "\n",
    "            # do the normal things\n",
    "            prediction = model(imgs)\n",
    "            loss = loss_fn(prediction, labels)\n",
    "            loss.backward()  # compute gradients (weight / bias)\n",
    "\n",
    "            # OPTIMIZE part:\n",
    "            with torch.no_grad():  # dont track gradients operations\n",
    "                for name, p in model.named_parameters():  # Updates the weights and biases\n",
    "                    v = momentum * v_dic[name] + p.grad + p.data * weight_decay  # Calculates the velocity whilst accounting for weight decay\n",
    "                    p.data = p.data - v * lr  # Updates the biases and weights with new velocity\n",
    "\n",
    "                    v_dic[name] = v  # Stores the new velocity\n",
    "                    p.grad.data.zero_()  # Zeros out the grads\n",
    "\n",
    "                loss_train += loss.item()\n",
    "        losses_train.append(loss_train / n_batch)\n",
    "\n",
    "        if epoch == 1 or epoch % 10 == 0:\n",
    "            print('{}  |  Epoch {}  |  Training loss {:.3f}'.format(\n",
    "                datetime.now().time(), epoch, loss_train / n_batch))\n",
    "    return losses_train\n",
    "\n"
   ],
   "metadata": {
    "collapsed": false,
    "pycharm": {
     "name": "#%%\n"
    }
   }
  },
  {
   "cell_type": "code",
   "execution_count": 24,
   "outputs": [
    {
     "name": "stdout",
     "output_type": "stream",
     "text": [
      "Total number of parameters:  1741794\n",
      "Number of parameter per layer:  [1572864, 512, 131072, 256, 32768, 128, 4096, 32, 64, 2]\n",
      "Output: \n",
      " tensor([[-0.1170, -0.0035]], grad_fn=<AddmmBackward0>)\n"
     ]
    }
   ],
   "source": [
    "\n",
    "numel_list = [p.numel() for p in model.parameters()]\n",
    "print(\"Total number of parameters: \", sum(numel_list))\n",
    "print(\"Number of parameter per layer: \", numel_list)\n",
    "\n",
    "img, _ = train_set[0]\n",
    "# Again we can feed a input and get the output exactly the same way as before\n",
    "output_tensor = model(img.unsqueeze(0))\n",
    "print(\"Output: \\n\", output_tensor)"
   ],
   "metadata": {
    "collapsed": false,
    "pycharm": {
     "name": "#%%\n"
    }
   }
  },
  {
   "cell_type": "code",
   "execution_count": 25,
   "outputs": [
    {
     "name": "stdout",
     "output_type": "stream",
     "text": [
      "Training on device cpu.\n"
     ]
    }
   ],
   "source": [
    "device = (torch.device('cuda') if torch.cuda.is_available()\n",
    "          else torch.device('cpu'))\n",
    "print(f\"Training on device {device}.\")\n",
    "\n",
    "epochs = 60\n",
    "batch_size_global = 2048"
   ],
   "metadata": {
    "collapsed": false,
    "pycharm": {
     "name": "#%%\n"
    }
   }
  },
  {
   "cell_type": "code",
   "execution_count": 26,
   "outputs": [],
   "source": [
    "models = []\n",
    "model_names = []\n",
    "loss_es_train = []"
   ],
   "metadata": {
    "collapsed": false,
    "pycharm": {
     "name": "#%%\n"
    }
   }
  },
  {
   "cell_type": "code",
   "execution_count": 27,
   "outputs": [
    {
     "name": "stdout",
     "output_type": "stream",
     "text": [
      "Training on function: train() \n",
      "15:54:47.687511  |  Epoch 1  |  Training loss 0.693\n",
      "15:55:07.546424  |  Epoch 10  |  Training loss 0.685\n",
      "15:55:27.354681  |  Epoch 20  |  Training loss 0.675\n",
      "15:55:47.417927  |  Epoch 30  |  Training loss 0.660\n",
      "15:56:07.593450  |  Epoch 40  |  Training loss 0.637\n",
      "15:56:27.893137  |  Epoch 50  |  Training loss 0.608\n",
      "15:56:47.987724  |  Epoch 60  |  Training loss 0.577\n"
     ]
    }
   ],
   "source": [
    "print(f\"Training on function: train() \")\n",
    "torch.manual_seed(265)\n",
    "\n",
    "train_loader = torch.utils.data.DataLoader(train_set, batch_size=batch_size_global, shuffle=False)\n",
    "model = MyMLP().to(device=device)\n",
    "optimizer = optim.SGD(model.parameters(), lr=0.01, weight_decay=0., dampening=0., momentum=0.)\n",
    "loss_fn = nn.CrossEntropyLoss()\n",
    "\n",
    "loss_tr = train(\n",
    "    n_epochs=epochs,\n",
    "    optimizer=optimizer,\n",
    "    model=model,\n",
    "    loss_fn=loss_fn,\n",
    "    train_loader=train_loader,\n",
    ")\n"
   ],
   "metadata": {
    "collapsed": false,
    "pycharm": {
     "name": "#%%\n"
    }
   }
  },
  {
   "cell_type": "code",
   "execution_count": 28,
   "outputs": [
    {
     "name": "stdout",
     "output_type": "stream",
     "text": [
      "Training on function: train_manual_update() \n",
      "15:56:50.295376  |  Epoch 1  |  Training loss 0.693\n",
      "15:57:09.143289  |  Epoch 10  |  Training loss 0.685\n",
      "15:57:30.619233  |  Epoch 20  |  Training loss 0.675\n",
      "15:57:51.680577  |  Epoch 30  |  Training loss 0.660\n",
      "15:58:13.494668  |  Epoch 40  |  Training loss 0.637\n",
      "15:58:34.538916  |  Epoch 50  |  Training loss 0.608\n",
      "15:58:55.636876  |  Epoch 60  |  Training loss 0.577\n"
     ]
    }
   ],
   "source": [
    "print(f\"Training on function: train_manual_update() \")\n",
    "torch.manual_seed(265)\n",
    "\n",
    "train_loader = torch.utils.data.DataLoader(train_set, batch_size=batch_size_global, shuffle=False)\n",
    "model = MyMLP().to(device=device)\n",
    "loss_fn = nn.CrossEntropyLoss()\n",
    "\n",
    "loss_ = train_manual_update(  # naked manual update - without l2 reg and momentum\n",
    "    n_epochs=epochs,\n",
    "    model=model,\n",
    "    loss_fn=loss_fn,\n",
    "    lr=1e-2,\n",
    "    train_loader=train_loader,\n",
    "    weight_decay=0.,\n",
    "    dampening=0.,\n",
    "    momentum=0.\n",
    ")\n",
    "models.append(model)\n",
    "model_names.append(\"Manual_update default values, lr=1e-2, mom=0, w=0.\")\n",
    "loss_es_train.append(loss_)"
   ],
   "metadata": {
    "collapsed": false,
    "pycharm": {
     "name": "#%%\n"
    }
   }
  },
  {
   "cell_type": "raw",
   "source": [
    "As we can see from the output of train() and train_manual_update, the ouput training loss is the same in both instances."
   ],
   "metadata": {
    "collapsed": false,
    "pycharm": {
     "name": "#%% raw\n"
    }
   }
  },
  {
   "cell_type": "code",
   "execution_count": 29,
   "outputs": [
    {
     "name": "stdout",
     "output_type": "stream",
     "text": [
      "Training on function: train_manual_update() \n",
      "15:58:57.724360  |  Epoch 1  |  Training loss 0.693\n",
      "15:59:16.641137  |  Epoch 10  |  Training loss 0.671\n",
      "15:59:37.688196  |  Epoch 20  |  Training loss 0.618\n",
      "15:59:58.858152  |  Epoch 30  |  Training loss 0.540\n",
      "16:00:19.230157  |  Epoch 40  |  Training loss 0.489\n",
      "16:00:39.476690  |  Epoch 50  |  Training loss 0.458\n",
      "16:00:59.632882  |  Epoch 60  |  Training loss 0.432\n"
     ]
    }
   ],
   "source": [
    "print(f\"Training on function: train_manual_update() \")\n",
    "torch.manual_seed(265)\n",
    "\n",
    "train_loader = torch.utils.data.DataLoader(train_set, batch_size=batch_size_global, shuffle=False)\n",
    "model = MyMLP().to(device=device)\n",
    "loss_fn = nn.CrossEntropyLoss()\n",
    "\n",
    "loss_ = train_manual_update(  # naked manual update - without l2 reg and momentum\n",
    "    n_epochs=epochs,\n",
    "    model=model,\n",
    "    loss_fn=loss_fn,\n",
    "    lr=1e-2,\n",
    "    train_loader=train_loader,\n",
    "    weight_decay=1e-5,\n",
    "    dampening=0.,\n",
    "    momentum=0.6\n",
    ")\n",
    "models.append(model)\n",
    "model_names.append(\"Manual_update, lr=1e-2, mom=0.6, w=1e-5\")\n",
    "loss_es_train.append(loss_)"
   ],
   "metadata": {
    "collapsed": false,
    "pycharm": {
     "name": "#%%\n"
    }
   }
  },
  {
   "cell_type": "code",
   "execution_count": 30,
   "outputs": [
    {
     "name": "stdout",
     "output_type": "stream",
     "text": [
      "Training on function: train_manual_update() \n",
      "16:01:01.731202  |  Epoch 1  |  Training loss 0.693\n",
      "16:01:19.931538  |  Epoch 10  |  Training loss 0.669\n",
      "16:01:40.212453  |  Epoch 20  |  Training loss 0.605\n",
      "16:02:00.431015  |  Epoch 30  |  Training loss 0.525\n",
      "16:02:20.639877  |  Epoch 40  |  Training loss 0.479\n",
      "16:02:41.000569  |  Epoch 50  |  Training loss 0.450\n",
      "16:03:01.280535  |  Epoch 60  |  Training loss 0.423\n"
     ]
    }
   ],
   "source": [
    "print(f\"Training on function: train_manual_update() \")\n",
    "torch.manual_seed(265)\n",
    "train_loader = torch.utils.data.DataLoader(train_set, batch_size=batch_size_global, shuffle=False)\n",
    "model = MyMLP().to(device=device)\n",
    "loss_fn = nn.CrossEntropyLoss()\n",
    "\n",
    "loss_ = train_manual_update(  # naked manual update - without l2 reg and momentum\n",
    "    n_epochs=epochs,\n",
    "    model=model,\n",
    "    loss_fn=loss_fn,\n",
    "    lr=1e-2,\n",
    "    train_loader=train_loader,\n",
    "    weight_decay=1e-2,\n",
    "    dampening=0.,\n",
    "    momentum=0.66\n",
    ")\n",
    "models.append(model)\n",
    "model_names.append(\"Manual_update, lr=1e-2, mom=0.66, w=1e-2\")\n",
    "loss_es_train.append(loss_)"
   ],
   "metadata": {
    "collapsed": false,
    "pycharm": {
     "name": "#%%\n"
    }
   }
  },
  {
   "cell_type": "markdown",
   "source": [],
   "metadata": {
    "collapsed": false,
    "pycharm": {
     "name": "#%% md\n"
    }
   }
  },
  {
   "cell_type": "raw",
   "source": [
    "Output from train() and train_manual_update() should have the same output.\n",
    "Train_manual_update now uses the trainable parameters inwhich I access via the model.parameters()."
   ],
   "metadata": {
    "collapsed": false,
    "pycharm": {
     "name": "#%% raw\n"
    }
   }
  },
  {
   "cell_type": "code",
   "execution_count": 31,
   "outputs": [
    {
     "name": "stdout",
     "output_type": "stream",
     "text": [
      "Training on function: train_manual_update() \n",
      "16:03:03.380113  |  Epoch 1  |  Training loss 0.689\n",
      "16:03:22.306338  |  Epoch 10  |  Training loss 0.531\n",
      "16:03:43.378931  |  Epoch 20  |  Training loss 0.515\n",
      "16:04:04.476230  |  Epoch 30  |  Training loss 0.505\n"
     ]
    }
   ],
   "source": [
    "print(f\"Training on function: train_manual_update() \")\n",
    "torch.manual_seed(265)\n",
    "train_loader = torch.utils.data.DataLoader(train_set, batch_size=batch_size_global, shuffle=False)\n",
    "model = MyMLP().to(device=device)\n",
    "loss_fn = nn.CrossEntropyLoss()\n",
    "\n",
    "loss_ = train_manual_update(  # naked manual update - without l2 reg and momentum\n",
    "    n_epochs=30,\n",
    "    model=model,\n",
    "    loss_fn=loss_fn,\n",
    "    lr=1e-1,\n",
    "    train_loader=train_loader,\n",
    "    weight_decay=1e-1,\n",
    "    dampening=0.,\n",
    "    momentum=0.8\n",
    ")\n",
    "models.append(model)\n",
    "model_names.append(\"Manual_update custom, lr=1e-1, mom=0.8, w=1e-1\")\n",
    "loss_es_train.append(loss_)"
   ],
   "metadata": {
    "collapsed": false,
    "pycharm": {
     "name": "#%%\n"
    }
   }
  },
  {
   "cell_type": "code",
   "execution_count": 32,
   "outputs": [
    {
     "data": {
      "text/plain": "<Figure size 2016x360 with 4 Axes>",
      "image/png": "[encoded data removed]"
     },
     "metadata": {
      "needs_background": "light"
     },
     "output_type": "display_data"
    }
   ],
   "source": [
    "n_model = len(models)\n",
    "\n",
    "fig, axes = plt.subplots(1, n_model, figsize=(7 * n_model, 5), sharey=True)\n",
    "\n",
    "for l_train, name, ax in zip(loss_es_train, model_names, axes.flat):\n",
    "    ax.plot(l_train, label='train')\n",
    "    ax.set_title(name)\n",
    "    ax.set_xlabel('Epochs')\n",
    "    ax.set_ylabel('Cross Entropy Loss')\n",
    "    ax.legend()\n",
    "\n",
    "plt.show()"
   ],
   "metadata": {
    "collapsed": false,
    "pycharm": {
     "name": "#%%\n"
    }
   }
  },
  {
   "cell_type": "code",
   "execution_count": 33,
   "outputs": [
    {
     "name": "stdout",
     "output_type": "stream",
     "text": [
      "Accuracy: 0.754 Manual_update default values, lr=1e-2, mom=0, w=0.\n",
      "Accuracy: 0.812 Manual_update, lr=1e-2, mom=0.6, w=1e-5\n",
      "Accuracy: 0.813 Manual_update, lr=1e-2, mom=0.66, w=1e-2\n",
      "Accuracy: 0.792 Manual_update custom, lr=1e-1, mom=0.8, w=1e-1\n",
      "\n",
      "The best model is  Manual_update, lr=1e-2, mom=0.66, w=1e-2\n",
      "\n",
      "\n",
      "Training accuracy of the best model: \n",
      "Accuracy: 0.823 \n",
      "Validation accuracy of the best model: \n",
      "Accuracy: 0.813 \n"
     ]
    }
   ],
   "source": [
    "def compute_accuracy(model, loader, name):\n",
    "    correct = 0.\n",
    "    total = 0.\n",
    "    with torch.no_grad():\n",
    "        for imgs, labels in loader:\n",
    "            imgs = imgs.to(device=device)\n",
    "            labels = labels.to(device=device)\n",
    "\n",
    "            outputs = model(imgs)\n",
    "            _, predicted = torch.max(outputs, dim=1)\n",
    "            total += labels.shape[0]\n",
    "            correct += int((predicted == labels).sum())\n",
    "\n",
    "    acc =  correct / total\n",
    "\n",
    "\n",
    "    print(f\"Accuracy: {acc :.3f} {name}\")\n",
    "    return acc\n",
    "\n",
    "train_loader = torch.utils.data.DataLoader(train_set, batch_size=batch_size_global, shuffle=False)\n",
    "val_loader = torch.utils.data.DataLoader(val_set, batch_size=batch_size_global, shuffle=False)\n",
    "\n",
    "accuracies = []\n",
    "for model, model_nam in zip(models, model_names):\n",
    "    accuracies.append(compute_accuracy(model, val_loader, model_nam))\n",
    "\n",
    "i_best_model = np.argmax(accuracies)\n",
    "best_model = models[i_best_model]\n",
    "print(\"\\nThe best model is \", model_names[i_best_model])\n",
    "\n",
    "print(\"\\n\")\n",
    "print(\"Training accuracy of the best model: \")\n",
    "compute_accuracy(best_model, train_loader, '')\n",
    "print(\"Validation accuracy of the best model: \")\n",
    "var = compute_accuracy(best_model, val_loader, '')"
   ],
   "metadata": {
    "collapsed": false,
    "pycharm": {
     "name": "#%%\n"
    }
   }
  },
  {
   "cell_type": "markdown",
   "source": [
    "#Model evalulation"
   ],
   "metadata": {
    "collapsed": false,
    "pycharm": {
     "name": "#%% md\n"
    }
   }
  },
  {
   "cell_type": "code",
   "execution_count": 34,
   "outputs": [
    {
     "name": "stdout",
     "output_type": "stream",
     "text": [
      "Accuracy: 0.819 \n",
      "The accuracy of the best model is: 0.819\n"
     ]
    }
   ],
   "source": [
    "test_loader = torch.utils.data.DataLoader(test_set, batch_size=batch_size_global, shuffle=True)\n",
    "\n",
    "print(f\"The accuracy of the best model is: {compute_accuracy(best_model, test_loader, '')}\")"
   ],
   "metadata": {
    "collapsed": false,
    "pycharm": {
     "name": "#%%\n"
    }
   }
  }
 ],
 "metadata": {
  "kernelspec": {
   "display_name": "Python 3",
   "language": "python",
   "name": "python3"
  },
  "language_info": {
   "codemirror_mode": {
    "name": "ipython",
    "version": 2
   },
   "file_extension": ".py",
   "mimetype": "text/x-python",
   "name": "python",
   "nbconvert_exporter": "python",
   "pygments_lexer": "ipython2",
   "version": "2.7.6"
  }
 },
 "nbformat": 4,
 "nbformat_minor": 0
}